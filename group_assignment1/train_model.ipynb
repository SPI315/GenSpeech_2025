{
 "cells": [
  {
   "cell_type": "code",
   "execution_count": 1,
   "id": "5fd3f2c5",
   "metadata": {},
   "outputs": [],
   "source": [
    "import os\n",
    "import pandas as pd\n",
    "import torchaudio\n",
    "from torch.utils.data import Dataset\n",
    "from torchaudio.transforms import Resample\n",
    "from num2words import num2words"
   ]
  },
  {
   "cell_type": "code",
   "execution_count": null,
   "id": "1de2a8d6",
   "metadata": {},
   "outputs": [],
   "source": [
    "class NumberASRDataset(Dataset):\n",
    "    def __init__(self, csv_path, audio_dir, target_sample_rate=16000, transform=None):\n",
    "        self.csv = pd.read_csv(csv_path)\n",
    "        self.audio_dir = audio_dir\n",
    "        self.target_sample_rate = target_sample_rate\n",
    "        self.transform = transform\n",
    "\n",
    "    def __len__(self):\n",
    "        return len(self.csv)\n",
    "\n",
    "    def __getitem__(self, idx):\n",
    "        row = self.csv.iloc[idx]\n",
    "        audio_path = os.path.join(self.audio_dir, os.path.basename(row[\"filename\"]))\n",
    "\n",
    "        waveform, sample_rate = torchaudio.load(audio_path)\n",
    "\n",
    "        if sample_rate != self.target_sample_rate:\n",
    "            resampler = Resample(\n",
    "                orig_freq=sample_rate, new_freq=self.target_sample_rate\n",
    "            )\n",
    "            waveform = resampler(waveform)\n",
    "\n",
    "        if waveform.shape[0] > 1:\n",
    "            waveform = waveform.mean(dim=0, keepdim=True)\n",
    "\n",
    "        if self.transform:\n",
    "            waveform = self.transform(waveform)\n",
    "\n",
    "        number = int(row[\"transcription\"])\n",
    "        text = num2words(number, lang=\"ru\", to=\"cardinal\")\n",
    "\n",
    "        return waveform, text"
   ]
  },
  {
   "cell_type": "code",
   "execution_count": null,
   "id": "232912ba",
   "metadata": {},
   "outputs": [
    {
     "name": "stdout",
     "output_type": "stream",
     "text": [
      "torch.Size([1, 48706])\n",
      "сто тридцать девять тысяч четыреста семьдесят три\n"
     ]
    }
   ],
   "source": [
    "dataset = NumberASRDataset(\n",
    "    csv_path=\"data/train.csv\",\n",
    "    audio_dir=\"data/train\",\n",
    "    target_sample_rate=16000,\n",
    ")\n",
    "\n",
    "waveform, text = dataset[0]\n",
    "print(waveform.shape)\n",
    "print(text)"
   ]
  },
  {
   "cell_type": "code",
   "execution_count": null,
   "id": "09adb21c",
   "metadata": {},
   "outputs": [],
   "source": [
    "from torch.nn.utils.rnn import pad_sequence\n",
    "import torch\n",
    "\n",
    "\n",
    "def collate_fn(batch, tokenizer):\n",
    "    waveforms = []\n",
    "    waveform_lengths = []\n",
    "    targets = []\n",
    "    target_lengths = []\n",
    "\n",
    "    for waveform, text in batch:\n",
    "        waveforms.append(waveform.squeeze(0))\n",
    "        waveform_lengths.append(waveform.shape[-1])\n",
    "\n",
    "        tokenized = torch.tensor(tokenizer(text), dtype=torch.long)\n",
    "        targets.append(tokenized)\n",
    "        target_lengths.append(len(tokenized))\n",
    "\n",
    "    waveforms = pad_sequence(waveforms, batch_first=True).unsqueeze(1)\n",
    "\n",
    "    targets = pad_sequence(targets, batch_first=True, padding_value=0)\n",
    "\n",
    "    waveform_lengths = torch.tensor(waveform_lengths, dtype=torch.long)\n",
    "    target_lengths = torch.tensor(target_lengths, dtype=torch.long)\n",
    "\n",
    "    return {\n",
    "        \"waveforms\": waveforms,\n",
    "        \"waveform_lengths\": waveform_lengths,\n",
    "        \"targets\": targets,\n",
    "        \"target_lengths\": target_lengths,\n",
    "    }"
   ]
  },
  {
   "cell_type": "code",
   "execution_count": null,
   "id": "7a81f7c1",
   "metadata": {},
   "outputs": [],
   "source": [
    "class SimpleTokenizer:\n",
    "    def __init__(self, alphabet):\n",
    "        self.alphabet = sorted(list(set(alphabet)))\n",
    "        self.char2idx = {c: i + 1 for i, c in enumerate(self.alphabet)}\n",
    "        self.idx2char = {i + 1: c for i, c in enumerate(self.alphabet)}\n",
    "\n",
    "    def __call__(self, text):\n",
    "        return [self.char2idx[c] for c in text if c in self.char2idx]\n",
    "\n",
    "    def decode(self, indices):\n",
    "        return \"\".join([self.idx2char[i] for i in indices if i != 0])\n",
    "\n",
    "    def vocab_size(self):\n",
    "        return len(self.char2idx) + 1"
   ]
  },
  {
   "cell_type": "code",
   "execution_count": null,
   "id": "f7929b99",
   "metadata": {},
   "outputs": [
    {
     "name": "stdout",
     "output_type": "stream",
     "text": [
      "torch.Size([8, 1, 66988])\n",
      "tensor([66988, 54004, 66245, 53590, 47735, 50472, 51200, 44388])\n",
      "torch.Size([8, 56])\n",
      "tensor([55, 52, 46, 56, 46, 49, 55, 43])\n"
     ]
    }
   ],
   "source": [
    "alphabet = \" абвгдеёжзийклмнопрстуфхцчшщъыьэюя0123456789-\"\n",
    "\n",
    "\n",
    "tokenizer = SimpleTokenizer(alphabet)\n",
    "\n",
    "\n",
    "from torch.utils.data import DataLoader\n",
    "\n",
    "train_loader = DataLoader(\n",
    "    dataset,\n",
    "    batch_size=8,\n",
    "    shuffle=True,\n",
    "    collate_fn=lambda batch: collate_fn(batch, tokenizer),\n",
    ")\n",
    "\n",
    "\n",
    "batch = next(iter(train_loader))\n",
    "print(batch[\"waveforms\"].shape)\n",
    "print(batch[\"waveform_lengths\"])\n",
    "print(batch[\"targets\"].shape)\n",
    "print(batch[\"target_lengths\"])"
   ]
  },
  {
   "cell_type": "code",
   "execution_count": null,
   "id": "18cd6627",
   "metadata": {},
   "outputs": [],
   "source": [
    "import torch.nn as nn\n",
    "\n",
    "\n",
    "class SmallASRModel(nn.Module):\n",
    "    def __init__(self, vocab_size):\n",
    "        super().__init__()\n",
    "        self.conv = nn.Sequential(\n",
    "            nn.Conv1d(1, 32, kernel_size=5, stride=2, padding=2),\n",
    "            nn.ReLU(),\n",
    "            nn.Conv1d(32, 64, kernel_size=5, stride=2, padding=2),\n",
    "            nn.ReLU(),\n",
    "        )\n",
    "\n",
    "        self.encoder = nn.LSTM(\n",
    "            input_size=64,\n",
    "            hidden_size=128,\n",
    "            num_layers=2,\n",
    "            batch_first=True,\n",
    "            bidirectional=True,\n",
    "        )\n",
    "\n",
    "        self.classifier = nn.Linear(128 * 2, vocab_size)\n",
    "\n",
    "    def forward(self, x, lengths):\n",
    "        x = self.conv(x)\n",
    "        print(x.shape)\n",
    "        lengths = lengths // 4\n",
    "        x = x.permute(0, 2, 1)\n",
    "\n",
    "        x = nn.utils.rnn.pack_padded_sequence(\n",
    "            x, lengths.cpu(), batch_first=True, enforce_sorted=False\n",
    "        )\n",
    "        x, _ = self.encoder(x)\n",
    "        x, _ = nn.utils.rnn.pad_packed_sequence(x, batch_first=True)\n",
    "\n",
    "        logits = self.classifier(x)\n",
    "        return logits"
   ]
  },
  {
   "cell_type": "code",
   "execution_count": null,
   "id": "4e4e825e",
   "metadata": {},
   "outputs": [
    {
     "name": "stdout",
     "output_type": "stream",
     "text": [
      "Total parameters: 0.62M\n"
     ]
    }
   ],
   "source": [
    "model = SmallASRModel(vocab_size=len(alphabet))\n",
    "params = sum(p.numel() for p in model.parameters())\n",
    "print(f\"Total parameters: {params/1e6:.2f}M\")"
   ]
  },
  {
   "cell_type": "code",
   "execution_count": null,
   "id": "12014bd5",
   "metadata": {},
   "outputs": [
    {
     "name": "stdout",
     "output_type": "stream",
     "text": [
      "torch.Size([8, 1, 63087])\n",
      "tensor([40331, 56778, 63087, 49560, 49556, 45502, 54365, 55346])\n",
      "torch.Size([8, 64, 15772])\n"
     ]
    }
   ],
   "source": [
    "import torch.optim as optim\n",
    "import torch.nn.functional as F\n",
    "\n",
    "device = torch.device(\"cuda\" if torch.cuda.is_available() else \"cpu\")\n",
    "model = SmallASRModel(vocab_size=len(alphabet)).to(device)\n",
    "\n",
    "optimizer = optim.Adam(model.parameters(), lr=1e-3)\n",
    "ctc_loss = nn.CTCLoss(blank=0, zero_infinity=True)\n",
    "\n",
    "for epoch in range(10):\n",
    "    model.train()\n",
    "    total_loss = 0\n",
    "\n",
    "    for batch in train_loader:\n",
    "        waveforms = batch[\"waveforms\"].to(device)\n",
    "        waveform_lengths = batch[\"waveform_lengths\"].to(device)\n",
    "        targets = batch[\"targets\"].to(device)\n",
    "        target_lengths = batch[\"target_lengths\"].to(device)\n",
    "\n",
    "        optimizer.zero_grad()\n",
    "        print(waveforms.shape)\n",
    "        print(waveform_lengths)\n",
    "        logits = model(waveforms, waveform_lengths)\n",
    "\n",
    "        log_probs = F.log_softmax(logits, dim=-1)\n",
    "        input_lengths = torch.full(\n",
    "            size=(log_probs.size(0),), fill_value=log_probs.size(1), dtype=torch.long\n",
    "        ).to(device)\n",
    "\n",
    "        loss = ctc_loss(\n",
    "            log_probs.permute(1, 0, 2),\n",
    "            targets,\n",
    "            input_lengths,\n",
    "            target_lengths,\n",
    "        )\n",
    "\n",
    "        loss.backward()\n",
    "        optimizer.step()\n",
    "\n",
    "        total_loss += loss.item()\n",
    "\n",
    "    print(f\"Epoch {epoch+1}: Loss {total_loss / len(train_loader):.4f}\")"
   ]
  }
 ],
 "metadata": {
  "kernelspec": {
   "display_name": "venv",
   "language": "python",
   "name": "python3"
  },
  "language_info": {
   "codemirror_mode": {
    "name": "ipython",
    "version": 3
   },
   "file_extension": ".py",
   "mimetype": "text/x-python",
   "name": "python",
   "nbconvert_exporter": "python",
   "pygments_lexer": "ipython3",
   "version": "3.12.10"
  }
 },
 "nbformat": 4,
 "nbformat_minor": 5
}
