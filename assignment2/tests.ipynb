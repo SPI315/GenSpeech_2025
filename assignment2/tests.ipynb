{
 "cells": [
  {
   "cell_type": "code",
   "execution_count": null,
   "id": "e6c2a2d3",
   "metadata": {},
   "outputs": [
    {
     "name": "stderr",
     "output_type": "stream",
     "text": [
      "c:\\Users\\1\\Documents\\ITMO\\GenSpeech_2025\\venv\\Lib\\site-packages\\tqdm\\auto.py:21: TqdmWarning: IProgress not found. Please update jupyter and ipywidgets. See https://ipywidgets.readthedocs.io/en/stable/user_install.html\n",
      "  from .autonotebook import tqdm as notebook_tqdm\n"
     ]
    }
   ],
   "source": [
    "import torchaudio\n",
    "import Levenshtein\n",
    "import itertools\n",
    "\n",
    "from wav2vec2decoder import Wav2Vec2Decoder"
   ]
  },
  {
   "cell_type": "code",
   "execution_count": 13,
   "id": "1a6b6ce4",
   "metadata": {},
   "outputs": [],
   "source": [
    "test_samples = [\n",
    "    (\n",
    "        \"examples/sample1.wav\",\n",
    "        \"IF YOU ARE GENEROUS HERE IS A FITTING OPPORTUNITY FOR THE EXERCISE OF YOUR MAGNANIMITY IF YOU ARE PROUD HERE AM I YOUR RIVAL READY TO ACKNOWLEDGE MYSELF YOUR DEBTOR FOR AN ACT OF THE MOST NOBLE FORBEARANCE\",\n",
    "    ),\n",
    "    (\n",
    "        \"examples/sample2.wav\",\n",
    "        \"AND IF ANY OF THE OTHER COPS HAD PRIVATE RACKETS OF THEIR OWN IZZY WAS UNDOUBTEDLY THE MAN TO FIND IT OUT AND USE THE INFORMATION WITH A BEAT SUCH AS THAT EVEN GOING HALVES AND WITH ALL THE GRAFT TO THE UPPER BRACKETS HE'D STILL BE ABLE TO MAKE HIS PILE IN A MATTER OF MONTHS\",\n",
    "    ),\n",
    "    (\n",
    "        \"examples/sample3.wav\",\n",
    "        \"GUESS A MAN GETS USED TO ANYTHING HELL MAYBE I CAN HIRE SOME BUMS TO SIT AROUND AND WHOOP IT UP WHEN THE SHIPS COME IN AND BILL THIS AS A REAL OLD MARTIAN DEN OF SIN\",\n",
    "    ),\n",
    "    (\n",
    "        \"examples/sample4.wav\",\n",
    "        \"IT WAS A TUNE THEY HAD ALL HEARD HUNDREDS OF TIMES SO THERE WAS NO DIFFICULTY IN TURNING OUT A PASSABLE IMITATION OF IT TO THE IMPROVISED STRAINS OF I DIDN'T WANT TO DO IT THE PRISONER STRODE FORTH TO FREEDOM\",\n",
    "    ),\n",
    "    (\n",
    "        \"examples/sample5.wav\",\n",
    "        \"MARGUERITE TIRED OUT WITH THIS LONG CONFESSION THREW HERSELF BACK ON THE SOFA AND TO STIFLE A SLIGHT COUGH PUT UP HER HANDKERCHIEF TO HER LIPS AND FROM THAT TO HER EYES\",\n",
    "    ),\n",
    "    (\n",
    "        \"examples/sample6.wav\",\n",
    "        \"AT THIS TIME ALL PARTICIPANTS ARE IN A LISTEN ONLY MODE\",\n",
    "    ),\n",
    "    (\n",
    "        \"examples/sample7.wav\",\n",
    "        \"THE INCREASE WAS MAINLY ATTRIBUTABLE TO THE NET INCREASE IN THE AVERAGE SIZE OF OUR FLEETS\",\n",
    "    ),\n",
    "    (\n",
    "        \"examples/sample8.wav\",\n",
    "        \"OPERATING SURPLUS IS A NON CAP FINANCIAL MEASURE WHICH IS DEFINED AS FULLY IN OUR PRESS RELEASE\",\n",
    "    ),\n",
    "]"
   ]
  },
  {
   "cell_type": "code",
   "execution_count": 29,
   "id": "a5d51ecd",
   "metadata": {},
   "outputs": [
    {
     "name": "stderr",
     "output_type": "stream",
     "text": [
      "Some weights of Wav2Vec2ForCTC were not initialized from the model checkpoint at facebook/wav2vec2-base-960h and are newly initialized: ['wav2vec2.masked_spec_embed']\n",
      "You should probably TRAIN this model on a down-stream task to be able to use it for predictions and inference.\n"
     ]
    }
   ],
   "source": [
    "decoder = Wav2Vec2Decoder(lm_model_path=\"lm/3-gram.pruned.1e-7.arpa\")\n",
    "\n",
    "alphas = [0.5, 1.0, 3]\n",
    "betas = [0.5, 5]\n",
    "beam_widths = [5, 10]"
   ]
  },
  {
   "cell_type": "code",
   "execution_count": 27,
   "id": "b10e7933",
   "metadata": {},
   "outputs": [
    {
     "name": "stdout",
     "output_type": "stream",
     "text": [
      "================================================================================\n",
      "Results | beam_width=5 | distances = [10, 5, 5, 8, 2, 16, 19, 15], avg_distance = 10.0\n",
      "================================================================================\n",
      "Results | beam_width=10 | distances = [10, 5, 5, 8, 2, 17, 19, 15], avg_distance = 10.125\n"
     ]
    }
   ],
   "source": [
    "for beam_width in beam_widths:\n",
    "    decoder.beam_width = beam_width\n",
    "\n",
    "    distances = []\n",
    "    for audio_path, true_transcription in test_samples:\n",
    "        audio_input, sr = torchaudio.load(audio_path)\n",
    "        \n",
    "        transcript = decoder.decode(audio_input, method=\"beam_lm_rescore\").strip()\n",
    "        \n",
    "        dist = Levenshtein.distance(true_transcription, transcript)\n",
    "        distances.append(dist)\n",
    "    avg_dist = sum(distances) / len(distances)\n",
    "    print(\"=\" * 80)\n",
    "    print(\n",
    "        f\"Results | beam_width={beam_width} | distances = {distances}, avg_distance = {avg_dist}\"\n",
    "    )"
   ]
  },
  {
   "cell_type": "code",
   "execution_count": 30,
   "id": "3b963bf9",
   "metadata": {},
   "outputs": [
    {
     "name": "stdout",
     "output_type": "stream",
     "text": [
      "================================================================================\n",
      "Results | α=0.5, β=0.5, beam_width=5 | distances = [10, 5, 5, 8, 2, 16, 19, 15], avg_distance = 10.0\n",
      "================================================================================\n",
      "Results | α=0.5, β=0.5, beam_width=10 | distances = [10, 5, 5, 8, 2, 17, 19, 15], avg_distance = 10.125\n",
      "================================================================================\n",
      "Results | α=0.5, β=5, beam_width=5 | distances = [10, 5, 5, 8, 2, 15, 19, 15], avg_distance = 9.875\n",
      "================================================================================\n",
      "Results | α=0.5, β=5, beam_width=10 | distances = [10, 5, 5, 8, 2, 15, 19, 15], avg_distance = 9.875\n",
      "================================================================================\n",
      "Results | α=1.0, β=0.5, beam_width=5 | distances = [10, 5, 5, 8, 2, 16, 19, 15], avg_distance = 10.0\n",
      "================================================================================\n",
      "Results | α=1.0, β=0.5, beam_width=10 | distances = [10, 5, 5, 8, 2, 17, 19, 15], avg_distance = 10.125\n",
      "================================================================================\n",
      "Results | α=1.0, β=5, beam_width=5 | distances = [10, 5, 5, 8, 2, 16, 19, 15], avg_distance = 10.0\n",
      "================================================================================\n",
      "Results | α=1.0, β=5, beam_width=10 | distances = [10, 5, 5, 8, 2, 15, 19, 15], avg_distance = 9.875\n",
      "================================================================================\n",
      "Results | α=3, β=0.5, beam_width=5 | distances = [10, 5, 5, 8, 2, 16, 19, 15], avg_distance = 10.0\n",
      "================================================================================\n",
      "Results | α=3, β=0.5, beam_width=10 | distances = [10, 5, 5, 8, 2, 17, 19, 15], avg_distance = 10.125\n",
      "================================================================================\n",
      "Results | α=3, β=5, beam_width=5 | distances = [10, 5, 5, 8, 2, 16, 19, 15], avg_distance = 10.0\n",
      "================================================================================\n",
      "Results | α=3, β=5, beam_width=10 | distances = [10, 5, 5, 8, 2, 17, 19, 15], avg_distance = 10.125\n"
     ]
    }
   ],
   "source": [
    "for alpha, beta, beam_width in itertools.product(alphas, betas, beam_widths):\n",
    "    decoder.alpha = alpha\n",
    "    decoder.beta = beta\n",
    "    decoder.beam_width = beam_width\n",
    "\n",
    "    distances = []\n",
    "    for audio_path, true_transcription in test_samples:\n",
    "        audio_input, sr = torchaudio.load(audio_path)\n",
    "        \n",
    "        transcript = decoder.decode(audio_input, method=\"beam_lm_rescore\").strip()\n",
    "        \n",
    "        dist = Levenshtein.distance(true_transcription, transcript)\n",
    "        distances.append(dist)\n",
    "    avg_dist = sum(distances) / len(distances)\n",
    "    print(\"=\" * 80)\n",
    "    print(\n",
    "        f\"Results | α={alpha}, β={beta}, beam_width={beam_width} | distances = {distances}, avg_distance = {avg_dist}\"\n",
    "    )"
   ]
  },
  {
   "cell_type": "code",
   "execution_count": 31,
   "id": "58a066fb",
   "metadata": {},
   "outputs": [
    {
     "name": "stdout",
     "output_type": "stream",
     "text": [
      "================================================================================\n",
      "Results | α=0.5, β=0.5, beam_width=5 | distances = [11, 6, 6, 8, 2, 20, 25, 20], avg_distance = 12.25\n",
      "================================================================================\n",
      "Results | α=0.5, β=0.5, beam_width=10 | distances = [12, 9, 6, 7, 2, 20, 25, 21], avg_distance = 12.75\n",
      "================================================================================\n",
      "Results | α=0.5, β=5, beam_width=5 | distances = [11, 11, 7, 12, 3, 20, 17, 17], avg_distance = 12.25\n",
      "================================================================================\n",
      "Results | α=0.5, β=5, beam_width=10 | distances = [15, 36, 8, 12, 3, 25, 17, 25], avg_distance = 17.625\n",
      "================================================================================\n",
      "Results | α=1.0, β=0.5, beam_width=5 | distances = [18, 20, 19, 15, 7, 23, 24, 24], avg_distance = 18.75\n",
      "================================================================================\n",
      "Results | α=1.0, β=0.5, beam_width=10 | distances = [31, 22, 28, 16, 8, 35, 33, 26], avg_distance = 24.875\n",
      "================================================================================\n",
      "Results | α=1.0, β=5, beam_width=5 | distances = [13, 12, 10, 12, 5, 17, 21, 21], avg_distance = 13.875\n",
      "================================================================================\n",
      "Results | α=1.0, β=5, beam_width=10 | distances = [13, 31, 10, 15, 5, 17, 21, 25], avg_distance = 17.125\n",
      "================================================================================\n",
      "Results | α=3, β=0.5, beam_width=5 | distances = [83, 153, 104, 92, 89, 45, 68, 75], avg_distance = 88.625\n",
      "================================================================================\n",
      "Results | α=3, β=0.5, beam_width=10 | distances = [138, 206, 141, 113, 153, 55, 68, 63], avg_distance = 117.125\n",
      "================================================================================\n",
      "Results | α=3, β=5, beam_width=5 | distances = [51, 75, 70, 38, 55, 25, 50, 53], avg_distance = 52.125\n",
      "================================================================================\n",
      "Results | α=3, β=5, beam_width=10 | distances = [43, 106, 94, 45, 37, 51, 44, 56], avg_distance = 59.5\n"
     ]
    }
   ],
   "source": [
    "for alpha, beta, beam_width in itertools.product(alphas, betas, beam_widths):\n",
    "    decoder.alpha = alpha\n",
    "    decoder.beta = beta\n",
    "    decoder.beam_width = beam_width\n",
    "\n",
    "    distances = []\n",
    "    for audio_path, true_transcription in test_samples:\n",
    "        audio_input, sr = torchaudio.load(audio_path)\n",
    "\n",
    "        transcript = decoder.decode(audio_input, method=\"beam_lm\").strip()\n",
    "        \n",
    "        dist = Levenshtein.distance(true_transcription, transcript)\n",
    "        distances.append(dist)\n",
    "    avg_dist = sum(distances) / len(distances)\n",
    "    print(\"=\" * 80)\n",
    "    print(\n",
    "        f\"Results | α={alpha}, β={beta}, beam_width={beam_width} | distances = {distances}, avg_distance = {avg_dist}\"\n",
    "    )"
   ]
  },
  {
   "cell_type": "code",
   "execution_count": 32,
   "id": "058df58b",
   "metadata": {},
   "outputs": [
    {
     "name": "stderr",
     "output_type": "stream",
     "text": [
      "Some weights of Wav2Vec2ForCTC were not initialized from the model checkpoint at facebook/wav2vec2-base-960h and are newly initialized: ['wav2vec2.masked_spec_embed']\n",
      "You should probably TRAIN this model on a down-stream task to be able to use it for predictions and inference.\n"
     ]
    }
   ],
   "source": [
    "decoder = Wav2Vec2Decoder(lm_model_path=\"lm/4-gram.arpa\")"
   ]
  },
  {
   "cell_type": "code",
   "execution_count": 33,
   "id": "624705d9",
   "metadata": {},
   "outputs": [
    {
     "name": "stdout",
     "output_type": "stream",
     "text": [
      "================================================================================\n",
      "Results | α=0.5, β=0.5, beam_width=5 | distances = [10, 5, 5, 8, 2, 16, 19, 15], avg_distance = 10.0\n",
      "================================================================================\n",
      "Results | α=0.5, β=0.5, beam_width=10 | distances = [10, 5, 5, 8, 2, 17, 19, 15], avg_distance = 10.125\n",
      "================================================================================\n",
      "Results | α=0.5, β=5, beam_width=5 | distances = [10, 5, 5, 8, 2, 15, 19, 15], avg_distance = 9.875\n",
      "================================================================================\n",
      "Results | α=0.5, β=5, beam_width=10 | distances = [10, 5, 5, 8, 2, 15, 19, 15], avg_distance = 9.875\n",
      "================================================================================\n",
      "Results | α=1.0, β=0.5, beam_width=5 | distances = [10, 5, 5, 8, 2, 16, 19, 15], avg_distance = 10.0\n",
      "================================================================================\n",
      "Results | α=1.0, β=0.5, beam_width=10 | distances = [10, 5, 5, 8, 2, 17, 19, 15], avg_distance = 10.125\n",
      "================================================================================\n",
      "Results | α=1.0, β=5, beam_width=5 | distances = [10, 5, 5, 8, 2, 16, 19, 15], avg_distance = 10.0\n",
      "================================================================================\n",
      "Results | α=1.0, β=5, beam_width=10 | distances = [10, 5, 5, 8, 2, 15, 19, 15], avg_distance = 9.875\n",
      "================================================================================\n",
      "Results | α=3, β=0.5, beam_width=5 | distances = [10, 5, 5, 8, 2, 16, 19, 15], avg_distance = 10.0\n",
      "================================================================================\n",
      "Results | α=3, β=0.5, beam_width=10 | distances = [10, 5, 5, 8, 2, 17, 19, 15], avg_distance = 10.125\n",
      "================================================================================\n",
      "Results | α=3, β=5, beam_width=5 | distances = [10, 5, 5, 8, 2, 16, 19, 15], avg_distance = 10.0\n",
      "================================================================================\n",
      "Results | α=3, β=5, beam_width=10 | distances = [10, 5, 5, 8, 2, 17, 19, 15], avg_distance = 10.125\n"
     ]
    }
   ],
   "source": [
    "for alpha, beta, beam_width in itertools.product(alphas, betas, beam_widths):\n",
    "    decoder.alpha = alpha\n",
    "    decoder.beta = beta\n",
    "    decoder.beam_width = beam_width\n",
    "\n",
    "    distances = []\n",
    "    for audio_path, true_transcription in test_samples:\n",
    "        audio_input, sr = torchaudio.load(audio_path)\n",
    "\n",
    "        transcript = decoder.decode(audio_input, method=\"beam_lm_rescore\").strip()\n",
    "        \n",
    "        dist = Levenshtein.distance(true_transcription, transcript)\n",
    "        distances.append(dist)\n",
    "    avg_dist = sum(distances) / len(distances)\n",
    "    print(\"=\" * 80)\n",
    "    print(\n",
    "        f\"Results | α={alpha}, β={beta}, beam_width={beam_width} | distances = {distances}, avg_distance = {avg_dist}\"\n",
    "    )"
   ]
  },
  {
   "cell_type": "code",
   "execution_count": 34,
   "id": "2429f7cd",
   "metadata": {},
   "outputs": [
    {
     "name": "stdout",
     "output_type": "stream",
     "text": [
      "================================================================================\n",
      "Results | α=0.5, β=0.5, beam_width=5 | distances = [12, 7, 6, 8, 2, 20, 25, 21], avg_distance = 12.625\n",
      "================================================================================\n",
      "Results | α=0.5, β=0.5, beam_width=10 | distances = [12, 10, 8, 10, 2, 20, 26, 21], avg_distance = 13.625\n",
      "================================================================================\n",
      "Results | α=0.5, β=5, beam_width=5 | distances = [11, 10, 7, 12, 3, 21, 20, 18], avg_distance = 12.75\n",
      "================================================================================\n",
      "Results | α=0.5, β=5, beam_width=10 | distances = [11, 18, 15, 13, 3, 20, 23, 26], avg_distance = 16.125\n",
      "================================================================================\n",
      "Results | α=1.0, β=0.5, beam_width=5 | distances = [21, 21, 26, 16, 8, 26, 29, 22], avg_distance = 21.125\n",
      "================================================================================\n",
      "Results | α=1.0, β=0.5, beam_width=10 | distances = [21, 21, 43, 22, 9, 47, 37, 23], avg_distance = 27.875\n",
      "================================================================================\n",
      "Results | α=1.0, β=5, beam_width=5 | distances = [15, 20, 9, 15, 6, 17, 22, 21], avg_distance = 15.625\n",
      "================================================================================\n",
      "Results | α=1.0, β=5, beam_width=10 | distances = [15, 19, 11, 16, 6, 24, 24, 21], avg_distance = 17.0\n",
      "================================================================================\n",
      "Results | α=3, β=0.5, beam_width=5 | distances = [81, 148, 97, 98, 104, 43, 63, 58], avg_distance = 86.5\n",
      "================================================================================\n",
      "Results | α=3, β=0.5, beam_width=10 | distances = [132, 190, 116, 134, 150, 55, 68, 58], avg_distance = 112.875\n",
      "================================================================================\n",
      "Results | α=3, β=5, beam_width=5 | distances = [39, 77, 60, 54, 44, 34, 49, 57], avg_distance = 51.75\n",
      "================================================================================\n",
      "Results | α=3, β=5, beam_width=10 | distances = [51, 108, 76, 65, 40, 51, 51, 60], avg_distance = 62.75\n"
     ]
    }
   ],
   "source": [
    "for alpha, beta, beam_width in itertools.product(alphas, betas, beam_widths):\n",
    "    decoder.alpha = alpha\n",
    "    decoder.beta = beta\n",
    "    decoder.beam_width = beam_width\n",
    "\n",
    "    distances = []\n",
    "    for audio_path, true_transcription in test_samples:\n",
    "        audio_input, sr = torchaudio.load(audio_path)\n",
    "\n",
    "        transcript = decoder.decode(audio_input, method=\"beam_lm\").strip()\n",
    "        \n",
    "        dist = Levenshtein.distance(true_transcription, transcript)\n",
    "        distances.append(dist)\n",
    "    avg_dist = sum(distances) / len(distances)\n",
    "    print(\"=\" * 80)\n",
    "    print(\n",
    "        f\"Results | α={alpha}, β={beta}, beam_width={beam_width} | distances = {distances}, avg_distance = {avg_dist}\"\n",
    "    )"
   ]
  }
 ],
 "metadata": {
  "kernelspec": {
   "display_name": "venv",
   "language": "python",
   "name": "python3"
  },
  "language_info": {
   "codemirror_mode": {
    "name": "ipython",
    "version": 3
   },
   "file_extension": ".py",
   "mimetype": "text/x-python",
   "name": "python",
   "nbconvert_exporter": "python",
   "pygments_lexer": "ipython3",
   "version": "3.12.9"
  }
 },
 "nbformat": 4,
 "nbformat_minor": 5
}
