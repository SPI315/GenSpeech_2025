{
 "cells": [
  {
   "cell_type": "code",
   "execution_count": 131,
   "id": "36815954",
   "metadata": {},
   "outputs": [],
   "source": [
    "import os\n",
    "import torch\n",
    "import torchaudio\n",
    "from torch import nn\n",
    "import soundfile as sf\n",
    "import torch.nn.functional as F\n",
    "import torch.optim as optim\n",
    "from torch.utils.data import DataLoader\n",
    "from tqdm import tqdm\n",
    "from t2spec_converter import TextToSpecConverter, melspec_to_audio_default_vocoder\n",
    "import matplotlib.pyplot as plt\n",
    "\n",
    "from librosa.filters import mel as librosa_mel_fn\n",
    "from torch.nn.utils import weight_norm\n",
    "import numpy as np"
   ]
  },
  {
   "cell_type": "code",
   "execution_count": 132,
   "id": "283f8e00",
   "metadata": {},
   "outputs": [
    {
     "data": {
      "text/plain": [
       "'cuda'"
      ]
     },
     "execution_count": 132,
     "metadata": {},
     "output_type": "execute_result"
    }
   ],
   "source": [
    "device=\"cuda\" if torch.cuda.is_available() else \"cpu\"\n",
    "device"
   ]
  },
  {
   "cell_type": "markdown",
   "id": "125f67a9",
   "metadata": {},
   "source": [
    "Чтобы не извлекать спектрограммы на лету, предподготовим датасет и сохраним в отдельные файлы мелбанки, аудио и тексты.\n",
    "\n",
    "Для подготовки мелбанков воспользуемся готовым решением с предобученной моделью генерации мелбанков из текста."
   ]
  },
  {
   "cell_type": "code",
   "execution_count": 133,
   "id": "8fa2e0fa",
   "metadata": {},
   "outputs": [],
   "source": [
    "# t2s = TextToSpecConverter()\n",
    "\n",
    "# in_dir = \"./LJSpeech-1.1\"\n",
    "# out_dir = \"./preprocessed\"\n",
    "# os.makedirs(out_dir, exist_ok=True)\n",
    "\n",
    "# with open(os.path.join(in_dir, \"metadata.csv\"), \"r\", encoding=\"utf-8\") as f:\n",
    "#     lines = [line.strip().split(\"|\") for line in f]\n",
    "\n",
    "# for i, (fname, _, text) in enumerate(tqdm(lines)):\n",
    "#     wav_path = os.path.join(in_dir, \"wavs\", fname + \".wav\")\n",
    "#     waveform, sr = torchaudio.load(wav_path)\n",
    "\n",
    "#     if waveform.shape[0] > 1:\n",
    "#         waveform = waveform[0:1]\n",
    "#     waveform = waveform.squeeze(0)\n",
    "\n",
    "#     mel = t2s.text2spec(text)\n",
    "#     mel = torch.tensor(mel.T, dtype=torch.float32)  \n",
    "\n",
    "#     sample = {\n",
    "#         \"mel\": mel,\n",
    "#         \"audio\": waveform,\n",
    "#         \"text\": text\n",
    "#     }\n",
    "#     torch.save(sample, os.path.join(out_dir, f\"{fname}.pt\"))"
   ]
  },
  {
   "cell_type": "markdown",
   "id": "6a81d8de",
   "metadata": {},
   "source": [
    "Подготовим загрузчики и обработчики данных из ранее сохраненного датасета"
   ]
  },
  {
   "cell_type": "code",
   "execution_count": 134,
   "id": "99f76e32",
   "metadata": {},
   "outputs": [],
   "source": [
    "class LoaderDataset(torch.utils.data.Dataset):\n",
    "    def __init__(self, preprocessed_dir=\"./preprocessed\"):\n",
    "        self.preprocessed_dir = preprocessed_dir\n",
    "        self.files = sorted(\n",
    "            [f for f in os.listdir(preprocessed_dir) if f.endswith(\".pt\")]\n",
    "        )\n",
    "\n",
    "    def __len__(self):\n",
    "        return len(self.files)\n",
    "\n",
    "    def __getitem__(self, idx):\n",
    "        data = torch.load(os.path.join(self.preprocessed_dir, self.files[idx]))\n",
    "        audio = data[\"audio\"].float()\n",
    "        audio = audio / (audio.abs().max() + 1e-9)\n",
    "\n",
    "        return data[\"mel\"], audio, data[\"text\"], audio.shape[0]"
   ]
  },
  {
   "cell_type": "code",
   "execution_count": 135,
   "id": "11694a38",
   "metadata": {},
   "outputs": [],
   "source": [
    "dataset = LoaderDataset()\n",
    "\n",
    "\n",
    "def collate_fn(batch):\n",
    "    mel_specs, audios, transcripts, audio_lengths = zip(*batch)\n",
    "\n",
    "    max_mel_len = max(m.shape[1] for m in mel_specs)\n",
    "    num_mels = mel_specs[0].shape[0]\n",
    "\n",
    "    padded_mels = torch.zeros(len(mel_specs), num_mels, max_mel_len)\n",
    "    for i, m in enumerate(mel_specs):\n",
    "        padded_mels[i, :, : m.shape[1]] = m\n",
    "\n",
    "    max_audio_len = max(audio_lengths)\n",
    "    padded_audios = torch.zeros(len(audios), max_audio_len)\n",
    "    for i, a in enumerate(audios):\n",
    "        padded_audios[i, : a.shape[0]] = a\n",
    "\n",
    "    return padded_mels, padded_audios, transcripts, audio_lengths\n",
    "\n",
    "\n",
    "dataloader = DataLoader(\n",
    "    dataset,\n",
    "    batch_size=16,\n",
    "    shuffle=True,\n",
    "    collate_fn=collate_fn,\n",
    "    num_workers=0,\n",
    "    pin_memory=True,\n",
    ")"
   ]
  },
  {
   "cell_type": "markdown",
   "id": "24ac922e",
   "metadata": {},
   "source": [
    "Проверим что все работает и мы получаем данные нужной формы и содержания"
   ]
  },
  {
   "cell_type": "code",
   "execution_count": 136,
   "id": "846a6a04",
   "metadata": {},
   "outputs": [
    {
     "name": "stderr",
     "output_type": "stream",
     "text": [
      "  0%|          | 0/819 [00:00<?, ?it/s]"
     ]
    },
    {
     "name": "stdout",
     "output_type": "stream",
     "text": [
      "Mel shape: torch.Size([80, 732])\n",
      "Audio shape: torch.Size([16, 206749])\n",
      "Text: ['The crime of poisoning has always been viewed with peculiar loathing and terror in this country.', 'When I commenced to review the situation with the problem squarely before me,']\n",
      "Lengths: [122525, 115613, 173469, 146333, 177565, 97437, 188317, 85149, 174237, 53149, 206749, 198813, 119965, 186781, 70301, 179101]\n"
     ]
    },
    {
     "name": "stderr",
     "output_type": "stream",
     "text": [
      "\n"
     ]
    },
    {
     "data": {
      "image/png": "[encoded data removed]",
      "text/plain": [
       "<Figure size 1000x400 with 1 Axes>"
      ]
     },
     "metadata": {},
     "output_type": "display_data"
    }
   ],
   "source": [
    "%matplotlib inline\n",
    "for mel_batch, audio_batch, transcripts, audio_length in tqdm(dataloader):\n",
    "    print(\"Mel shape:\", mel_batch[0].shape)\n",
    "    print(\"Audio shape:\", audio_batch.shape)\n",
    "    print(\"Text:\", transcripts[:2])\n",
    "    print(\"Lengths:\", audio_length)\n",
    "    plt.figure(figsize=(10, 4))\n",
    "    plt.imshow(mel_batch[0], aspect='auto', origin='lower')\n",
    "    break"
   ]
  },
  {
   "cell_type": "markdown",
   "id": "d4818759",
   "metadata": {},
   "source": [
    "Простейшие нейросети для генератора и дискриминатора. Генератор при этом с апсемплингом, чтобы компенсировать разницу в длине спектрограммы и аудио."
   ]
  },
  {
   "cell_type": "code",
   "execution_count": 137,
   "id": "efef8d4a",
   "metadata": {},
   "outputs": [],
   "source": [
    "class Generator(nn.Module):\n",
    "    def __init__(self, upsample_factors=(8, 8, 4), n_mels=80):\n",
    "        super().__init__()\n",
    "        self.model = nn.Sequential(\n",
    "            nn.Conv1d(n_mels, 512, kernel_size=7, padding=3),\n",
    "            nn.ReLU(),\n",
    "            nn.ConvTranspose1d(\n",
    "                512,\n",
    "                256,\n",
    "                kernel_size=upsample_factors[0] * 2,\n",
    "                stride=upsample_factors[0],\n",
    "                padding=upsample_factors[0] // 2,\n",
    "                output_padding=1,\n",
    "            ),\n",
    "            nn.LeakyReLU(0.2),\n",
    "            nn.ConvTranspose1d(\n",
    "                256,\n",
    "                128,\n",
    "                kernel_size=upsample_factors[1] * 2,\n",
    "                stride=upsample_factors[1],\n",
    "                padding=upsample_factors[1] // 2,\n",
    "                output_padding=1,\n",
    "            ),\n",
    "            nn.LeakyReLU(0.2),\n",
    "            nn.ConvTranspose1d(\n",
    "                128,\n",
    "                64,\n",
    "                kernel_size=upsample_factors[2] * 2,\n",
    "                stride=upsample_factors[2],\n",
    "                padding=upsample_factors[2] // 2,\n",
    "                output_padding=1,\n",
    "            ),\n",
    "            nn.LeakyReLU(0.2),\n",
    "            nn.Conv1d(64, 1, kernel_size=7, padding=3),\n",
    "            nn.Tanh(),\n",
    "        )\n",
    "\n",
    "    def forward(self, mel):\n",
    "        return self.model(mel)"
   ]
  },
  {
   "cell_type": "code",
   "execution_count": 142,
   "id": "c0a13e98",
   "metadata": {},
   "outputs": [],
   "source": [
    "class Discriminator(nn.Module):\n",
    "    def __init__(self):\n",
    "        super().__init__()\n",
    "        self.model = nn.Sequential(\n",
    "            nn.Conv1d(1, 64, 15, stride=1, padding=7),\n",
    "            nn.LeakyReLU(0.2),\n",
    "            nn.Conv1d(64, 128, 15, stride=4, padding=7),\n",
    "            nn.LeakyReLU(0.2),\n",
    "            nn.Conv1d(128, 256, kernel_size=15, stride=4, padding=7),\n",
    "            nn.LeakyReLU(0.2),\n",
    "            nn.Conv1d(256, 512, kernel_size=15, stride=4, padding=7),\n",
    "            nn.LeakyReLU(0.2),\n",
    "            nn.Conv1d(512, 1, kernel_size=3, stride=1, padding=1)\n",
    "        )\n",
    "\n",
    "    def forward(self, audio):\n",
    "        out = self.model(audio)\n",
    "        return out.mean(dim=[1, 2])"
   ]
  },
  {
   "cell_type": "markdown",
   "id": "35bfac8d",
   "metadata": {},
   "source": [
    "Для выравнивания данных в батче, добавим маски.\n",
    "\n",
    "В качестве лоссов для генератора используем комбинацию l1 и состязательного лосса, с преимуществом в сторону l1, чтобы модель быстрее училась восстанавливать форму сигнала, а во вторую очередь обманывать дискриминатор.\n",
    "\n",
    "Для дискриминатора используем обычные MSE лоссы."
   ]
  },
  {
   "cell_type": "code",
   "execution_count": 139,
   "id": "37c6aae5",
   "metadata": {},
   "outputs": [],
   "source": [
    "def get_mask_from_lengths(lengths, max_len=None):\n",
    "    lengths = lengths.long()\n",
    "    batch_size = lengths.size(0)\n",
    "    max_len = max_len or lengths.max().item()\n",
    "    ids = (\n",
    "        torch.arange(0, max_len, device=lengths.device)\n",
    "        .unsqueeze(0)\n",
    "        .expand(batch_size, -1)\n",
    "    )\n",
    "    mask = ids < lengths.unsqueeze(1)\n",
    "    return mask\n",
    "\n",
    "\n",
    "def masked_l1_loss(input, target, mask):\n",
    "    diff = torch.abs(input - target)\n",
    "    diff = diff * mask.unsqueeze(1)\n",
    "    return diff.sum() / mask.sum()\n",
    "\n",
    "\n",
    "def generator_loss(\n",
    "    d_fake, gen_audio, real_audio, lengths, l1_weight=45.0, adv_weight=1.0\n",
    "):\n",
    "    min_len = min(gen_audio.shape[2], real_audio.shape[2])\n",
    "    gen_audio = gen_audio[:, :, :min_len]\n",
    "    real_audio = real_audio[:, :, :min_len]\n",
    "    lengths = torch.clamp(lengths, max=min_len)\n",
    "\n",
    "    mask = get_mask_from_lengths(lengths, max_len=min_len).unsqueeze(1).float()\n",
    "    l1 = masked_l1_loss(gen_audio, real_audio, mask) * l1_weight\n",
    "    adv = F.mse_loss(d_fake, torch.ones_like(d_fake)) * adv_weight\n",
    "    return l1 + adv\n",
    "\n",
    "\n",
    "def discriminator_loss(d_real, d_fake):\n",
    "    real_loss = F.mse_loss(d_real, torch.ones_like(d_real))\n",
    "    fake_loss = F.mse_loss(d_fake, torch.zeros_like(d_fake))\n",
    "    return real_loss + fake_loss"
   ]
  },
  {
   "cell_type": "code",
   "execution_count": 143,
   "id": "01141fa0",
   "metadata": {},
   "outputs": [],
   "source": [
    "num_epochs = 100\n",
    "d_steps = 5\n",
    "\n",
    "generator = Generator()\n",
    "generator.to(device)\n",
    "\n",
    "discriminator = Discriminator()\n",
    "discriminator.to(device)\n",
    "\n",
    "g_opt = optim.Adam(generator.parameters(), lr=2e-4, betas=(0.5, 0.9))\n",
    "d_opt = optim.Adam(discriminator.parameters(), lr=2e-4, betas=(0.5, 0.9))\n",
    "\n",
    "scaler = torch.amp.GradScaler()"
   ]
  },
  {
   "cell_type": "code",
   "execution_count": 145,
   "id": "1f672928",
   "metadata": {},
   "outputs": [
    {
     "name": "stderr",
     "output_type": "stream",
     "text": [
      "  0%|          | 1/819 [00:00<11:17,  1.21it/s]"
     ]
    },
    {
     "name": "stdout",
     "output_type": "stream",
     "text": [
      "Epoch 0 | Step 0 | G_loss: 45.3950 | D_loss: 0.9837\n",
      "Gen audio length: 211237, Real audio length: 222109\n"
     ]
    },
    {
     "name": "stderr",
     "output_type": "stream",
     "text": [
      "  5%|▍         | 39/819 [00:11<03:55,  3.31it/s]\n"
     ]
    },
    {
     "ename": "KeyboardInterrupt",
     "evalue": "",
     "output_type": "error",
     "traceback": [
      "\u001b[1;31m---------------------------------------------------------------------------\u001b[0m",
      "\u001b[1;31mKeyboardInterrupt\u001b[0m                         Traceback (most recent call last)",
      "Cell \u001b[1;32mIn[145], line 13\u001b[0m\n\u001b[0;32m     11\u001b[0m g_opt\u001b[38;5;241m.\u001b[39mzero_grad()\n\u001b[0;32m     12\u001b[0m scaler\u001b[38;5;241m.\u001b[39mscale(g_loss)\u001b[38;5;241m.\u001b[39mbackward()\n\u001b[1;32m---> 13\u001b[0m \u001b[43mscaler\u001b[49m\u001b[38;5;241;43m.\u001b[39;49m\u001b[43mstep\u001b[49m\u001b[43m(\u001b[49m\u001b[43mg_opt\u001b[49m\u001b[43m)\u001b[49m\n\u001b[0;32m     14\u001b[0m scaler\u001b[38;5;241m.\u001b[39mupdate()\n\u001b[0;32m     16\u001b[0m \u001b[38;5;28;01mif\u001b[39;00m step \u001b[38;5;241m%\u001b[39m d_steps \u001b[38;5;241m==\u001b[39m \u001b[38;5;241m0\u001b[39m:\n",
      "File \u001b[1;32mc:\\_Experiments\\GenSpeech_2025\\venv\\lib\\site-packages\\torch\\amp\\grad_scaler.py:461\u001b[0m, in \u001b[0;36mGradScaler.step\u001b[1;34m(self, optimizer, *args, **kwargs)\u001b[0m\n\u001b[0;32m    455\u001b[0m     \u001b[38;5;28mself\u001b[39m\u001b[38;5;241m.\u001b[39munscale_(optimizer)\n\u001b[0;32m    457\u001b[0m \u001b[38;5;28;01massert\u001b[39;00m (\n\u001b[0;32m    458\u001b[0m     \u001b[38;5;28mlen\u001b[39m(optimizer_state[\u001b[38;5;124m\"\u001b[39m\u001b[38;5;124mfound_inf_per_device\u001b[39m\u001b[38;5;124m\"\u001b[39m]) \u001b[38;5;241m>\u001b[39m \u001b[38;5;241m0\u001b[39m\n\u001b[0;32m    459\u001b[0m ), \u001b[38;5;124m\"\u001b[39m\u001b[38;5;124mNo inf checks were recorded for this optimizer.\u001b[39m\u001b[38;5;124m\"\u001b[39m\n\u001b[1;32m--> 461\u001b[0m retval \u001b[38;5;241m=\u001b[39m \u001b[38;5;28mself\u001b[39m\u001b[38;5;241m.\u001b[39m_maybe_opt_step(optimizer, optimizer_state, \u001b[38;5;241m*\u001b[39margs, \u001b[38;5;241m*\u001b[39m\u001b[38;5;241m*\u001b[39mkwargs)\n\u001b[0;32m    463\u001b[0m optimizer_state[\u001b[38;5;124m\"\u001b[39m\u001b[38;5;124mstage\u001b[39m\u001b[38;5;124m\"\u001b[39m] \u001b[38;5;241m=\u001b[39m OptState\u001b[38;5;241m.\u001b[39mSTEPPED\n\u001b[0;32m    465\u001b[0m \u001b[38;5;28;01mreturn\u001b[39;00m retval\n",
      "File \u001b[1;32mc:\\_Experiments\\GenSpeech_2025\\venv\\lib\\site-packages\\torch\\amp\\grad_scaler.py:355\u001b[0m, in \u001b[0;36mGradScaler._maybe_opt_step\u001b[1;34m(self, optimizer, optimizer_state, *args, **kwargs)\u001b[0m\n\u001b[0;32m    347\u001b[0m \u001b[38;5;28;01mdef\u001b[39;00m\u001b[38;5;250m \u001b[39m\u001b[38;5;21m_maybe_opt_step\u001b[39m(\n\u001b[0;32m    348\u001b[0m     \u001b[38;5;28mself\u001b[39m,\n\u001b[0;32m    349\u001b[0m     optimizer: torch\u001b[38;5;241m.\u001b[39moptim\u001b[38;5;241m.\u001b[39mOptimizer,\n\u001b[1;32m   (...)\u001b[0m\n\u001b[0;32m    352\u001b[0m     \u001b[38;5;241m*\u001b[39m\u001b[38;5;241m*\u001b[39mkwargs: Any,\n\u001b[0;32m    353\u001b[0m ) \u001b[38;5;241m-\u001b[39m\u001b[38;5;241m>\u001b[39m Optional[\u001b[38;5;28mfloat\u001b[39m]:\n\u001b[0;32m    354\u001b[0m     retval: Optional[\u001b[38;5;28mfloat\u001b[39m] \u001b[38;5;241m=\u001b[39m \u001b[38;5;28;01mNone\u001b[39;00m\n\u001b[1;32m--> 355\u001b[0m     \u001b[38;5;28;01mif\u001b[39;00m \u001b[38;5;129;01mnot\u001b[39;00m \u001b[38;5;28;43msum\u001b[39;49m\u001b[43m(\u001b[49m\u001b[43mv\u001b[49m\u001b[38;5;241;43m.\u001b[39;49m\u001b[43mitem\u001b[49m\u001b[43m(\u001b[49m\u001b[43m)\u001b[49m\u001b[43m \u001b[49m\u001b[38;5;28;43;01mfor\u001b[39;49;00m\u001b[43m \u001b[49m\u001b[43mv\u001b[49m\u001b[43m \u001b[49m\u001b[38;5;129;43;01min\u001b[39;49;00m\u001b[43m \u001b[49m\u001b[43moptimizer_state\u001b[49m\u001b[43m[\u001b[49m\u001b[38;5;124;43m\"\u001b[39;49m\u001b[38;5;124;43mfound_inf_per_device\u001b[39;49m\u001b[38;5;124;43m\"\u001b[39;49m\u001b[43m]\u001b[49m\u001b[38;5;241;43m.\u001b[39;49m\u001b[43mvalues\u001b[49m\u001b[43m(\u001b[49m\u001b[43m)\u001b[49m\u001b[43m)\u001b[49m:\n\u001b[0;32m    356\u001b[0m         retval \u001b[38;5;241m=\u001b[39m optimizer\u001b[38;5;241m.\u001b[39mstep(\u001b[38;5;241m*\u001b[39margs, \u001b[38;5;241m*\u001b[39m\u001b[38;5;241m*\u001b[39mkwargs)\n\u001b[0;32m    357\u001b[0m     \u001b[38;5;28;01mreturn\u001b[39;00m retval\n",
      "File \u001b[1;32mc:\\_Experiments\\GenSpeech_2025\\venv\\lib\\site-packages\\torch\\amp\\grad_scaler.py:355\u001b[0m, in \u001b[0;36m<genexpr>\u001b[1;34m(.0)\u001b[0m\n\u001b[0;32m    347\u001b[0m \u001b[38;5;28;01mdef\u001b[39;00m\u001b[38;5;250m \u001b[39m\u001b[38;5;21m_maybe_opt_step\u001b[39m(\n\u001b[0;32m    348\u001b[0m     \u001b[38;5;28mself\u001b[39m,\n\u001b[0;32m    349\u001b[0m     optimizer: torch\u001b[38;5;241m.\u001b[39moptim\u001b[38;5;241m.\u001b[39mOptimizer,\n\u001b[1;32m   (...)\u001b[0m\n\u001b[0;32m    352\u001b[0m     \u001b[38;5;241m*\u001b[39m\u001b[38;5;241m*\u001b[39mkwargs: Any,\n\u001b[0;32m    353\u001b[0m ) \u001b[38;5;241m-\u001b[39m\u001b[38;5;241m>\u001b[39m Optional[\u001b[38;5;28mfloat\u001b[39m]:\n\u001b[0;32m    354\u001b[0m     retval: Optional[\u001b[38;5;28mfloat\u001b[39m] \u001b[38;5;241m=\u001b[39m \u001b[38;5;28;01mNone\u001b[39;00m\n\u001b[1;32m--> 355\u001b[0m     \u001b[38;5;28;01mif\u001b[39;00m \u001b[38;5;129;01mnot\u001b[39;00m \u001b[38;5;28msum\u001b[39m(\u001b[43mv\u001b[49m\u001b[38;5;241;43m.\u001b[39;49m\u001b[43mitem\u001b[49m\u001b[43m(\u001b[49m\u001b[43m)\u001b[49m \u001b[38;5;28;01mfor\u001b[39;00m v \u001b[38;5;129;01min\u001b[39;00m optimizer_state[\u001b[38;5;124m\"\u001b[39m\u001b[38;5;124mfound_inf_per_device\u001b[39m\u001b[38;5;124m\"\u001b[39m]\u001b[38;5;241m.\u001b[39mvalues()):\n\u001b[0;32m    356\u001b[0m         retval \u001b[38;5;241m=\u001b[39m optimizer\u001b[38;5;241m.\u001b[39mstep(\u001b[38;5;241m*\u001b[39margs, \u001b[38;5;241m*\u001b[39m\u001b[38;5;241m*\u001b[39mkwargs)\n\u001b[0;32m    357\u001b[0m     \u001b[38;5;28;01mreturn\u001b[39;00m retval\n",
      "\u001b[1;31mKeyboardInterrupt\u001b[0m: "
     ]
    }
   ],
   "source": [
    "for epoch in range(num_epochs):\n",
    "    for step, (mel, real_audio, _, lengths) in enumerate(tqdm(dataloader)):\n",
    "        mel = mel.to(device, non_blocking=True)\n",
    "        real_audio = real_audio.unsqueeze(1).to(device, non_blocking=True)\n",
    "        lengths = torch.tensor(lengths).to(device, non_blocking=True)\n",
    "        with torch.amp.autocast(device_type=\"cuda\"):\n",
    "            gen_audio = generator(mel)\n",
    "            d_fake = discriminator(gen_audio)\n",
    "            g_loss = generator_loss(d_fake, gen_audio, real_audio, lengths)\n",
    "\n",
    "        g_opt.zero_grad()\n",
    "        scaler.scale(g_loss).backward()\n",
    "        scaler.step(g_opt)\n",
    "        scaler.update()\n",
    "\n",
    "        if step % d_steps == 0:\n",
    "            with torch.amp.autocast(device_type=\"cuda\"):\n",
    "                d_real = discriminator(real_audio)\n",
    "                d_fake_detach = discriminator(gen_audio.detach())\n",
    "                d_loss = discriminator_loss(d_real, d_fake_detach)\n",
    "\n",
    "            d_opt.zero_grad()\n",
    "            scaler.scale(d_loss).backward()\n",
    "            scaler.step(d_opt)\n",
    "            scaler.update()\n",
    "        else:\n",
    "            d_loss = None\n",
    "\n",
    "        if step % 100 == 0:\n",
    "            if d_loss is not None:\n",
    "                print(\n",
    "                    f\"Epoch {epoch} | Step {step} | G_loss: {g_loss.item():.4f} | D_loss: {d_loss.item():.4f}\"\n",
    "                )\n",
    "            else:\n",
    "                print(\n",
    "                    f\"Epoch {epoch} | Step {step} | G_loss: {g_loss.item():.4f} | D_loss: skipped\"\n",
    "                )\n",
    "\n",
    "            print(\n",
    "                f\"Gen audio length: {gen_audio.size(2)}, Real audio length: {real_audio.size(2)}\"\n",
    "            )\n",
    "            audio_to_save = gen_audio[0].detach().cpu().to(torch.float32)\n",
    "            torchaudio.save(\"sample_gen.wav\", audio_to_save, sample_rate=22050)"
   ]
  },
  {
   "cell_type": "markdown",
   "id": "163b1bac",
   "metadata": {},
   "source": [
    "По результатам экспериментов с лоссами, гиперпараметрами, методами получения мелбанков после 100 эпох обучения на выходе генерируется писк, а лоссы почти не меняются. \n",
    "\n",
    "Попробуем позаимствовать модели и цикл обучения в репозитории ориигинального [MelGAN](https://github.com/descriptinc/melgan-neurips/blob/master/mel2wav/modules.py#L88)"
   ]
  },
  {
   "cell_type": "code",
   "execution_count": null,
   "id": "60974c46",
   "metadata": {},
   "outputs": [],
   "source": [
    "def weights_init(m):\n",
    "    classname = m.__class__.__name__\n",
    "    if classname.find(\"Conv\") != -1:\n",
    "        m.weight.data.normal_(0.0, 0.02)\n",
    "    elif classname.find(\"BatchNorm2d\") != -1:\n",
    "        m.weight.data.normal_(1.0, 0.02)\n",
    "        m.bias.data.fill_(0)\n",
    "\n",
    "\n",
    "def WNConv1d(*args, **kwargs):\n",
    "    return weight_norm(nn.Conv1d(*args, **kwargs))\n",
    "\n",
    "\n",
    "def WNConvTranspose1d(*args, **kwargs):\n",
    "    return weight_norm(nn.ConvTranspose1d(*args, **kwargs))\n",
    "\n",
    "\n",
    "class Audio2Mel(nn.Module):\n",
    "    def __init__(\n",
    "        self,\n",
    "        n_fft=1024,\n",
    "        hop_length=256,\n",
    "        win_length=1024,\n",
    "        sampling_rate=22050,\n",
    "        n_mel_channels=80,\n",
    "        mel_fmin=0.0,\n",
    "        mel_fmax=None,\n",
    "    ):\n",
    "        super().__init__()\n",
    "\n",
    "        window = torch.hann_window(win_length).float()\n",
    "        mel_basis = librosa_mel_fn(\n",
    "            sampling_rate, n_fft, n_mel_channels, mel_fmin, mel_fmax\n",
    "        )\n",
    "        mel_basis = torch.from_numpy(mel_basis).float()\n",
    "        self.register_buffer(\"mel_basis\", mel_basis)\n",
    "        self.register_buffer(\"window\", window)\n",
    "        self.n_fft = n_fft\n",
    "        self.hop_length = hop_length\n",
    "        self.win_length = win_length\n",
    "        self.sampling_rate = sampling_rate\n",
    "        self.n_mel_channels = n_mel_channels\n",
    "\n",
    "    def forward(self, audio):\n",
    "        p = (self.n_fft - self.hop_length) // 2\n",
    "        audio = F.pad(audio, (p, p), \"reflect\").squeeze(1)\n",
    "        fft = torch.stft(\n",
    "            audio,\n",
    "            n_fft=self.n_fft,\n",
    "            hop_length=self.hop_length,\n",
    "            win_length=self.win_length,\n",
    "            window=self.window,\n",
    "            center=False,\n",
    "        )\n",
    "        real_part, imag_part = fft.unbind(-1)\n",
    "        magnitude = torch.sqrt(real_part ** 2 + imag_part ** 2)\n",
    "        mel_output = torch.matmul(self.mel_basis, magnitude)\n",
    "        log_mel_spec = torch.log10(torch.clamp(mel_output, min=1e-5))\n",
    "        return log_mel_spec\n",
    "\n",
    "\n",
    "class ResnetBlock(nn.Module):\n",
    "    def __init__(self, dim, dilation=1):\n",
    "        super().__init__()\n",
    "        self.block = nn.Sequential(\n",
    "            nn.LeakyReLU(0.2),\n",
    "            nn.ReflectionPad1d(dilation),\n",
    "            WNConv1d(dim, dim, kernel_size=3, dilation=dilation),\n",
    "            nn.LeakyReLU(0.2),\n",
    "            WNConv1d(dim, dim, kernel_size=1),\n",
    "        )\n",
    "        self.shortcut = WNConv1d(dim, dim, kernel_size=1)\n",
    "\n",
    "    def forward(self, x):\n",
    "        return self.shortcut(x) + self.block(x)\n",
    "\n",
    "\n",
    "class Generator(nn.Module):\n",
    "    def __init__(self, input_size, ngf, n_residual_layers):\n",
    "        super().__init__()\n",
    "        ratios = [8, 8, 2, 2]\n",
    "        self.hop_length = np.prod(ratios)\n",
    "        mult = int(2 ** len(ratios))\n",
    "\n",
    "        model = [\n",
    "            nn.ReflectionPad1d(3),\n",
    "            WNConv1d(input_size, mult * ngf, kernel_size=7, padding=0),\n",
    "        ]\n",
    "\n",
    "        for i, r in enumerate(ratios):\n",
    "            model += [\n",
    "                nn.LeakyReLU(0.2),\n",
    "                WNConvTranspose1d(\n",
    "                    mult * ngf,\n",
    "                    mult * ngf // 2,\n",
    "                    kernel_size=r * 2,\n",
    "                    stride=r,\n",
    "                    padding=r // 2 + r % 2,\n",
    "                    output_padding=r % 2,\n",
    "                ),\n",
    "            ]\n",
    "\n",
    "            for j in range(n_residual_layers):\n",
    "                model += [ResnetBlock(mult * ngf // 2, dilation=3 ** j)]\n",
    "\n",
    "            mult //= 2\n",
    "\n",
    "        model += [\n",
    "            nn.LeakyReLU(0.2),\n",
    "            nn.ReflectionPad1d(3),\n",
    "            WNConv1d(ngf, 1, kernel_size=7, padding=0),\n",
    "            nn.Tanh(),\n",
    "        ]\n",
    "\n",
    "        self.model = nn.Sequential(*model)\n",
    "        self.apply(weights_init)\n",
    "\n",
    "    def forward(self, x):\n",
    "        return self.model(x)\n",
    "\n",
    "\n",
    "class NLayerDiscriminator(nn.Module):\n",
    "    def __init__(self, ndf, n_layers, downsampling_factor):\n",
    "        super().__init__()\n",
    "        model = nn.ModuleDict()\n",
    "\n",
    "        model[\"layer_0\"] = nn.Sequential(\n",
    "            nn.ReflectionPad1d(7),\n",
    "            WNConv1d(1, ndf, kernel_size=15),\n",
    "            nn.LeakyReLU(0.2, True),\n",
    "        )\n",
    "\n",
    "        nf = ndf\n",
    "        stride = downsampling_factor\n",
    "        for n in range(1, n_layers + 1):\n",
    "            nf_prev = nf\n",
    "            nf = min(nf * stride, 1024)\n",
    "\n",
    "            model[\"layer_%d\" % n] = nn.Sequential(\n",
    "                WNConv1d(\n",
    "                    nf_prev,\n",
    "                    nf,\n",
    "                    kernel_size=stride * 10 + 1,\n",
    "                    stride=stride,\n",
    "                    padding=stride * 5,\n",
    "                    groups=nf_prev // 4,\n",
    "                ),\n",
    "                nn.LeakyReLU(0.2, True),\n",
    "            )\n",
    "\n",
    "        nf = min(nf * 2, 1024)\n",
    "        model[\"layer_%d\" % (n_layers + 1)] = nn.Sequential(\n",
    "            WNConv1d(nf_prev, nf, kernel_size=5, stride=1, padding=2),\n",
    "            nn.LeakyReLU(0.2, True),\n",
    "        )\n",
    "\n",
    "        model[\"layer_%d\" % (n_layers + 2)] = WNConv1d(\n",
    "            nf, 1, kernel_size=3, stride=1, padding=1\n",
    "        )\n",
    "\n",
    "        self.model = model\n",
    "\n",
    "    def forward(self, x):\n",
    "        results = []\n",
    "        for key, layer in self.model.items():\n",
    "            x = layer(x)\n",
    "            results.append(x)\n",
    "        return results\n",
    "\n",
    "\n",
    "class Discriminator(nn.Module):\n",
    "    def __init__(self, num_D, ndf, n_layers, downsampling_factor):\n",
    "        super().__init__()\n",
    "        self.model = nn.ModuleDict()\n",
    "        for i in range(num_D):\n",
    "            self.model[f\"disc_{i}\"] = NLayerDiscriminator(\n",
    "                ndf, n_layers, downsampling_factor\n",
    "            )\n",
    "\n",
    "        self.downsample = nn.AvgPool1d(4, stride=2, padding=1, count_include_pad=False)\n",
    "        self.apply(weights_init)\n",
    "\n",
    "    def forward(self, x):\n",
    "        results = []\n",
    "        for key, disc in self.model.items():\n",
    "            results.append(disc(x))\n",
    "            x = self.downsample(x)\n",
    "        return results"
   ]
  },
  {
   "cell_type": "code",
   "execution_count": 12,
   "id": "a6bf0757",
   "metadata": {},
   "outputs": [
    {
     "name": "stderr",
     "output_type": "stream",
     "text": [
      "c:\\_Experiments\\GenSpeech_2025\\venv\\lib\\site-packages\\torch\\nn\\utils\\weight_norm.py:143: FutureWarning: `torch.nn.utils.weight_norm` is deprecated in favor of `torch.nn.utils.parametrizations.weight_norm`.\n",
      "  WeightNorm.apply(module, name, dim)\n"
     ]
    }
   ],
   "source": [
    "num_epochs = 100\n",
    "d_steps = 5\n",
    "\n",
    "generator = Generator(80,32,2)\n",
    "generator.to(device)\n",
    "\n",
    "discriminator = Discriminator(1,16,4,4)\n",
    "discriminator.to(device)\n",
    "\n",
    "g_opt = optim.Adam(generator.parameters(), lr=2e-4, betas=(0.5, 0.9))\n",
    "d_opt = optim.Adam(discriminator.parameters(), lr=2e-4, betas=(0.5, 0.9))\n",
    "\n",
    "scaler = torch.amp.GradScaler()"
   ]
  },
  {
   "cell_type": "code",
   "execution_count": 13,
   "id": "3508a204",
   "metadata": {},
   "outputs": [
    {
     "name": "stderr",
     "output_type": "stream",
     "text": [
      "  0%|          | 1/819 [00:01<26:08,  1.92s/it]"
     ]
    },
    {
     "name": "stdout",
     "output_type": "stream",
     "text": [
      "Epoch 0 | Step 0 | G_loss: -0.0096 | D_loss: 2.0000\n",
      "Gen audio length: 182528, Real audio length: 201885\n"
     ]
    },
    {
     "name": "stderr",
     "output_type": "stream",
     "text": [
      " 12%|█▏        | 101/819 [02:37<18:48,  1.57s/it]"
     ]
    },
    {
     "name": "stdout",
     "output_type": "stream",
     "text": [
      "Epoch 0 | Step 100 | G_loss: -0.0966 | D_loss: 2.6367\n",
      "Gen audio length: 200448, Real audio length: 216989\n"
     ]
    },
    {
     "name": "stderr",
     "output_type": "stream",
     "text": [
      " 25%|██▍       | 201/819 [05:10<15:51,  1.54s/it]"
     ]
    },
    {
     "name": "stdout",
     "output_type": "stream",
     "text": [
      "Epoch 0 | Step 200 | G_loss: -0.5400 | D_loss: 2.0000\n",
      "Gen audio length: 206336, Real audio length: 216733\n"
     ]
    },
    {
     "name": "stderr",
     "output_type": "stream",
     "text": [
      " 37%|███▋      | 301/819 [07:49<13:52,  1.61s/it]"
     ]
    },
    {
     "name": "stdout",
     "output_type": "stream",
     "text": [
      "Epoch 0 | Step 300 | G_loss: -0.1063 | D_loss: 2.0293\n",
      "Gen audio length: 206080, Real audio length: 218525\n"
     ]
    },
    {
     "name": "stderr",
     "output_type": "stream",
     "text": [
      " 49%|████▉     | 401/819 [10:32<11:37,  1.67s/it]"
     ]
    },
    {
     "name": "stdout",
     "output_type": "stream",
     "text": [
      "Epoch 0 | Step 400 | G_loss: -0.1005 | D_loss: 2.0000\n",
      "Gen audio length: 217344, Real audio length: 222621\n"
     ]
    },
    {
     "name": "stderr",
     "output_type": "stream",
     "text": [
      " 61%|██████    | 501/819 [13:18<08:48,  1.66s/it]"
     ]
    },
    {
     "name": "stdout",
     "output_type": "stream",
     "text": [
      "Epoch 0 | Step 500 | G_loss: -0.1736 | D_loss: 1.9844\n",
      "Gen audio length: 200960, Real audio length: 215197\n"
     ]
    },
    {
     "name": "stderr",
     "output_type": "stream",
     "text": [
      " 73%|███████▎  | 601/819 [15:59<05:31,  1.52s/it]"
     ]
    },
    {
     "name": "stdout",
     "output_type": "stream",
     "text": [
      "Epoch 0 | Step 600 | G_loss: -0.3586 | D_loss: 2.0781\n",
      "Gen audio length: 196352, Real audio length: 219293\n"
     ]
    },
    {
     "name": "stderr",
     "output_type": "stream",
     "text": [
      " 86%|████████▌ | 701/819 [18:32<03:07,  1.59s/it]"
     ]
    },
    {
     "name": "stdout",
     "output_type": "stream",
     "text": [
      "Epoch 0 | Step 700 | G_loss: -0.2979 | D_loss: 2.0957\n",
      "Gen audio length: 200448, Real audio length: 219037\n"
     ]
    },
    {
     "name": "stderr",
     "output_type": "stream",
     "text": [
      " 98%|█████████▊| 801/819 [21:03<00:25,  1.42s/it]"
     ]
    },
    {
     "name": "stdout",
     "output_type": "stream",
     "text": [
      "Epoch 0 | Step 800 | G_loss: -0.2556 | D_loss: 2.3516\n",
      "Gen audio length: 178944, Real audio length: 209053\n"
     ]
    },
    {
     "name": "stderr",
     "output_type": "stream",
     "text": [
      "100%|██████████| 819/819 [21:30<00:00,  1.58s/it]\n",
      "  0%|          | 1/819 [00:01<18:45,  1.38s/it]"
     ]
    },
    {
     "name": "stdout",
     "output_type": "stream",
     "text": [
      "Epoch 1 | Step 0 | G_loss: 0.0969 | D_loss: 2.5371\n",
      "Gen audio length: 185600, Real audio length: 207005\n"
     ]
    },
    {
     "name": "stderr",
     "output_type": "stream",
     "text": [
      " 12%|█▏        | 101/819 [02:26<17:28,  1.46s/it]"
     ]
    },
    {
     "name": "stdout",
     "output_type": "stream",
     "text": [
      "Epoch 1 | Step 100 | G_loss: 1.0010 | D_loss: 1.6494\n",
      "Gen audio length: 211712, Real audio length: 216221\n"
     ]
    },
    {
     "name": "stderr",
     "output_type": "stream",
     "text": [
      " 25%|██▍       | 201/819 [05:04<18:04,  1.75s/it]"
     ]
    },
    {
     "name": "stdout",
     "output_type": "stream",
     "text": [
      "Epoch 1 | Step 200 | G_loss: 0.5884 | D_loss: 2.0723\n",
      "Gen audio length: 185600, Real audio length: 198557\n"
     ]
    },
    {
     "name": "stderr",
     "output_type": "stream",
     "text": [
      " 37%|███▋      | 301/819 [07:59<14:45,  1.71s/it]"
     ]
    },
    {
     "name": "stdout",
     "output_type": "stream",
     "text": [
      "Epoch 1 | Step 300 | G_loss: -0.3706 | D_loss: 1.7803\n",
      "Gen audio length: 193792, Real audio length: 209309\n"
     ]
    },
    {
     "name": "stderr",
     "output_type": "stream",
     "text": [
      " 49%|████▉     | 401/819 [10:53<12:25,  1.78s/it]"
     ]
    },
    {
     "name": "stdout",
     "output_type": "stream",
     "text": [
      "Epoch 1 | Step 400 | G_loss: 0.9600 | D_loss: 1.4678\n",
      "Gen audio length: 193280, Real audio length: 220829\n"
     ]
    },
    {
     "name": "stderr",
     "output_type": "stream",
     "text": [
      " 61%|██████    | 501/819 [13:47<09:05,  1.71s/it]"
     ]
    },
    {
     "name": "stdout",
     "output_type": "stream",
     "text": [
      "Epoch 1 | Step 500 | G_loss: 0.1646 | D_loss: 1.5723\n",
      "Gen audio length: 183040, Real audio length: 222365\n"
     ]
    },
    {
     "name": "stderr",
     "output_type": "stream",
     "text": [
      " 73%|███████▎  | 601/819 [16:40<06:09,  1.70s/it]"
     ]
    },
    {
     "name": "stdout",
     "output_type": "stream",
     "text": [
      "Epoch 1 | Step 600 | G_loss: 1.1982 | D_loss: 2.1523\n",
      "Gen audio length: 196096, Real audio length: 221085\n"
     ]
    },
    {
     "name": "stderr",
     "output_type": "stream",
     "text": [
      " 86%|████████▌ | 701/819 [19:36<03:29,  1.78s/it]"
     ]
    },
    {
     "name": "stdout",
     "output_type": "stream",
     "text": [
      "Epoch 1 | Step 700 | G_loss: 0.8135 | D_loss: 0.8613\n",
      "Gen audio length: 216576, Real audio length: 220317\n"
     ]
    },
    {
     "name": "stderr",
     "output_type": "stream",
     "text": [
      " 98%|█████████▊| 801/819 [22:30<00:31,  1.75s/it]"
     ]
    },
    {
     "name": "stdout",
     "output_type": "stream",
     "text": [
      "Epoch 1 | Step 800 | G_loss: 0.2496 | D_loss: 2.3027\n",
      "Gen audio length: 197632, Real audio length: 210333\n"
     ]
    },
    {
     "name": "stderr",
     "output_type": "stream",
     "text": [
      "100%|██████████| 819/819 [23:01<00:00,  1.69s/it]\n",
      "  0%|          | 1/819 [00:01<19:22,  1.42s/it]"
     ]
    },
    {
     "name": "stdout",
     "output_type": "stream",
     "text": [
      "Epoch 2 | Step 0 | G_loss: 0.2524 | D_loss: 1.9082\n",
      "Gen audio length: 181248, Real audio length: 212125\n"
     ]
    },
    {
     "name": "stderr",
     "output_type": "stream",
     "text": [
      " 12%|█▏        | 101/819 [02:33<18:27,  1.54s/it]"
     ]
    },
    {
     "name": "stdout",
     "output_type": "stream",
     "text": [
      "Epoch 2 | Step 100 | G_loss: 1.3584 | D_loss: 1.7383\n",
      "Gen audio length: 200704, Real audio length: 217245\n"
     ]
    },
    {
     "name": "stderr",
     "output_type": "stream",
     "text": [
      " 25%|██▍       | 201/819 [05:04<15:57,  1.55s/it]"
     ]
    },
    {
     "name": "stdout",
     "output_type": "stream",
     "text": [
      "Epoch 2 | Step 200 | G_loss: 0.6772 | D_loss: 1.7227\n",
      "Gen audio length: 199168, Real audio length: 211357\n"
     ]
    },
    {
     "name": "stderr",
     "output_type": "stream",
     "text": [
      " 37%|███▋      | 301/819 [07:35<12:50,  1.49s/it]"
     ]
    },
    {
     "name": "stdout",
     "output_type": "stream",
     "text": [
      "Epoch 2 | Step 300 | G_loss: 0.4961 | D_loss: 1.9531\n",
      "Gen audio length: 194304, Real audio length: 213149\n"
     ]
    },
    {
     "name": "stderr",
     "output_type": "stream",
     "text": [
      " 49%|████▉     | 401/819 [10:05<10:57,  1.57s/it]"
     ]
    },
    {
     "name": "stdout",
     "output_type": "stream",
     "text": [
      "Epoch 2 | Step 400 | G_loss: -0.3318 | D_loss: 1.9551\n",
      "Gen audio length: 205056, Real audio length: 220829\n"
     ]
    },
    {
     "name": "stderr",
     "output_type": "stream",
     "text": [
      " 61%|██████    | 501/819 [12:37<08:00,  1.51s/it]"
     ]
    },
    {
     "name": "stdout",
     "output_type": "stream",
     "text": [
      "Epoch 2 | Step 500 | G_loss: 0.5786 | D_loss: 2.0566\n",
      "Gen audio length: 205824, Real audio length: 216477\n"
     ]
    },
    {
     "name": "stderr",
     "output_type": "stream",
     "text": [
      " 73%|███████▎  | 601/819 [15:09<05:25,  1.50s/it]"
     ]
    },
    {
     "name": "stdout",
     "output_type": "stream",
     "text": [
      "Epoch 2 | Step 600 | G_loss: 0.4897 | D_loss: 1.7383\n",
      "Gen audio length: 187904, Real audio length: 211613\n"
     ]
    },
    {
     "name": "stderr",
     "output_type": "stream",
     "text": [
      " 86%|████████▌ | 701/819 [17:42<02:54,  1.48s/it]"
     ]
    },
    {
     "name": "stdout",
     "output_type": "stream",
     "text": [
      "Epoch 2 | Step 700 | G_loss: 0.0460 | D_loss: 2.2383\n",
      "Gen audio length: 181248, Real audio length: 215453\n"
     ]
    },
    {
     "name": "stderr",
     "output_type": "stream",
     "text": [
      " 98%|█████████▊| 801/819 [20:12<00:27,  1.51s/it]"
     ]
    },
    {
     "name": "stdout",
     "output_type": "stream",
     "text": [
      "Epoch 2 | Step 800 | G_loss: 0.6772 | D_loss: 1.9121\n",
      "Gen audio length: 198144, Real audio length: 219549\n"
     ]
    },
    {
     "name": "stderr",
     "output_type": "stream",
     "text": [
      "100%|██████████| 819/819 [20:40<00:00,  1.51s/it]\n",
      "  0%|          | 1/819 [00:01<19:40,  1.44s/it]"
     ]
    },
    {
     "name": "stdout",
     "output_type": "stream",
     "text": [
      "Epoch 3 | Step 0 | G_loss: 0.5830 | D_loss: 1.9746\n",
      "Gen audio length: 196608, Real audio length: 205725\n"
     ]
    },
    {
     "name": "stderr",
     "output_type": "stream",
     "text": [
      " 12%|█▏        | 101/819 [02:26<17:20,  1.45s/it]"
     ]
    },
    {
     "name": "stdout",
     "output_type": "stream",
     "text": [
      "Epoch 3 | Step 100 | G_loss: 0.5142 | D_loss: 1.5391\n",
      "Gen audio length: 197120, Real audio length: 219037\n"
     ]
    },
    {
     "name": "stderr",
     "output_type": "stream",
     "text": [
      " 25%|██▍       | 201/819 [04:52<15:19,  1.49s/it]"
     ]
    },
    {
     "name": "stdout",
     "output_type": "stream",
     "text": [
      "Epoch 3 | Step 200 | G_loss: 0.8887 | D_loss: 2.0410\n",
      "Gen audio length: 199680, Real audio length: 222109\n"
     ]
    },
    {
     "name": "stderr",
     "output_type": "stream",
     "text": [
      " 37%|███▋      | 301/819 [07:17<12:44,  1.48s/it]"
     ]
    },
    {
     "name": "stdout",
     "output_type": "stream",
     "text": [
      "Epoch 3 | Step 300 | G_loss: 0.6284 | D_loss: 2.0137\n",
      "Gen audio length: 208384, Real audio length: 216221\n"
     ]
    },
    {
     "name": "stderr",
     "output_type": "stream",
     "text": [
      " 49%|████▉     | 401/819 [09:42<10:07,  1.45s/it]"
     ]
    },
    {
     "name": "stdout",
     "output_type": "stream",
     "text": [
      "Epoch 3 | Step 400 | G_loss: 0.4167 | D_loss: 1.8984\n",
      "Gen audio length: 185600, Real audio length: 212125\n"
     ]
    },
    {
     "name": "stderr",
     "output_type": "stream",
     "text": [
      " 61%|██████    | 501/819 [12:07<07:49,  1.47s/it]"
     ]
    },
    {
     "name": "stdout",
     "output_type": "stream",
     "text": [
      "Epoch 3 | Step 500 | G_loss: 0.3630 | D_loss: 1.6973\n",
      "Gen audio length: 198144, Real audio length: 220061\n"
     ]
    },
    {
     "name": "stderr",
     "output_type": "stream",
     "text": [
      " 73%|███████▎  | 601/819 [14:32<05:21,  1.47s/it]"
     ]
    },
    {
     "name": "stdout",
     "output_type": "stream",
     "text": [
      "Epoch 3 | Step 600 | G_loss: 0.5854 | D_loss: 1.5615\n",
      "Gen audio length: 205568, Real audio length: 212637\n"
     ]
    },
    {
     "name": "stderr",
     "output_type": "stream",
     "text": [
      " 86%|████████▌ | 701/819 [16:58<02:51,  1.45s/it]"
     ]
    },
    {
     "name": "stdout",
     "output_type": "stream",
     "text": [
      "Epoch 3 | Step 700 | G_loss: 0.5469 | D_loss: 1.9688\n",
      "Gen audio length: 200448, Real audio length: 219037\n"
     ]
    },
    {
     "name": "stderr",
     "output_type": "stream",
     "text": [
      " 98%|█████████▊| 801/819 [19:23<00:26,  1.44s/it]"
     ]
    },
    {
     "name": "stdout",
     "output_type": "stream",
     "text": [
      "Epoch 3 | Step 800 | G_loss: 0.4912 | D_loss: 1.8682\n",
      "Gen audio length: 194560, Real audio length: 212125\n"
     ]
    },
    {
     "name": "stderr",
     "output_type": "stream",
     "text": [
      "100%|██████████| 819/819 [19:49<00:00,  1.45s/it]\n",
      "  0%|          | 1/819 [00:01<20:09,  1.48s/it]"
     ]
    },
    {
     "name": "stdout",
     "output_type": "stream",
     "text": [
      "Epoch 4 | Step 0 | G_loss: 0.2084 | D_loss: 1.9707\n",
      "Gen audio length: 200448, Real audio length: 214429\n"
     ]
    },
    {
     "name": "stderr",
     "output_type": "stream",
     "text": [
      " 12%|█▏        | 101/819 [02:25<17:00,  1.42s/it]"
     ]
    },
    {
     "name": "stdout",
     "output_type": "stream",
     "text": [
      "Epoch 4 | Step 100 | G_loss: 0.5669 | D_loss: 2.3047\n",
      "Gen audio length: 203520, Real audio length: 219293\n"
     ]
    },
    {
     "name": "stderr",
     "output_type": "stream",
     "text": [
      " 25%|██▍       | 201/819 [04:49<15:21,  1.49s/it]"
     ]
    },
    {
     "name": "stdout",
     "output_type": "stream",
     "text": [
      "Epoch 4 | Step 200 | G_loss: 0.1517 | D_loss: 1.7861\n",
      "Gen audio length: 198400, Real audio length: 215197\n"
     ]
    },
    {
     "name": "stderr",
     "output_type": "stream",
     "text": [
      " 37%|███▋      | 301/819 [07:14<12:07,  1.41s/it]"
     ]
    },
    {
     "name": "stdout",
     "output_type": "stream",
     "text": [
      "Epoch 4 | Step 300 | G_loss: 0.2803 | D_loss: 2.0664\n",
      "Gen audio length: 176384, Real audio length: 190621\n"
     ]
    },
    {
     "name": "stderr",
     "output_type": "stream",
     "text": [
      " 49%|████▉     | 401/819 [09:40<09:55,  1.42s/it]"
     ]
    },
    {
     "name": "stdout",
     "output_type": "stream",
     "text": [
      "Epoch 4 | Step 400 | G_loss: 0.7065 | D_loss: 1.8320\n",
      "Gen audio length: 189952, Real audio length: 212381\n"
     ]
    },
    {
     "name": "stderr",
     "output_type": "stream",
     "text": [
      " 61%|██████    | 501/819 [12:07<07:59,  1.51s/it]"
     ]
    },
    {
     "name": "stdout",
     "output_type": "stream",
     "text": [
      "Epoch 4 | Step 500 | G_loss: -0.0729 | D_loss: 2.0117\n",
      "Gen audio length: 197120, Real audio length: 216733\n"
     ]
    },
    {
     "name": "stderr",
     "output_type": "stream",
     "text": [
      " 73%|███████▎  | 601/819 [14:35<05:22,  1.48s/it]"
     ]
    },
    {
     "name": "stdout",
     "output_type": "stream",
     "text": [
      "Epoch 4 | Step 600 | G_loss: 0.5996 | D_loss: 2.0273\n",
      "Gen audio length: 191744, Real audio length: 212381\n"
     ]
    },
    {
     "name": "stderr",
     "output_type": "stream",
     "text": [
      " 86%|████████▌ | 701/819 [17:11<03:01,  1.54s/it]"
     ]
    },
    {
     "name": "stdout",
     "output_type": "stream",
     "text": [
      "Epoch 4 | Step 700 | G_loss: 0.1714 | D_loss: 1.9971\n",
      "Gen audio length: 198656, Real audio length: 213917\n"
     ]
    },
    {
     "name": "stderr",
     "output_type": "stream",
     "text": [
      " 98%|█████████▊| 801/819 [19:47<00:27,  1.54s/it]"
     ]
    },
    {
     "name": "stdout",
     "output_type": "stream",
     "text": [
      "Epoch 4 | Step 800 | G_loss: 0.0515 | D_loss: 1.8516\n",
      "Gen audio length: 187136, Real audio length: 203421\n"
     ]
    },
    {
     "name": "stderr",
     "output_type": "stream",
     "text": [
      "100%|██████████| 819/819 [20:14<00:00,  1.48s/it]\n",
      "  0%|          | 1/819 [00:01<22:11,  1.63s/it]"
     ]
    },
    {
     "name": "stdout",
     "output_type": "stream",
     "text": [
      "Epoch 5 | Step 0 | G_loss: -0.0978 | D_loss: 1.9814\n",
      "Gen audio length: 206336, Real audio length: 218013\n"
     ]
    },
    {
     "name": "stderr",
     "output_type": "stream",
     "text": [
      " 12%|█▏        | 101/819 [02:38<19:43,  1.65s/it]"
     ]
    },
    {
     "name": "stdout",
     "output_type": "stream",
     "text": [
      "Epoch 5 | Step 100 | G_loss: 0.1604 | D_loss: 1.9297\n",
      "Gen audio length: 216576, Real audio length: 216989\n"
     ]
    },
    {
     "name": "stderr",
     "output_type": "stream",
     "text": [
      " 25%|██▍       | 201/819 [05:16<16:49,  1.63s/it]"
     ]
    },
    {
     "name": "stdout",
     "output_type": "stream",
     "text": [
      "Epoch 5 | Step 200 | G_loss: 0.6235 | D_loss: 1.4824\n",
      "Gen audio length: 211968, Real audio length: 222109\n"
     ]
    },
    {
     "name": "stderr",
     "output_type": "stream",
     "text": [
      " 37%|███▋      | 301/819 [07:52<13:28,  1.56s/it]"
     ]
    },
    {
     "name": "stdout",
     "output_type": "stream",
     "text": [
      "Epoch 5 | Step 300 | G_loss: 0.5864 | D_loss: 1.4141\n",
      "Gen audio length: 180992, Real audio length: 191389\n"
     ]
    },
    {
     "name": "stderr",
     "output_type": "stream",
     "text": [
      " 49%|████▉     | 401/819 [10:28<11:12,  1.61s/it]"
     ]
    },
    {
     "name": "stdout",
     "output_type": "stream",
     "text": [
      "Epoch 5 | Step 400 | G_loss: 0.7183 | D_loss: 1.8457\n",
      "Gen audio length: 201216, Real audio length: 220573\n"
     ]
    },
    {
     "name": "stderr",
     "output_type": "stream",
     "text": [
      " 61%|██████    | 501/819 [13:04<08:10,  1.54s/it]"
     ]
    },
    {
     "name": "stdout",
     "output_type": "stream",
     "text": [
      "Epoch 5 | Step 500 | G_loss: 0.8638 | D_loss: 1.6426\n",
      "Gen audio length: 176640, Real audio length: 197533\n"
     ]
    },
    {
     "name": "stderr",
     "output_type": "stream",
     "text": [
      " 73%|███████▎  | 601/819 [15:41<05:39,  1.56s/it]"
     ]
    },
    {
     "name": "stdout",
     "output_type": "stream",
     "text": [
      "Epoch 5 | Step 600 | G_loss: 0.4875 | D_loss: 1.2080\n",
      "Gen audio length: 190208, Real audio length: 212637\n"
     ]
    },
    {
     "name": "stderr",
     "output_type": "stream",
     "text": [
      " 86%|████████▌ | 701/819 [18:17<02:51,  1.46s/it]"
     ]
    },
    {
     "name": "stdout",
     "output_type": "stream",
     "text": [
      "Epoch 5 | Step 700 | G_loss: 0.1930 | D_loss: 1.3145\n",
      "Gen audio length: 176384, Real audio length: 222365\n"
     ]
    },
    {
     "name": "stderr",
     "output_type": "stream",
     "text": [
      " 98%|█████████▊| 801/819 [20:54<00:28,  1.59s/it]"
     ]
    },
    {
     "name": "stdout",
     "output_type": "stream",
     "text": [
      "Epoch 5 | Step 800 | G_loss: 1.7100 | D_loss: 1.1260\n",
      "Gen audio length: 194304, Real audio length: 218525\n"
     ]
    },
    {
     "name": "stderr",
     "output_type": "stream",
     "text": [
      "100%|██████████| 819/819 [21:22<00:00,  1.57s/it]\n",
      "  0%|          | 1/819 [00:01<21:52,  1.60s/it]"
     ]
    },
    {
     "name": "stdout",
     "output_type": "stream",
     "text": [
      "Epoch 6 | Step 0 | G_loss: 0.9736 | D_loss: 0.8921\n",
      "Gen audio length: 194048, Real audio length: 219805\n"
     ]
    },
    {
     "name": "stderr",
     "output_type": "stream",
     "text": [
      " 12%|█▏        | 101/819 [02:37<18:59,  1.59s/it]"
     ]
    },
    {
     "name": "stdout",
     "output_type": "stream",
     "text": [
      "Epoch 6 | Step 100 | G_loss: 1.5986 | D_loss: 1.3203\n",
      "Gen audio length: 205056, Real audio length: 222109\n"
     ]
    },
    {
     "name": "stderr",
     "output_type": "stream",
     "text": [
      " 25%|██▍       | 201/819 [05:13<16:03,  1.56s/it]"
     ]
    },
    {
     "name": "stdout",
     "output_type": "stream",
     "text": [
      "Epoch 6 | Step 200 | G_loss: 1.4600 | D_loss: 1.4697\n",
      "Gen audio length: 177152, Real audio length: 207261\n"
     ]
    },
    {
     "name": "stderr",
     "output_type": "stream",
     "text": [
      " 37%|███▋      | 301/819 [07:49<13:21,  1.55s/it]"
     ]
    },
    {
     "name": "stdout",
     "output_type": "stream",
     "text": [
      "Epoch 6 | Step 300 | G_loss: 0.9263 | D_loss: 1.6914\n",
      "Gen audio length: 198144, Real audio length: 222621\n"
     ]
    },
    {
     "name": "stderr",
     "output_type": "stream",
     "text": [
      " 49%|████▉     | 401/819 [10:26<11:14,  1.61s/it]"
     ]
    },
    {
     "name": "stdout",
     "output_type": "stream",
     "text": [
      "Epoch 6 | Step 400 | G_loss: 2.3574 | D_loss: 2.1973\n",
      "Gen audio length: 197888, Real audio length: 215197\n"
     ]
    },
    {
     "name": "stderr",
     "output_type": "stream",
     "text": [
      " 61%|██████    | 501/819 [13:02<08:20,  1.57s/it]"
     ]
    },
    {
     "name": "stdout",
     "output_type": "stream",
     "text": [
      "Epoch 6 | Step 500 | G_loss: 0.4058 | D_loss: 1.5391\n",
      "Gen audio length: 199168, Real audio length: 216221\n"
     ]
    },
    {
     "name": "stderr",
     "output_type": "stream",
     "text": [
      " 73%|███████▎  | 601/819 [15:38<05:29,  1.51s/it]"
     ]
    },
    {
     "name": "stdout",
     "output_type": "stream",
     "text": [
      "Epoch 6 | Step 600 | G_loss: 0.2487 | D_loss: 1.7744\n",
      "Gen audio length: 182784, Real audio length: 212125\n"
     ]
    },
    {
     "name": "stderr",
     "output_type": "stream",
     "text": [
      " 86%|████████▌ | 701/819 [18:14<03:08,  1.59s/it]"
     ]
    },
    {
     "name": "stdout",
     "output_type": "stream",
     "text": [
      "Epoch 6 | Step 700 | G_loss: 1.3057 | D_loss: 0.8374\n",
      "Gen audio length: 197632, Real audio length: 216733\n"
     ]
    },
    {
     "name": "stderr",
     "output_type": "stream",
     "text": [
      " 98%|█████████▊| 801/819 [20:49<00:29,  1.62s/it]"
     ]
    },
    {
     "name": "stdout",
     "output_type": "stream",
     "text": [
      "Epoch 6 | Step 800 | G_loss: 1.3809 | D_loss: 0.6338\n",
      "Gen audio length: 210432, Real audio length: 220061\n"
     ]
    },
    {
     "name": "stderr",
     "output_type": "stream",
     "text": [
      "100%|██████████| 819/819 [21:17<00:00,  1.56s/it]\n",
      "  0%|          | 1/819 [00:01<21:53,  1.61s/it]"
     ]
    },
    {
     "name": "stdout",
     "output_type": "stream",
     "text": [
      "Epoch 7 | Step 0 | G_loss: 0.7339 | D_loss: 1.5684\n",
      "Gen audio length: 203520, Real audio length: 220317\n"
     ]
    },
    {
     "name": "stderr",
     "output_type": "stream",
     "text": [
      " 12%|█▏        | 101/819 [02:37<19:07,  1.60s/it]"
     ]
    },
    {
     "name": "stdout",
     "output_type": "stream",
     "text": [
      "Epoch 7 | Step 100 | G_loss: 0.9194 | D_loss: 1.2207\n",
      "Gen audio length: 200192, Real audio length: 211869\n"
     ]
    },
    {
     "name": "stderr",
     "output_type": "stream",
     "text": [
      " 25%|██▍       | 201/819 [05:15<15:58,  1.55s/it]"
     ]
    },
    {
     "name": "stdout",
     "output_type": "stream",
     "text": [
      "Epoch 7 | Step 200 | G_loss: 1.2773 | D_loss: 1.3008\n",
      "Gen audio length: 196096, Real audio length: 222621\n"
     ]
    },
    {
     "name": "stderr",
     "output_type": "stream",
     "text": [
      " 37%|███▋      | 301/819 [07:53<13:42,  1.59s/it]"
     ]
    },
    {
     "name": "stdout",
     "output_type": "stream",
     "text": [
      "Epoch 7 | Step 300 | G_loss: 1.4033 | D_loss: 0.2244\n",
      "Gen audio length: 193792, Real audio length: 212637\n"
     ]
    },
    {
     "name": "stderr",
     "output_type": "stream",
     "text": [
      " 49%|████▉     | 401/819 [10:28<11:06,  1.60s/it]"
     ]
    },
    {
     "name": "stdout",
     "output_type": "stream",
     "text": [
      "Epoch 7 | Step 400 | G_loss: 1.4736 | D_loss: 0.8008\n",
      "Gen audio length: 205824, Real audio length: 220573\n"
     ]
    },
    {
     "name": "stderr",
     "output_type": "stream",
     "text": [
      " 61%|██████    | 501/819 [13:04<08:11,  1.55s/it]"
     ]
    },
    {
     "name": "stdout",
     "output_type": "stream",
     "text": [
      "Epoch 7 | Step 500 | G_loss: 2.1953 | D_loss: 0.8760\n",
      "Gen audio length: 187136, Real audio length: 210077\n"
     ]
    },
    {
     "name": "stderr",
     "output_type": "stream",
     "text": [
      " 73%|███████▎  | 601/819 [15:43<05:45,  1.58s/it]"
     ]
    },
    {
     "name": "stdout",
     "output_type": "stream",
     "text": [
      "Epoch 7 | Step 600 | G_loss: 0.9951 | D_loss: 1.7520\n",
      "Gen audio length: 197120, Real audio length: 211357\n"
     ]
    },
    {
     "name": "stderr",
     "output_type": "stream",
     "text": [
      " 86%|████████▌ | 701/819 [18:21<03:03,  1.55s/it]"
     ]
    },
    {
     "name": "stdout",
     "output_type": "stream",
     "text": [
      "Epoch 7 | Step 700 | G_loss: 0.9814 | D_loss: 1.9453\n",
      "Gen audio length: 175616, Real audio length: 199837\n"
     ]
    },
    {
     "name": "stderr",
     "output_type": "stream",
     "text": [
      " 98%|█████████▊| 801/819 [20:55<00:28,  1.58s/it]"
     ]
    },
    {
     "name": "stdout",
     "output_type": "stream",
     "text": [
      "Epoch 7 | Step 800 | G_loss: 0.4954 | D_loss: 1.8691\n",
      "Gen audio length: 192768, Real audio length: 215197\n"
     ]
    },
    {
     "name": "stderr",
     "output_type": "stream",
     "text": [
      "100%|██████████| 819/819 [21:23<00:00,  1.57s/it]\n",
      "  0%|          | 1/819 [00:01<21:55,  1.61s/it]"
     ]
    },
    {
     "name": "stdout",
     "output_type": "stream",
     "text": [
      "Epoch 8 | Step 0 | G_loss: 1.2119 | D_loss: 1.1982\n",
      "Gen audio length: 194560, Real audio length: 222109\n"
     ]
    },
    {
     "name": "stderr",
     "output_type": "stream",
     "text": [
      " 12%|█▏        | 101/819 [02:38<18:19,  1.53s/it]"
     ]
    },
    {
     "name": "stdout",
     "output_type": "stream",
     "text": [
      "Epoch 8 | Step 100 | G_loss: 1.9316 | D_loss: 1.7715\n",
      "Gen audio length: 193792, Real audio length: 215197\n"
     ]
    },
    {
     "name": "stderr",
     "output_type": "stream",
     "text": [
      " 25%|██▍       | 201/819 [05:16<16:44,  1.63s/it]"
     ]
    },
    {
     "name": "stdout",
     "output_type": "stream",
     "text": [
      "Epoch 8 | Step 200 | G_loss: 1.4023 | D_loss: 0.8735\n",
      "Gen audio length: 209152, Real audio length: 216477\n"
     ]
    },
    {
     "name": "stderr",
     "output_type": "stream",
     "text": [
      " 37%|███▋      | 301/819 [07:54<13:28,  1.56s/it]"
     ]
    },
    {
     "name": "stdout",
     "output_type": "stream",
     "text": [
      "Epoch 8 | Step 300 | G_loss: 0.7910 | D_loss: 1.1602\n",
      "Gen audio length: 203776, Real audio length: 222621\n"
     ]
    },
    {
     "name": "stderr",
     "output_type": "stream",
     "text": [
      " 49%|████▉     | 401/819 [10:30<11:04,  1.59s/it]"
     ]
    },
    {
     "name": "stdout",
     "output_type": "stream",
     "text": [
      "Epoch 8 | Step 400 | G_loss: 1.9570 | D_loss: 0.4473\n",
      "Gen audio length: 202240, Real audio length: 219293\n"
     ]
    },
    {
     "name": "stderr",
     "output_type": "stream",
     "text": [
      " 61%|██████    | 501/819 [13:05<08:21,  1.58s/it]"
     ]
    },
    {
     "name": "stdout",
     "output_type": "stream",
     "text": [
      "Epoch 8 | Step 500 | G_loss: 1.0635 | D_loss: 0.5737\n",
      "Gen audio length: 202752, Real audio length: 218013\n"
     ]
    },
    {
     "name": "stderr",
     "output_type": "stream",
     "text": [
      " 73%|███████▎  | 601/819 [15:42<05:50,  1.61s/it]"
     ]
    },
    {
     "name": "stdout",
     "output_type": "stream",
     "text": [
      "Epoch 8 | Step 600 | G_loss: 1.6611 | D_loss: 0.8672\n",
      "Gen audio length: 201728, Real audio length: 216989\n"
     ]
    },
    {
     "name": "stderr",
     "output_type": "stream",
     "text": [
      " 86%|████████▌ | 701/819 [18:21<03:08,  1.60s/it]"
     ]
    },
    {
     "name": "stdout",
     "output_type": "stream",
     "text": [
      "Epoch 8 | Step 700 | G_loss: 2.6836 | D_loss: 1.6240\n",
      "Gen audio length: 199680, Real audio length: 214429\n"
     ]
    },
    {
     "name": "stderr",
     "output_type": "stream",
     "text": [
      " 98%|█████████▊| 801/819 [20:57<00:28,  1.58s/it]"
     ]
    },
    {
     "name": "stdout",
     "output_type": "stream",
     "text": [
      "Epoch 8 | Step 800 | G_loss: 0.5850 | D_loss: 1.2129\n",
      "Gen audio length: 200448, Real audio length: 220573\n"
     ]
    },
    {
     "name": "stderr",
     "output_type": "stream",
     "text": [
      "100%|██████████| 819/819 [21:25<00:00,  1.57s/it]\n",
      "  0%|          | 1/819 [00:01<21:32,  1.58s/it]"
     ]
    },
    {
     "name": "stdout",
     "output_type": "stream",
     "text": [
      "Epoch 9 | Step 0 | G_loss: 1.1758 | D_loss: 0.5205\n",
      "Gen audio length: 196096, Real audio length: 222621\n"
     ]
    },
    {
     "name": "stderr",
     "output_type": "stream",
     "text": [
      " 12%|█▏        | 101/819 [02:38<18:28,  1.54s/it]"
     ]
    },
    {
     "name": "stdout",
     "output_type": "stream",
     "text": [
      "Epoch 9 | Step 100 | G_loss: 2.2051 | D_loss: 0.3413\n",
      "Gen audio length: 184576, Real audio length: 203933\n"
     ]
    },
    {
     "name": "stderr",
     "output_type": "stream",
     "text": [
      " 25%|██▍       | 201/819 [05:16<16:15,  1.58s/it]"
     ]
    },
    {
     "name": "stdout",
     "output_type": "stream",
     "text": [
      "Epoch 9 | Step 200 | G_loss: 1.5908 | D_loss: 1.6006\n",
      "Gen audio length: 186112, Real audio length: 219037\n"
     ]
    },
    {
     "name": "stderr",
     "output_type": "stream",
     "text": [
      " 37%|███▋      | 301/819 [07:53<13:28,  1.56s/it]"
     ]
    },
    {
     "name": "stdout",
     "output_type": "stream",
     "text": [
      "Epoch 9 | Step 300 | G_loss: 1.3809 | D_loss: 1.0674\n",
      "Gen audio length: 191744, Real audio length: 220829\n"
     ]
    },
    {
     "name": "stderr",
     "output_type": "stream",
     "text": [
      " 49%|████▉     | 401/819 [10:30<11:06,  1.59s/it]"
     ]
    },
    {
     "name": "stdout",
     "output_type": "stream",
     "text": [
      "Epoch 9 | Step 400 | G_loss: 1.5205 | D_loss: 1.1270\n",
      "Gen audio length: 196096, Real audio length: 222109\n"
     ]
    },
    {
     "name": "stderr",
     "output_type": "stream",
     "text": [
      " 61%|██████    | 501/819 [13:08<08:28,  1.60s/it]"
     ]
    },
    {
     "name": "stdout",
     "output_type": "stream",
     "text": [
      "Epoch 9 | Step 500 | G_loss: 1.9209 | D_loss: 1.5459\n",
      "Gen audio length: 197632, Real audio length: 212381\n"
     ]
    },
    {
     "name": "stderr",
     "output_type": "stream",
     "text": [
      " 73%|███████▎  | 601/819 [15:43<05:33,  1.53s/it]"
     ]
    },
    {
     "name": "stdout",
     "output_type": "stream",
     "text": [
      "Epoch 9 | Step 600 | G_loss: 1.8359 | D_loss: 1.4404\n",
      "Gen audio length: 182016, Real audio length: 203165\n"
     ]
    },
    {
     "name": "stderr",
     "output_type": "stream",
     "text": [
      " 86%|████████▌ | 701/819 [18:20<03:10,  1.61s/it]"
     ]
    },
    {
     "name": "stdout",
     "output_type": "stream",
     "text": [
      "Epoch 9 | Step 700 | G_loss: 0.5308 | D_loss: 1.6133\n",
      "Gen audio length: 199936, Real audio length: 214173\n"
     ]
    },
    {
     "name": "stderr",
     "output_type": "stream",
     "text": [
      " 98%|█████████▊| 801/819 [20:57<00:28,  1.58s/it]"
     ]
    },
    {
     "name": "stdout",
     "output_type": "stream",
     "text": [
      "Epoch 9 | Step 800 | G_loss: 1.3809 | D_loss: 1.1689\n",
      "Gen audio length: 203008, Real audio length: 217245\n"
     ]
    },
    {
     "name": "stderr",
     "output_type": "stream",
     "text": [
      "100%|██████████| 819/819 [21:25<00:00,  1.57s/it]\n",
      "  0%|          | 1/819 [00:01<21:55,  1.61s/it]"
     ]
    },
    {
     "name": "stdout",
     "output_type": "stream",
     "text": [
      "Epoch 10 | Step 0 | G_loss: 1.9170 | D_loss: 0.7764\n",
      "Gen audio length: 200704, Real audio length: 218269\n"
     ]
    },
    {
     "name": "stderr",
     "output_type": "stream",
     "text": [
      "  9%|▉         | 72/819 [01:53<19:33,  1.57s/it]\n"
     ]
    },
    {
     "ename": "KeyboardInterrupt",
     "evalue": "",
     "output_type": "error",
     "traceback": [
      "\u001b[1;31m---------------------------------------------------------------------------\u001b[0m",
      "\u001b[1;31mKeyboardInterrupt\u001b[0m                         Traceback (most recent call last)",
      "Cell \u001b[1;32mIn[13], line 2\u001b[0m\n\u001b[0;32m      1\u001b[0m \u001b[38;5;28;01mfor\u001b[39;00m epoch \u001b[38;5;129;01min\u001b[39;00m \u001b[38;5;28mrange\u001b[39m(num_epochs):\n\u001b[1;32m----> 2\u001b[0m     \u001b[38;5;28;01mfor\u001b[39;00m step, (mel, real_audio, _, lengths) \u001b[38;5;129;01min\u001b[39;00m \u001b[38;5;28menumerate\u001b[39m(tqdm(dataloader)):\n\u001b[0;32m      3\u001b[0m         mel \u001b[38;5;241m=\u001b[39m mel\u001b[38;5;241m.\u001b[39mto(device)\n\u001b[0;32m      4\u001b[0m         real_audio \u001b[38;5;241m=\u001b[39m real_audio\u001b[38;5;241m.\u001b[39munsqueeze(\u001b[38;5;241m1\u001b[39m)\u001b[38;5;241m.\u001b[39mto(device)\n",
      "File \u001b[1;32mc:\\_Experiments\\GenSpeech_2025\\venv\\lib\\site-packages\\tqdm\\std.py:1181\u001b[0m, in \u001b[0;36mtqdm.__iter__\u001b[1;34m(self)\u001b[0m\n\u001b[0;32m   1178\u001b[0m time \u001b[38;5;241m=\u001b[39m \u001b[38;5;28mself\u001b[39m\u001b[38;5;241m.\u001b[39m_time\n\u001b[0;32m   1180\u001b[0m \u001b[38;5;28;01mtry\u001b[39;00m:\n\u001b[1;32m-> 1181\u001b[0m     \u001b[38;5;28;01mfor\u001b[39;00m obj \u001b[38;5;129;01min\u001b[39;00m iterable:\n\u001b[0;32m   1182\u001b[0m         \u001b[38;5;28;01myield\u001b[39;00m obj\n\u001b[0;32m   1183\u001b[0m         \u001b[38;5;66;03m# Update and possibly print the progressbar.\u001b[39;00m\n\u001b[0;32m   1184\u001b[0m         \u001b[38;5;66;03m# Note: does not call self.update(1) for speed optimisation.\u001b[39;00m\n",
      "File \u001b[1;32mc:\\_Experiments\\GenSpeech_2025\\venv\\lib\\site-packages\\torch\\utils\\data\\dataloader.py:733\u001b[0m, in \u001b[0;36m_BaseDataLoaderIter.__next__\u001b[1;34m(self)\u001b[0m\n\u001b[0;32m    730\u001b[0m \u001b[38;5;28;01mif\u001b[39;00m \u001b[38;5;28mself\u001b[39m\u001b[38;5;241m.\u001b[39m_sampler_iter \u001b[38;5;129;01mis\u001b[39;00m \u001b[38;5;28;01mNone\u001b[39;00m:\n\u001b[0;32m    731\u001b[0m     \u001b[38;5;66;03m# TODO(https://github.com/pytorch/pytorch/issues/76750)\u001b[39;00m\n\u001b[0;32m    732\u001b[0m     \u001b[38;5;28mself\u001b[39m\u001b[38;5;241m.\u001b[39m_reset()  \u001b[38;5;66;03m# type: ignore[call-arg]\u001b[39;00m\n\u001b[1;32m--> 733\u001b[0m data \u001b[38;5;241m=\u001b[39m \u001b[38;5;28;43mself\u001b[39;49m\u001b[38;5;241;43m.\u001b[39;49m\u001b[43m_next_data\u001b[49m\u001b[43m(\u001b[49m\u001b[43m)\u001b[49m\n\u001b[0;32m    734\u001b[0m \u001b[38;5;28mself\u001b[39m\u001b[38;5;241m.\u001b[39m_num_yielded \u001b[38;5;241m+\u001b[39m\u001b[38;5;241m=\u001b[39m \u001b[38;5;241m1\u001b[39m\n\u001b[0;32m    735\u001b[0m \u001b[38;5;28;01mif\u001b[39;00m (\n\u001b[0;32m    736\u001b[0m     \u001b[38;5;28mself\u001b[39m\u001b[38;5;241m.\u001b[39m_dataset_kind \u001b[38;5;241m==\u001b[39m _DatasetKind\u001b[38;5;241m.\u001b[39mIterable\n\u001b[0;32m    737\u001b[0m     \u001b[38;5;129;01mand\u001b[39;00m \u001b[38;5;28mself\u001b[39m\u001b[38;5;241m.\u001b[39m_IterableDataset_len_called \u001b[38;5;129;01mis\u001b[39;00m \u001b[38;5;129;01mnot\u001b[39;00m \u001b[38;5;28;01mNone\u001b[39;00m\n\u001b[0;32m    738\u001b[0m     \u001b[38;5;129;01mand\u001b[39;00m \u001b[38;5;28mself\u001b[39m\u001b[38;5;241m.\u001b[39m_num_yielded \u001b[38;5;241m>\u001b[39m \u001b[38;5;28mself\u001b[39m\u001b[38;5;241m.\u001b[39m_IterableDataset_len_called\n\u001b[0;32m    739\u001b[0m ):\n",
      "File \u001b[1;32mc:\\_Experiments\\GenSpeech_2025\\venv\\lib\\site-packages\\torch\\utils\\data\\dataloader.py:789\u001b[0m, in \u001b[0;36m_SingleProcessDataLoaderIter._next_data\u001b[1;34m(self)\u001b[0m\n\u001b[0;32m    787\u001b[0m \u001b[38;5;28;01mdef\u001b[39;00m\u001b[38;5;250m \u001b[39m\u001b[38;5;21m_next_data\u001b[39m(\u001b[38;5;28mself\u001b[39m):\n\u001b[0;32m    788\u001b[0m     index \u001b[38;5;241m=\u001b[39m \u001b[38;5;28mself\u001b[39m\u001b[38;5;241m.\u001b[39m_next_index()  \u001b[38;5;66;03m# may raise StopIteration\u001b[39;00m\n\u001b[1;32m--> 789\u001b[0m     data \u001b[38;5;241m=\u001b[39m \u001b[38;5;28;43mself\u001b[39;49m\u001b[38;5;241;43m.\u001b[39;49m\u001b[43m_dataset_fetcher\u001b[49m\u001b[38;5;241;43m.\u001b[39;49m\u001b[43mfetch\u001b[49m\u001b[43m(\u001b[49m\u001b[43mindex\u001b[49m\u001b[43m)\u001b[49m  \u001b[38;5;66;03m# may raise StopIteration\u001b[39;00m\n\u001b[0;32m    790\u001b[0m     \u001b[38;5;28;01mif\u001b[39;00m \u001b[38;5;28mself\u001b[39m\u001b[38;5;241m.\u001b[39m_pin_memory:\n\u001b[0;32m    791\u001b[0m         data \u001b[38;5;241m=\u001b[39m _utils\u001b[38;5;241m.\u001b[39mpin_memory\u001b[38;5;241m.\u001b[39mpin_memory(data, \u001b[38;5;28mself\u001b[39m\u001b[38;5;241m.\u001b[39m_pin_memory_device)\n",
      "File \u001b[1;32mc:\\_Experiments\\GenSpeech_2025\\venv\\lib\\site-packages\\torch\\utils\\data\\_utils\\fetch.py:52\u001b[0m, in \u001b[0;36m_MapDatasetFetcher.fetch\u001b[1;34m(self, possibly_batched_index)\u001b[0m\n\u001b[0;32m     50\u001b[0m         data \u001b[38;5;241m=\u001b[39m \u001b[38;5;28mself\u001b[39m\u001b[38;5;241m.\u001b[39mdataset\u001b[38;5;241m.\u001b[39m__getitems__(possibly_batched_index)\n\u001b[0;32m     51\u001b[0m     \u001b[38;5;28;01melse\u001b[39;00m:\n\u001b[1;32m---> 52\u001b[0m         data \u001b[38;5;241m=\u001b[39m [\u001b[38;5;28mself\u001b[39m\u001b[38;5;241m.\u001b[39mdataset[idx] \u001b[38;5;28;01mfor\u001b[39;00m idx \u001b[38;5;129;01min\u001b[39;00m possibly_batched_index]\n\u001b[0;32m     53\u001b[0m \u001b[38;5;28;01melse\u001b[39;00m:\n\u001b[0;32m     54\u001b[0m     data \u001b[38;5;241m=\u001b[39m \u001b[38;5;28mself\u001b[39m\u001b[38;5;241m.\u001b[39mdataset[possibly_batched_index]\n",
      "File \u001b[1;32mc:\\_Experiments\\GenSpeech_2025\\venv\\lib\\site-packages\\torch\\utils\\data\\_utils\\fetch.py:52\u001b[0m, in \u001b[0;36m<listcomp>\u001b[1;34m(.0)\u001b[0m\n\u001b[0;32m     50\u001b[0m         data \u001b[38;5;241m=\u001b[39m \u001b[38;5;28mself\u001b[39m\u001b[38;5;241m.\u001b[39mdataset\u001b[38;5;241m.\u001b[39m__getitems__(possibly_batched_index)\n\u001b[0;32m     51\u001b[0m     \u001b[38;5;28;01melse\u001b[39;00m:\n\u001b[1;32m---> 52\u001b[0m         data \u001b[38;5;241m=\u001b[39m [\u001b[38;5;28;43mself\u001b[39;49m\u001b[38;5;241;43m.\u001b[39;49m\u001b[43mdataset\u001b[49m\u001b[43m[\u001b[49m\u001b[43midx\u001b[49m\u001b[43m]\u001b[49m \u001b[38;5;28;01mfor\u001b[39;00m idx \u001b[38;5;129;01min\u001b[39;00m possibly_batched_index]\n\u001b[0;32m     53\u001b[0m \u001b[38;5;28;01melse\u001b[39;00m:\n\u001b[0;32m     54\u001b[0m     data \u001b[38;5;241m=\u001b[39m \u001b[38;5;28mself\u001b[39m\u001b[38;5;241m.\u001b[39mdataset[possibly_batched_index]\n",
      "Cell \u001b[1;32mIn[4], line 12\u001b[0m, in \u001b[0;36mLoaderDataset.__getitem__\u001b[1;34m(self, idx)\u001b[0m\n\u001b[0;32m     11\u001b[0m \u001b[38;5;28;01mdef\u001b[39;00m\u001b[38;5;250m \u001b[39m\u001b[38;5;21m__getitem__\u001b[39m(\u001b[38;5;28mself\u001b[39m, idx):\n\u001b[1;32m---> 12\u001b[0m     data \u001b[38;5;241m=\u001b[39m \u001b[43mtorch\u001b[49m\u001b[38;5;241;43m.\u001b[39;49m\u001b[43mload\u001b[49m\u001b[43m(\u001b[49m\u001b[43mos\u001b[49m\u001b[38;5;241;43m.\u001b[39;49m\u001b[43mpath\u001b[49m\u001b[38;5;241;43m.\u001b[39;49m\u001b[43mjoin\u001b[49m\u001b[43m(\u001b[49m\u001b[38;5;28;43mself\u001b[39;49m\u001b[38;5;241;43m.\u001b[39;49m\u001b[43mpreprocessed_dir\u001b[49m\u001b[43m,\u001b[49m\u001b[43m \u001b[49m\u001b[38;5;28;43mself\u001b[39;49m\u001b[38;5;241;43m.\u001b[39;49m\u001b[43mfiles\u001b[49m\u001b[43m[\u001b[49m\u001b[43midx\u001b[49m\u001b[43m]\u001b[49m\u001b[43m)\u001b[49m\u001b[43m)\u001b[49m\n\u001b[0;32m     13\u001b[0m     audio \u001b[38;5;241m=\u001b[39m data[\u001b[38;5;124m\"\u001b[39m\u001b[38;5;124maudio\u001b[39m\u001b[38;5;124m\"\u001b[39m]\u001b[38;5;241m.\u001b[39mfloat()\n\u001b[0;32m     14\u001b[0m     audio \u001b[38;5;241m=\u001b[39m audio \u001b[38;5;241m/\u001b[39m (audio\u001b[38;5;241m.\u001b[39mabs()\u001b[38;5;241m.\u001b[39mmax() \u001b[38;5;241m+\u001b[39m \u001b[38;5;241m1e-9\u001b[39m) \n",
      "File \u001b[1;32mc:\\_Experiments\\GenSpeech_2025\\venv\\lib\\site-packages\\torch\\serialization.py:1516\u001b[0m, in \u001b[0;36mload\u001b[1;34m(f, map_location, pickle_module, weights_only, mmap, **pickle_load_args)\u001b[0m\n\u001b[0;32m   1514\u001b[0m \u001b[38;5;28;01mif\u001b[39;00m weights_only:\n\u001b[0;32m   1515\u001b[0m     \u001b[38;5;28;01mtry\u001b[39;00m:\n\u001b[1;32m-> 1516\u001b[0m         \u001b[38;5;28;01mreturn\u001b[39;00m _load(\n\u001b[0;32m   1517\u001b[0m             opened_zipfile,\n\u001b[0;32m   1518\u001b[0m             map_location,\n\u001b[0;32m   1519\u001b[0m             _weights_only_unpickler,\n\u001b[0;32m   1520\u001b[0m             overall_storage\u001b[38;5;241m=\u001b[39moverall_storage,\n\u001b[0;32m   1521\u001b[0m             \u001b[38;5;241m*\u001b[39m\u001b[38;5;241m*\u001b[39mpickle_load_args,\n\u001b[0;32m   1522\u001b[0m         )\n\u001b[0;32m   1523\u001b[0m     \u001b[38;5;28;01mexcept\u001b[39;00m pickle\u001b[38;5;241m.\u001b[39mUnpicklingError \u001b[38;5;28;01mas\u001b[39;00m e:\n\u001b[0;32m   1524\u001b[0m         \u001b[38;5;28;01mraise\u001b[39;00m pickle\u001b[38;5;241m.\u001b[39mUnpicklingError(_get_wo_message(\u001b[38;5;28mstr\u001b[39m(e))) \u001b[38;5;28;01mfrom\u001b[39;00m\u001b[38;5;250m \u001b[39m\u001b[38;5;28;01mNone\u001b[39;00m\n",
      "File \u001b[1;32mc:\\_Experiments\\GenSpeech_2025\\venv\\lib\\site-packages\\torch\\serialization.py:2114\u001b[0m, in \u001b[0;36m_load\u001b[1;34m(zip_file, map_location, pickle_module, pickle_file, overall_storage, **pickle_load_args)\u001b[0m\n\u001b[0;32m   2112\u001b[0m \u001b[38;5;28;01mglobal\u001b[39;00m _serialization_tls\n\u001b[0;32m   2113\u001b[0m _serialization_tls\u001b[38;5;241m.\u001b[39mmap_location \u001b[38;5;241m=\u001b[39m map_location\n\u001b[1;32m-> 2114\u001b[0m result \u001b[38;5;241m=\u001b[39m \u001b[43munpickler\u001b[49m\u001b[38;5;241;43m.\u001b[39;49m\u001b[43mload\u001b[49m\u001b[43m(\u001b[49m\u001b[43m)\u001b[49m\n\u001b[0;32m   2115\u001b[0m _serialization_tls\u001b[38;5;241m.\u001b[39mmap_location \u001b[38;5;241m=\u001b[39m \u001b[38;5;28;01mNone\u001b[39;00m\n\u001b[0;32m   2117\u001b[0m torch\u001b[38;5;241m.\u001b[39m_utils\u001b[38;5;241m.\u001b[39m_validate_loaded_sparse_tensors()\n",
      "File \u001b[1;32mc:\\_Experiments\\GenSpeech_2025\\venv\\lib\\site-packages\\torch\\_weights_only_unpickler.py:532\u001b[0m, in \u001b[0;36mUnpickler.load\u001b[1;34m(self)\u001b[0m\n\u001b[0;32m    524\u001b[0m     \u001b[38;5;28;01mif\u001b[39;00m (\n\u001b[0;32m    525\u001b[0m         \u001b[38;5;28mtype\u001b[39m(pid) \u001b[38;5;129;01mis\u001b[39;00m \u001b[38;5;28mtuple\u001b[39m\n\u001b[0;32m    526\u001b[0m         \u001b[38;5;129;01mand\u001b[39;00m \u001b[38;5;28mlen\u001b[39m(pid) \u001b[38;5;241m>\u001b[39m \u001b[38;5;241m0\u001b[39m\n\u001b[0;32m    527\u001b[0m         \u001b[38;5;129;01mand\u001b[39;00m torch\u001b[38;5;241m.\u001b[39mserialization\u001b[38;5;241m.\u001b[39m_maybe_decode_ascii(pid[\u001b[38;5;241m0\u001b[39m]) \u001b[38;5;241m!=\u001b[39m \u001b[38;5;124m\"\u001b[39m\u001b[38;5;124mstorage\u001b[39m\u001b[38;5;124m\"\u001b[39m\n\u001b[0;32m    528\u001b[0m     ):\n\u001b[0;32m    529\u001b[0m         \u001b[38;5;28;01mraise\u001b[39;00m UnpicklingError(\n\u001b[0;32m    530\u001b[0m             \u001b[38;5;124mf\u001b[39m\u001b[38;5;124m\"\u001b[39m\u001b[38;5;124mOnly persistent_load of storage is allowed, but got \u001b[39m\u001b[38;5;132;01m{\u001b[39;00mpid[\u001b[38;5;241m0\u001b[39m]\u001b[38;5;132;01m}\u001b[39;00m\u001b[38;5;124m\"\u001b[39m\n\u001b[0;32m    531\u001b[0m         )\n\u001b[1;32m--> 532\u001b[0m     \u001b[38;5;28mself\u001b[39m\u001b[38;5;241m.\u001b[39mappend(\u001b[38;5;28;43mself\u001b[39;49m\u001b[38;5;241;43m.\u001b[39;49m\u001b[43mpersistent_load\u001b[49m\u001b[43m(\u001b[49m\u001b[43mpid\u001b[49m\u001b[43m)\u001b[49m)\n\u001b[0;32m    533\u001b[0m \u001b[38;5;28;01melif\u001b[39;00m key[\u001b[38;5;241m0\u001b[39m] \u001b[38;5;129;01min\u001b[39;00m [BINGET[\u001b[38;5;241m0\u001b[39m], LONG_BINGET[\u001b[38;5;241m0\u001b[39m]]:\n\u001b[0;32m    534\u001b[0m     idx \u001b[38;5;241m=\u001b[39m (read(\u001b[38;5;241m1\u001b[39m) \u001b[38;5;28;01mif\u001b[39;00m key[\u001b[38;5;241m0\u001b[39m] \u001b[38;5;241m==\u001b[39m BINGET[\u001b[38;5;241m0\u001b[39m] \u001b[38;5;28;01melse\u001b[39;00m unpack(\u001b[38;5;124m\"\u001b[39m\u001b[38;5;124m<I\u001b[39m\u001b[38;5;124m\"\u001b[39m, read(\u001b[38;5;241m4\u001b[39m)))[\u001b[38;5;241m0\u001b[39m]\n",
      "File \u001b[1;32mc:\\_Experiments\\GenSpeech_2025\\venv\\lib\\site-packages\\torch\\serialization.py:2078\u001b[0m, in \u001b[0;36m_load.<locals>.persistent_load\u001b[1;34m(saved_id)\u001b[0m\n\u001b[0;32m   2076\u001b[0m \u001b[38;5;28;01melse\u001b[39;00m:\n\u001b[0;32m   2077\u001b[0m     nbytes \u001b[38;5;241m=\u001b[39m numel \u001b[38;5;241m*\u001b[39m torch\u001b[38;5;241m.\u001b[39m_utils\u001b[38;5;241m.\u001b[39m_element_size(dtype)\n\u001b[1;32m-> 2078\u001b[0m     typed_storage \u001b[38;5;241m=\u001b[39m \u001b[43mload_tensor\u001b[49m\u001b[43m(\u001b[49m\n\u001b[0;32m   2079\u001b[0m \u001b[43m        \u001b[49m\u001b[43mdtype\u001b[49m\u001b[43m,\u001b[49m\u001b[43m \u001b[49m\u001b[43mnbytes\u001b[49m\u001b[43m,\u001b[49m\u001b[43m \u001b[49m\u001b[43mkey\u001b[49m\u001b[43m,\u001b[49m\u001b[43m \u001b[49m\u001b[43m_maybe_decode_ascii\u001b[49m\u001b[43m(\u001b[49m\u001b[43mlocation\u001b[49m\u001b[43m)\u001b[49m\n\u001b[0;32m   2080\u001b[0m \u001b[43m    \u001b[49m\u001b[43m)\u001b[49m\n\u001b[0;32m   2082\u001b[0m \u001b[38;5;28;01mreturn\u001b[39;00m typed_storage\n",
      "File \u001b[1;32mc:\\_Experiments\\GenSpeech_2025\\venv\\lib\\site-packages\\torch\\serialization.py:2031\u001b[0m, in \u001b[0;36m_load.<locals>.load_tensor\u001b[1;34m(dtype, numel, key, location)\u001b[0m\n\u001b[0;32m   2024\u001b[0m         \u001b[38;5;28;01mif\u001b[39;00m storage_offset \u001b[38;5;241m!=\u001b[39m zip_file\u001b[38;5;241m.\u001b[39mget_record_offset(name):\n\u001b[0;32m   2025\u001b[0m             \u001b[38;5;28;01mraise\u001b[39;00m \u001b[38;5;167;01mRuntimeError\u001b[39;00m(\n\u001b[0;32m   2026\u001b[0m                 \u001b[38;5;124m\"\u001b[39m\u001b[38;5;124mThis is a debug assert that was run as the `TORCH_SERIALIZATION_DEBUG` environment \u001b[39m\u001b[38;5;124m\"\u001b[39m\n\u001b[0;32m   2027\u001b[0m                 \u001b[38;5;124mf\u001b[39m\u001b[38;5;124m\"\u001b[39m\u001b[38;5;124mvariable was set: Incorrect offset for \u001b[39m\u001b[38;5;132;01m{\u001b[39;00mname\u001b[38;5;132;01m}\u001b[39;00m\u001b[38;5;124m, got \u001b[39m\u001b[38;5;132;01m{\u001b[39;00mstorage_offset\u001b[38;5;132;01m}\u001b[39;00m\u001b[38;5;124m expected \u001b[39m\u001b[38;5;124m\"\u001b[39m\n\u001b[0;32m   2028\u001b[0m                 \u001b[38;5;124mf\u001b[39m\u001b[38;5;124m\"\u001b[39m\u001b[38;5;132;01m{\u001b[39;00mzip_file\u001b[38;5;241m.\u001b[39mget_record_offset(name)\u001b[38;5;132;01m}\u001b[39;00m\u001b[38;5;124m\"\u001b[39m\n\u001b[0;32m   2029\u001b[0m             )\n\u001b[0;32m   2030\u001b[0m     storage \u001b[38;5;241m=\u001b[39m (\n\u001b[1;32m-> 2031\u001b[0m         \u001b[43mzip_file\u001b[49m\u001b[38;5;241;43m.\u001b[39;49m\u001b[43mget_storage_from_record\u001b[49m\u001b[43m(\u001b[49m\u001b[43mname\u001b[49m\u001b[43m,\u001b[49m\u001b[43m \u001b[49m\u001b[43mnumel\u001b[49m\u001b[43m,\u001b[49m\u001b[43m \u001b[49m\u001b[43mtorch\u001b[49m\u001b[38;5;241;43m.\u001b[39;49m\u001b[43mUntypedStorage\u001b[49m\u001b[43m)\u001b[49m\n\u001b[0;32m   2032\u001b[0m         \u001b[38;5;241m.\u001b[39m_typed_storage()\n\u001b[0;32m   2033\u001b[0m         \u001b[38;5;241m.\u001b[39m_untyped_storage\n\u001b[0;32m   2034\u001b[0m     )\n\u001b[0;32m   2035\u001b[0m \u001b[38;5;66;03m# swap here if byteswapping is needed\u001b[39;00m\n\u001b[0;32m   2036\u001b[0m \u001b[38;5;28;01mif\u001b[39;00m byteorderdata \u001b[38;5;129;01mis\u001b[39;00m \u001b[38;5;129;01mnot\u001b[39;00m \u001b[38;5;28;01mNone\u001b[39;00m:\n",
      "\u001b[1;31mKeyboardInterrupt\u001b[0m: "
     ]
    }
   ],
   "source": [
    "for epoch in range(num_epochs):\n",
    "    for step, (mel, real_audio, _, lengths) in enumerate(tqdm(dataloader)):\n",
    "        mel = mel.to(device)\n",
    "        real_audio = real_audio.unsqueeze(1).to(device)\n",
    "\n",
    "        with torch.amp.autocast(device_type=\"cuda\"):\n",
    "            gen_audio = generator(mel)\n",
    "\n",
    "            gen_audio_detach = gen_audio.detach()\n",
    "            d_real_feats = discriminator(real_audio)\n",
    "            d_fake_feats = discriminator(gen_audio_detach)\n",
    "            d_loss = 0\n",
    "            for scale in d_fake_feats:\n",
    "                d_loss += F.relu(1 + scale[-1]).mean()\n",
    "\n",
    "            for scale in d_real_feats:\n",
    "                d_loss += F.relu(1 - scale[-1]).mean()\n",
    "        d_opt.zero_grad()\n",
    "        scaler.scale(d_loss).backward()\n",
    "        scaler.step(d_opt)\n",
    "        scaler.update()\n",
    "\n",
    "        with torch.amp.autocast(device_type=\"cuda\"):\n",
    "            d_fake_feats = discriminator(gen_audio)\n",
    "            g_loss = 0\n",
    "            for scale in d_fake_feats:\n",
    "                g_loss += -scale[-1].mean()\n",
    "\n",
    "        g_opt.zero_grad()\n",
    "        scaler.scale(g_loss).backward()\n",
    "        scaler.step(g_opt)\n",
    "        scaler.update()\n",
    "\n",
    "        if step % 100 == 0:\n",
    "            if d_loss is not None:\n",
    "                print(\n",
    "                    f\"Epoch {epoch} | Step {step} | G_loss: {g_loss.item():.4f} | D_loss: {d_loss.item():.4f}\"\n",
    "                )\n",
    "            else:\n",
    "                print(\n",
    "                    f\"Epoch {epoch} | Step {step} | G_loss: {g_loss.item():.4f} | D_loss: skipped\"\n",
    "                )\n",
    "\n",
    "            print(\n",
    "                f\"Gen audio length: {gen_audio.size(2)}, Real audio length: {real_audio.size(2)}\"\n",
    "            )\n",
    "            audio_to_save = gen_audio[0].detach().cpu().to(torch.float32)\n",
    "            torchaudio.save(\"sample_gen.wav\", audio_to_save, sample_rate=22050)"
   ]
  },
  {
   "cell_type": "markdown",
   "id": "9355c7b0",
   "metadata": {},
   "source": [
    "Сохраним результаты обучения"
   ]
  },
  {
   "cell_type": "code",
   "execution_count": null,
   "id": "d3066d68",
   "metadata": {},
   "outputs": [],
   "source": [
    "final_checkpoint = {\n",
    "    \"generator\": generator.state_dict(),\n",
    "    \"discriminator\": discriminator.state_dict(),\n",
    "    \"g_opt\": g_opt.state_dict(),\n",
    "    \"d_opt\": d_opt.state_dict(),\n",
    "    \"epoch\": num_epochs,\n",
    "    \"losses\": {\n",
    "        \"g_loss\": g_loss.item(),\n",
    "        # 'd_loss': d_loss.item()\n",
    "    },\n",
    "}\n",
    "\n",
    "torch.save(final_checkpoint, \"final_model.pt\")"
   ]
  },
  {
   "cell_type": "markdown",
   "id": "2b26a2a3",
   "metadata": {},
   "source": [
    "И попробуем сгенерировать аудио из текста"
   ]
  },
  {
   "cell_type": "code",
   "execution_count": 121,
   "id": "f629531a",
   "metadata": {},
   "outputs": [
    {
     "name": "stdout",
     "output_type": "stream",
     "text": [
      " > tts_models/en/ljspeech/fast_pitch is already downloaded.\n",
      " > vocoder_models/en/ljspeech/hifigan_v2 is already downloaded.\n",
      " > Using model: fast_pitch\n",
      " > Setting up Audio Processor...\n",
      " | > sample_rate:22050\n",
      " | > resample:False\n",
      " | > num_mels:80\n",
      " | > log_func:np.log\n",
      " | > min_level_db:-100\n",
      " | > frame_shift_ms:None\n",
      " | > frame_length_ms:None\n",
      " | > ref_level_db:20\n",
      " | > fft_size:1024\n",
      " | > power:1.5\n",
      " | > preemphasis:0.0\n",
      " | > griffin_lim_iters:60\n",
      " | > signal_norm:False\n",
      " | > symmetric_norm:True\n",
      " | > mel_fmin:0\n",
      " | > mel_fmax:8000.0\n",
      " | > pitch_fmin:1.0\n",
      " | > pitch_fmax:640.0\n",
      " | > spec_gain:1.0\n",
      " | > stft_pad_mode:reflect\n",
      " | > max_norm:4.0\n",
      " | > clip_norm:True\n",
      " | > do_trim_silence:True\n",
      " | > trim_db:60\n",
      " | > do_sound_norm:False\n",
      " | > do_amp_to_db_linear:True\n",
      " | > do_amp_to_db_mel:True\n",
      " | > do_rms_norm:False\n",
      " | > db_level:None\n",
      " | > stats_path:None\n",
      " | > base:2.718281828459045\n",
      " | > hop_length:256\n",
      " | > win_length:1024\n",
      " > Vocoder Model: hifigan\n",
      " > Setting up Audio Processor...\n",
      " | > sample_rate:22050\n",
      " | > resample:False\n",
      " | > num_mels:80\n",
      " | > log_func:np.log\n",
      " | > min_level_db:-100\n",
      " | > frame_shift_ms:None\n",
      " | > frame_length_ms:None\n",
      " | > ref_level_db:20\n",
      " | > fft_size:1024\n",
      " | > power:1.5\n",
      " | > preemphasis:0.0\n",
      " | > griffin_lim_iters:60\n",
      " | > signal_norm:False\n",
      " | > symmetric_norm:True\n",
      " | > mel_fmin:0\n",
      " | > mel_fmax:8000.0\n",
      " | > pitch_fmin:1.0\n",
      " | > pitch_fmax:640.0\n",
      " | > spec_gain:1.0\n",
      " | > stft_pad_mode:reflect\n",
      " | > max_norm:4.0\n",
      " | > clip_norm:True\n",
      " | > do_trim_silence:False\n",
      " | > trim_db:60\n",
      " | > do_sound_norm:False\n",
      " | > do_amp_to_db_linear:True\n",
      " | > do_amp_to_db_mel:True\n",
      " | > do_rms_norm:False\n",
      " | > db_level:None\n",
      " | > stats_path:None\n",
      " | > base:2.718281828459045\n",
      " | > hop_length:256\n",
      " | > win_length:1024\n",
      " > Generator Model: hifigan_generator\n",
      " > Discriminator Model: hifigan_discriminator\n",
      "Removing weight norm...\n",
      "**************************************************\n",
      "INFO: discard default vocoder initialization messages above\n",
      "**************************************************\n",
      "Model tts_models/en/ljspeech/fast_pitch loaded to device cuda\n",
      "['Tourists found the octagonal lighthouse after a two-mile hike through fog', 'In twenty forty-nine, neural implants became standard for city workers', 'He whispered something in Icelandic I could not quite translate', 'Lucia balanced a porcelain vase on her elbow without flinching', 'They gathered quietly beneath the turbine as the wind picked up speed']\n",
      "(415, 80)\n",
      "(417, 80)\n",
      "(305, 80)\n",
      "luʃə bælənst ə pɔɹsələn veɪz ɔn hɚ ɛlboʊ wɪðaʊt flɪnt͡ʃɪŋ\n",
      " [!] Character '͡' not found in the vocabulary. Discarding it.\n",
      "(366, 80)\n",
      "(325, 80)\n"
     ]
    }
   ],
   "source": [
    "t2s = TextToSpecConverter()\n",
    "\n",
    "checkpoint = torch.load(\"final_model.pt\")\n",
    "generator.load_state_dict(checkpoint[\"generator\"])\n",
    "generator.eval()\n",
    "\n",
    "with open(\"test_sentences.txt\") as f:\n",
    "    sentences = [line.strip() for line in f.readlines()]\n",
    "print(sentences)\n",
    "for i, sent in enumerate(sentences):\n",
    "    vec = t2s.text2spec(sent)\n",
    "    print(vec.shape)\n",
    "\n",
    "    mel = torch.tensor(vec).unsqueeze(0).to(device)\n",
    "\n",
    "    mel = mel.transpose(1, 2)\n",
    "    with torch.no_grad():\n",
    "        audio = generator(mel).cpu().squeeze().numpy()\n",
    "    sf.write(f\"gen_{i}.wav\", audio, samplerate=22050)"
   ]
  },
  {
   "cell_type": "markdown",
   "id": "33a6ce7e",
   "metadata": {},
   "source": [
    "после 10 эпох аудио все еще отвратительно звучат, хотя в этот раз появилась хотя бы какая то динамика. возможно при более длительном обучении можно было бы получить результат получше"
   ]
  }
 ],
 "metadata": {
  "kernelspec": {
   "display_name": "venv",
   "language": "python",
   "name": "python3"
  },
  "language_info": {
   "codemirror_mode": {
    "name": "ipython",
    "version": 3
   },
   "file_extension": ".py",
   "mimetype": "text/x-python",
   "name": "python",
   "nbconvert_exporter": "python",
   "pygments_lexer": "ipython3",
   "version": "3.10.11"
  }
 },
 "nbformat": 4,
 "nbformat_minor": 5
}
