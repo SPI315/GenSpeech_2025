{
  "cells": [
    {
      "cell_type": "markdown",
      "metadata": {},
      "source": [
        "Для начала поставим необходимые зависимости"
      ]
    },
    {
      "cell_type": "code",
      "execution_count": 1,
      "metadata": {
        "colab": {
          "base_uri": "https://localhost:8080/"
        },
        "id": "AlrAcYMcNSKs",
        "outputId": "1fb9d562-cfb9-420a-984d-70d85915fed2"
      },
      "outputs": [
        {
          "name": "stdout",
          "output_type": "stream",
          "text": [
            "Requirement already satisfied: lightning in .\\venv\\lib\\site-packages (2.5.0.post0)\n",
            "Requirement already satisfied: PyYAML<8.0,>=5.4 in .\\venv\\lib\\site-packages (from lightning) (6.0.2)\n",
            "Requirement already satisfied: fsspec<2026.0,>=2022.5.0 in .\\venv\\lib\\site-packages (from fsspec[http]<2026.0,>=2022.5.0->lightning) (2024.2.0)\n",
            "Requirement already satisfied: lightning-utilities<2.0,>=0.10.0 in .\\venv\\lib\\site-packages (from lightning) (0.11.9)\n",
            "Requirement already satisfied: packaging<25.0,>=20.0 in .\\venv\\lib\\site-packages (from lightning) (24.2)\n",
            "Requirement already satisfied: torch<4.0,>=2.1.0 in .\\venv\\lib\\site-packages (from lightning) (2.5.1+cu118)\n",
            "Requirement already satisfied: torchmetrics<3.0,>=0.7.0 in .\\venv\\lib\\site-packages (from lightning) (1.6.1)\n",
            "Requirement already satisfied: tqdm<6.0,>=4.57.0 in .\\venv\\lib\\site-packages (from lightning) (4.67.1)\n",
            "Requirement already satisfied: typing-extensions<6.0,>=4.4.0 in .\\venv\\lib\\site-packages (from lightning) (4.12.2)\n",
            "Requirement already satisfied: pytorch-lightning in .\\venv\\lib\\site-packages (from lightning) (2.5.0.post0)\n",
            "Requirement already satisfied: aiohttp!=4.0.0a0,!=4.0.0a1 in .\\venv\\lib\\site-packages (from fsspec[http]<2026.0,>=2022.5.0->lightning) (3.11.11)\n",
            "Requirement already satisfied: setuptools in .\\venv\\lib\\site-packages (from lightning-utilities<2.0,>=0.10.0->lightning) (65.5.0)\n",
            "Requirement already satisfied: filelock in .\\venv\\lib\\site-packages (from torch<4.0,>=2.1.0->lightning) (3.13.1)\n",
            "Requirement already satisfied: networkx in .\\venv\\lib\\site-packages (from torch<4.0,>=2.1.0->lightning) (3.2.1)\n",
            "Requirement already satisfied: jinja2 in .\\venv\\lib\\site-packages (from torch<4.0,>=2.1.0->lightning) (3.1.3)\n",
            "Requirement already satisfied: sympy==1.13.1 in .\\venv\\lib\\site-packages (from torch<4.0,>=2.1.0->lightning) (1.13.1)\n",
            "Requirement already satisfied: mpmath<1.4,>=1.1.0 in .\\venv\\lib\\site-packages (from sympy==1.13.1->torch<4.0,>=2.1.0->lightning) (1.3.0)\n",
            "Requirement already satisfied: numpy>1.20.0 in .\\venv\\lib\\site-packages (from torchmetrics<3.0,>=0.7.0->lightning) (2.2.2)\n",
            "Requirement already satisfied: colorama in .\\venv\\lib\\site-packages (from tqdm<6.0,>=4.57.0->lightning) (0.4.6)\n",
            "Requirement already satisfied: aiohappyeyeballs>=2.3.0 in .\\venv\\lib\\site-packages (from aiohttp!=4.0.0a0,!=4.0.0a1->fsspec[http]<2026.0,>=2022.5.0->lightning) (2.4.4)\n",
            "Requirement already satisfied: aiosignal>=1.1.2 in .\\venv\\lib\\site-packages (from aiohttp!=4.0.0a0,!=4.0.0a1->fsspec[http]<2026.0,>=2022.5.0->lightning) (1.3.2)\n",
            "Requirement already satisfied: attrs>=17.3.0 in .\\venv\\lib\\site-packages (from aiohttp!=4.0.0a0,!=4.0.0a1->fsspec[http]<2026.0,>=2022.5.0->lightning) (24.3.0)\n",
            "Requirement already satisfied: frozenlist>=1.1.1 in .\\venv\\lib\\site-packages (from aiohttp!=4.0.0a0,!=4.0.0a1->fsspec[http]<2026.0,>=2022.5.0->lightning) (1.5.0)\n",
            "Requirement already satisfied: multidict<7.0,>=4.5 in .\\venv\\lib\\site-packages (from aiohttp!=4.0.0a0,!=4.0.0a1->fsspec[http]<2026.0,>=2022.5.0->lightning) (6.1.0)\n",
            "Requirement already satisfied: propcache>=0.2.0 in .\\venv\\lib\\site-packages (from aiohttp!=4.0.0a0,!=4.0.0a1->fsspec[http]<2026.0,>=2022.5.0->lightning) (0.2.1)\n",
            "Requirement already satisfied: yarl<2.0,>=1.17.0 in .\\venv\\lib\\site-packages (from aiohttp!=4.0.0a0,!=4.0.0a1->fsspec[http]<2026.0,>=2022.5.0->lightning) (1.18.3)\n",
            "Requirement already satisfied: MarkupSafe>=2.0 in .\\venv\\lib\\site-packages (from jinja2->torch<4.0,>=2.1.0->lightning) (2.1.5)\n",
            "Requirement already satisfied: idna>=2.0 in .\\venv\\lib\\site-packages (from yarl<2.0,>=1.17.0->aiohttp!=4.0.0a0,!=4.0.0a1->fsspec[http]<2026.0,>=2022.5.0->lightning) (3.10)\n"
          ]
        },
        {
          "name": "stderr",
          "output_type": "stream",
          "text": [
            "\n",
            "[notice] A new release of pip is available: 24.0 -> 25.0.1\n",
            "[notice] To update, run: python.exe -m pip install --upgrade pip\n"
          ]
        }
      ],
      "source": [
        "!pip install lightning"
      ]
    },
    {
      "cell_type": "code",
      "execution_count": 2,
      "metadata": {
        "colab": {
          "base_uri": "https://localhost:8080/"
        },
        "id": "DbyZk48LNSKw",
        "outputId": "fc96a529-7219-4109-8b27-cfd21f56b42a"
      },
      "outputs": [
        {
          "name": "stdout",
          "output_type": "stream",
          "text": [
            "Collecting thop\n",
            "  Downloading thop-0.1.1.post2209072238-py3-none-any.whl.metadata (2.7 kB)\n",
            "Requirement already satisfied: torch in .\\venv\\lib\\site-packages (from thop) (2.5.1+cu118)\n",
            "Requirement already satisfied: filelock in .\\venv\\lib\\site-packages (from torch->thop) (3.13.1)\n",
            "Requirement already satisfied: typing-extensions>=4.8.0 in .\\venv\\lib\\site-packages (from torch->thop) (4.12.2)\n",
            "Requirement already satisfied: networkx in .\\venv\\lib\\site-packages (from torch->thop) (3.2.1)\n",
            "Requirement already satisfied: jinja2 in .\\venv\\lib\\site-packages (from torch->thop) (3.1.3)\n",
            "Requirement already satisfied: fsspec in .\\venv\\lib\\site-packages (from torch->thop) (2024.2.0)\n",
            "Requirement already satisfied: sympy==1.13.1 in .\\venv\\lib\\site-packages (from torch->thop) (1.13.1)\n",
            "Requirement already satisfied: mpmath<1.4,>=1.1.0 in .\\venv\\lib\\site-packages (from sympy==1.13.1->torch->thop) (1.3.0)\n",
            "Requirement already satisfied: MarkupSafe>=2.0 in .\\venv\\lib\\site-packages (from jinja2->torch->thop) (2.1.5)\n",
            "Downloading thop-0.1.1.post2209072238-py3-none-any.whl (15 kB)\n",
            "Installing collected packages: thop\n",
            "Successfully installed thop-0.1.1.post2209072238\n"
          ]
        },
        {
          "name": "stderr",
          "output_type": "stream",
          "text": [
            "\n",
            "[notice] A new release of pip is available: 24.0 -> 25.0.1\n",
            "[notice] To update, run: python.exe -m pip install --upgrade pip\n"
          ]
        }
      ],
      "source": [
        "!pip install thop"
      ]
    },
    {
      "cell_type": "code",
      "execution_count": 56,
      "metadata": {
        "colab": {
          "base_uri": "https://localhost:8080/"
        },
        "id": "FPAmwj7Oreko",
        "outputId": "633a041c-f5e5-4216-89fe-7f94bd0fcf82"
      },
      "outputs": [
        {
          "name": "stdout",
          "output_type": "stream",
          "text": [
            "Looking in indexes: https://download.pytorch.org/whl/cu118\n",
            "Requirement already satisfied: torch in d:\\7.llm_microverse_v5\\venv\\lib\\site-packages (2.6.0+cu118)\n",
            "Requirement already satisfied: torchvision in d:\\7.llm_microverse_v5\\venv\\lib\\site-packages (0.21.0+cu118)\n",
            "Requirement already satisfied: torchaudio in d:\\7.llm_microverse_v5\\venv\\lib\\site-packages (2.6.0+cu118)\n",
            "Requirement already satisfied: filelock in d:\\7.llm_microverse_v5\\venv\\lib\\site-packages (from torch) (3.18.0)\n",
            "Requirement already satisfied: typing-extensions>=4.10.0 in d:\\7.llm_microverse_v5\\venv\\lib\\site-packages (from torch) (4.13.0)\n",
            "Requirement already satisfied: networkx in d:\\7.llm_microverse_v5\\venv\\lib\\site-packages (from torch) (3.4.2)\n",
            "Requirement already satisfied: jinja2 in d:\\7.llm_microverse_v5\\venv\\lib\\site-packages (from torch) (3.1.6)\n",
            "Requirement already satisfied: fsspec in d:\\7.llm_microverse_v5\\venv\\lib\\site-packages (from torch) (2025.3.1)\n",
            "Requirement already satisfied: setuptools in d:\\7.llm_microverse_v5\\venv\\lib\\site-packages (from torch) (78.1.0)\n",
            "Requirement already satisfied: sympy==1.13.1 in d:\\7.llm_microverse_v5\\venv\\lib\\site-packages (from torch) (1.13.1)\n",
            "Requirement already satisfied: mpmath<1.4,>=1.1.0 in d:\\7.llm_microverse_v5\\venv\\lib\\site-packages (from sympy==1.13.1->torch) (1.3.0)\n",
            "Requirement already satisfied: numpy in d:\\7.llm_microverse_v5\\venv\\lib\\site-packages (from torchvision) (2.2.4)\n",
            "Requirement already satisfied: pillow!=8.3.*,>=5.3.0 in d:\\7.llm_microverse_v5\\venv\\lib\\site-packages (from torchvision) (11.0.0)\n",
            "Requirement already satisfied: MarkupSafe>=2.0 in d:\\7.llm_microverse_v5\\venv\\lib\\site-packages (from jinja2->torch) (3.0.2)\n"
          ]
        },
        {
          "name": "stderr",
          "output_type": "stream",
          "text": [
            "\n",
            "[notice] A new release of pip is available: 24.0 -> 25.0.1\n",
            "[notice] To update, run: python.exe -m pip install --upgrade pip\n"
          ]
        }
      ],
      "source": [
        "!pip install torch torchvision torchaudio --index-url https://download.pytorch.org/whl/cu118"
      ]
    },
    {
      "cell_type": "code",
      "execution_count": 57,
      "metadata": {
        "colab": {
          "base_uri": "https://localhost:8080/",
          "height": 359
        },
        "id": "v7Dx-Z7ereko",
        "outputId": "76b4a1cf-9262-44bb-be75-0c297e3ab19c"
      },
      "outputs": [
        {
          "name": "stdout",
          "output_type": "stream",
          "text": [
            "Requirement already satisfied: setuptools in d:\\7.llm_microverse_v5\\venv\\lib\\site-packages (78.1.0)\n"
          ]
        },
        {
          "name": "stderr",
          "output_type": "stream",
          "text": [
            "\n",
            "[notice] A new release of pip is available: 24.0 -> 25.0.1\n",
            "[notice] To update, run: python.exe -m pip install --upgrade pip\n"
          ]
        }
      ],
      "source": [
        "!pip install --upgrade setuptools\n"
      ]
    },
    {
      "cell_type": "code",
      "execution_count": 3,
      "metadata": {
        "colab": {
          "base_uri": "https://localhost:8080/"
        },
        "id": "mg3LzW5greko",
        "outputId": "a1919062-8d62-49d5-ab21-227610ecbf1c"
      },
      "outputs": [
        {
          "name": "stdout",
          "output_type": "stream",
          "text": [
            "Collecting soundfile\n",
            "  Downloading soundfile-0.13.1-py2.py3-none-win_amd64.whl.metadata (16 kB)\n",
            "Collecting cffi>=1.0 (from soundfile)\n",
            "  Downloading cffi-1.17.1-cp311-cp311-win_amd64.whl.metadata (1.6 kB)\n",
            "Requirement already satisfied: numpy in .\\venv\\lib\\site-packages (from soundfile) (2.2.2)\n",
            "Collecting pycparser (from cffi>=1.0->soundfile)\n",
            "  Downloading pycparser-2.22-py3-none-any.whl.metadata (943 bytes)\n",
            "Downloading soundfile-0.13.1-py2.py3-none-win_amd64.whl (1.0 MB)\n",
            "   ---------------------------------------- 0.0/1.0 MB ? eta -:--:--\n",
            "   - -------------------------------------- 0.0/1.0 MB 1.4 MB/s eta 0:00:01\n",
            "   ----- ---------------------------------- 0.1/1.0 MB 1.7 MB/s eta 0:00:01\n",
            "   ------------- -------------------------- 0.3/1.0 MB 3.1 MB/s eta 0:00:01\n",
            "   ------------------------ --------------- 0.6/1.0 MB 4.0 MB/s eta 0:00:01\n",
            "   ----------------------------------- ---- 0.9/1.0 MB 4.4 MB/s eta 0:00:01\n",
            "   ---------------------------------------- 1.0/1.0 MB 4.3 MB/s eta 0:00:00\n",
            "Downloading cffi-1.17.1-cp311-cp311-win_amd64.whl (181 kB)\n",
            "   ---------------------------------------- 0.0/181.4 kB ? eta -:--:--\n",
            "   ---------------------------------------- 181.4/181.4 kB ? eta 0:00:00\n",
            "Downloading pycparser-2.22-py3-none-any.whl (117 kB)\n",
            "   ---------------------------------------- 0.0/117.6 kB ? eta -:--:--\n",
            "   ---------------------------------------- 117.6/117.6 kB 6.7 MB/s eta 0:00:00\n",
            "Installing collected packages: pycparser, cffi, soundfile\n",
            "Successfully installed cffi-1.17.1 pycparser-2.22 soundfile-0.13.1\n"
          ]
        },
        {
          "name": "stderr",
          "output_type": "stream",
          "text": [
            "\n",
            "[notice] A new release of pip is available: 24.0 -> 25.0.1\n",
            "[notice] To update, run: python.exe -m pip install --upgrade pip\n"
          ]
        }
      ],
      "source": [
        "!pip install soundfile"
      ]
    },
    {
      "cell_type": "code",
      "execution_count": 4,
      "metadata": {
        "colab": {
          "base_uri": "https://localhost:8080/"
        },
        "id": "dCENb04grekp",
        "outputId": "620d9574-3235-4444-aed9-6431d1123c39"
      },
      "outputs": [
        {
          "name": "stdout",
          "output_type": "stream",
          "text": [
            "Collecting matplotlib\n",
            "  Downloading matplotlib-3.10.1-cp311-cp311-win_amd64.whl.metadata (11 kB)\n",
            "Collecting contourpy>=1.0.1 (from matplotlib)\n",
            "  Downloading contourpy-1.3.1-cp311-cp311-win_amd64.whl.metadata (5.4 kB)\n",
            "Collecting cycler>=0.10 (from matplotlib)\n",
            "  Downloading cycler-0.12.1-py3-none-any.whl.metadata (3.8 kB)\n",
            "Collecting fonttools>=4.22.0 (from matplotlib)\n",
            "  Downloading fonttools-4.56.0-cp311-cp311-win_amd64.whl.metadata (103 kB)\n",
            "     ---------------------------------------- 0.0/104.0 kB ? eta -:--:--\n",
            "     -------------------------- ------------ 71.7/104.0 kB 2.0 MB/s eta 0:00:01\n",
            "     -------------------------------------- 104.0/104.0 kB 2.0 MB/s eta 0:00:00\n",
            "Collecting kiwisolver>=1.3.1 (from matplotlib)\n",
            "  Downloading kiwisolver-1.4.8-cp311-cp311-win_amd64.whl.metadata (6.3 kB)\n",
            "Requirement already satisfied: numpy>=1.23 in .\\venv\\lib\\site-packages (from matplotlib) (2.2.2)\n",
            "Requirement already satisfied: packaging>=20.0 in .\\venv\\lib\\site-packages (from matplotlib) (24.2)\n",
            "Requirement already satisfied: pillow>=8 in .\\venv\\lib\\site-packages (from matplotlib) (10.2.0)\n",
            "Collecting pyparsing>=2.3.1 (from matplotlib)\n",
            "  Downloading pyparsing-3.2.3-py3-none-any.whl.metadata (5.0 kB)\n",
            "Requirement already satisfied: python-dateutil>=2.7 in .\\venv\\lib\\site-packages (from matplotlib) (2.9.0.post0)\n",
            "Requirement already satisfied: six>=1.5 in .\\venv\\lib\\site-packages (from python-dateutil>=2.7->matplotlib) (1.17.0)\n",
            "Downloading matplotlib-3.10.1-cp311-cp311-win_amd64.whl (8.1 MB)\n",
            "   ---------------------------------------- 0.0/8.1 MB ? eta -:--:--\n",
            "   - -------------------------------------- 0.3/8.1 MB 7.7 MB/s eta 0:00:02\n",
            "   ----- ---------------------------------- 1.1/8.1 MB 13.5 MB/s eta 0:00:01\n",
            "   ---------------- ----------------------- 3.3/8.1 MB 26.3 MB/s eta 0:00:01\n",
            "   -------------------------- ------------- 5.3/8.1 MB 30.8 MB/s eta 0:00:01\n",
            "   --------------------------------- ------ 6.9/8.1 MB 33.7 MB/s eta 0:00:01\n",
            "   ---------------------------------------- 8.1/8.1 MB 30.3 MB/s eta 0:00:00\n",
            "Downloading contourpy-1.3.1-cp311-cp311-win_amd64.whl (219 kB)\n",
            "   ---------------------------------------- 0.0/219.8 kB ? eta -:--:--\n",
            "   --------------------------------------- 219.8/219.8 kB 14.0 MB/s eta 0:00:00\n",
            "Downloading cycler-0.12.1-py3-none-any.whl (8.3 kB)\n",
            "Downloading fonttools-4.56.0-cp311-cp311-win_amd64.whl (2.2 MB)\n",
            "   ---------------------------------------- 0.0/2.2 MB ? eta -:--:--\n",
            "   ------------- -------------------------- 0.7/2.2 MB 15.5 MB/s eta 0:00:01\n",
            "   ---------------------------------------- 2.2/2.2 MB 23.3 MB/s eta 0:00:00\n",
            "Downloading kiwisolver-1.4.8-cp311-cp311-win_amd64.whl (71 kB)\n",
            "   ---------------------------------------- 0.0/72.0 kB ? eta -:--:--\n",
            "   ---------------------------------------- 72.0/72.0 kB ? eta 0:00:00\n",
            "Downloading pyparsing-3.2.3-py3-none-any.whl (111 kB)\n",
            "   ---------------------------------------- 0.0/111.1 kB ? eta -:--:--\n",
            "   ---------------------------------------- 111.1/111.1 kB ? eta 0:00:00\n",
            "Installing collected packages: pyparsing, kiwisolver, fonttools, cycler, contourpy, matplotlib\n",
            "Successfully installed contourpy-1.3.1 cycler-0.12.1 fonttools-4.56.0 kiwisolver-1.4.8 matplotlib-3.10.1 pyparsing-3.2.3\n"
          ]
        },
        {
          "name": "stderr",
          "output_type": "stream",
          "text": [
            "\n",
            "[notice] A new release of pip is available: 24.0 -> 25.0.1\n",
            "[notice] To update, run: python.exe -m pip install --upgrade pip\n"
          ]
        }
      ],
      "source": [
        "!pip install matplotlib"
      ]
    },
    {
      "cell_type": "code",
      "execution_count": 5,
      "metadata": {
        "colab": {
          "base_uri": "https://localhost:8080/"
        },
        "id": "NEh3u4Tlrekp",
        "outputId": "0c7daff3-1f37-42d8-b2df-64adb67e678a"
      },
      "outputs": [
        {
          "name": "stdout",
          "output_type": "stream",
          "text": [
            "Collecting pandas\n",
            "  Downloading pandas-2.2.3-cp311-cp311-win_amd64.whl.metadata (19 kB)\n",
            "Requirement already satisfied: numpy>=1.23.2 in .\\venv\\lib\\site-packages (from pandas) (2.2.2)\n",
            "Requirement already satisfied: python-dateutil>=2.8.2 in .\\venv\\lib\\site-packages (from pandas) (2.9.0.post0)\n",
            "Collecting pytz>=2020.1 (from pandas)\n",
            "  Downloading pytz-2025.2-py2.py3-none-any.whl.metadata (22 kB)\n",
            "Collecting tzdata>=2022.7 (from pandas)\n",
            "  Downloading tzdata-2025.2-py2.py3-none-any.whl.metadata (1.4 kB)\n",
            "Requirement already satisfied: six>=1.5 in .\\venv\\lib\\site-packages (from python-dateutil>=2.8.2->pandas) (1.17.0)\n",
            "Downloading pandas-2.2.3-cp311-cp311-win_amd64.whl (11.6 MB)\n",
            "   ---------------------------------------- 0.0/11.6 MB ? eta -:--:--\n",
            "   ---------------------------------------- 0.1/11.6 MB 3.6 MB/s eta 0:00:04\n",
            "   - -------------------------------------- 0.6/11.6 MB 7.0 MB/s eta 0:00:02\n",
            "   ------- -------------------------------- 2.2/11.6 MB 17.3 MB/s eta 0:00:01\n",
            "   -------- ------------------------------- 2.4/11.6 MB 14.0 MB/s eta 0:00:01\n",
            "   ---------------------- ----------------- 6.7/11.6 MB 30.4 MB/s eta 0:00:01\n",
            "   ------------------------ --------------- 7.2/11.6 MB 27.2 MB/s eta 0:00:01\n",
            "   ------------------------------ --------- 8.7/11.6 MB 29.3 MB/s eta 0:00:01\n",
            "   ----------------------------------- ---- 10.2/11.6 MB 28.3 MB/s eta 0:00:01\n",
            "   ------------------------------------- -- 10.9/11.6 MB 31.2 MB/s eta 0:00:01\n",
            "   -------------------------------------- - 11.3/11.6 MB 28.5 MB/s eta 0:00:01\n",
            "   ---------------------------------------- 11.6/11.6 MB 27.3 MB/s eta 0:00:00\n",
            "Downloading pytz-2025.2-py2.py3-none-any.whl (509 kB)\n",
            "   ---------------------------------------- 0.0/509.2 kB ? eta -:--:--\n",
            "   ----------------------------------- ---- 450.6/509.2 kB 9.4 MB/s eta 0:00:01\n",
            "   ---------------------------------------- 509.2/509.2 kB 7.9 MB/s eta 0:00:00\n",
            "Downloading tzdata-2025.2-py2.py3-none-any.whl (347 kB)\n",
            "   ---------------------------------------- 0.0/347.8 kB ? eta -:--:--\n",
            "   --------------------------------------- 347.8/347.8 kB 10.9 MB/s eta 0:00:00\n",
            "Installing collected packages: pytz, tzdata, pandas\n",
            "Successfully installed pandas-2.2.3 pytz-2025.2 tzdata-2025.2\n"
          ]
        },
        {
          "name": "stderr",
          "output_type": "stream",
          "text": [
            "\n",
            "[notice] A new release of pip is available: 24.0 -> 25.0.1\n",
            "[notice] To update, run: python.exe -m pip install --upgrade pip\n"
          ]
        }
      ],
      "source": [
        "!pip install pandas"
      ]
    },
    {
      "cell_type": "code",
      "execution_count": null,
      "metadata": {
        "id": "ilhmrHKqNSKx"
      },
      "outputs": [],
      "source": [
        "import torch\n",
        "import lightning as L\n",
        "from lightning.pytorch.loggers import CSVLogger\n",
        "import torch.nn as nn\n",
        "import torch.nn.functional as F\n",
        "import torch.optim as optim\n",
        "from torch.utils.data import DataLoader\n",
        "from torchaudio.datasets import SPEECHCOMMANDS\n",
        "import numpy as np\n",
        "import time\n",
        "import thop\n",
        "from melbanks import LogMelFilterBanks\n",
        "import matplotlib.pyplot as plt\n",
        "import pandas as pd"
      ]
    },
    {
      "cell_type": "markdown",
      "metadata": {},
      "source": [
        "Подготовим класс для извлечения подвыборки из датасета с метками да и нет"
      ]
    },
    {
      "cell_type": "code",
      "execution_count": 7,
      "metadata": {
        "id": "8JxOPupsrekr"
      },
      "outputs": [],
      "source": [
        "class SubsetSC(SPEECHCOMMANDS):\n",
        "    def __init__(self, subset: str = \"training\", n_mels: int = 80):\n",
        "        super().__init__(\"./\", download=True, subset=subset)\n",
        "        # Фильтруем только \"yes\" и \"no\"\n",
        "        self.data = [\n",
        "            d\n",
        "            for d in self._walker\n",
        "            if self.get_metadata(self._walker.index(d))[2] in [\"yes\", \"no\"]\n",
        "        ]\n",
        "        self.feature_extractor = LogMelFilterBanks(n_mels=n_mels)\n",
        "\n",
        "    def __getitem__(self, idx):\n",
        "        waveform, _, label, *_ = super().__getitem__(idx)\n",
        "        binary_label = 1 if label == \"yes\" else 0\n",
        "        log_mel = self.feature_extractor(waveform)\n",
        "        return log_mel, torch.tensor(binary_label, dtype=torch.long)"
      ]
    },
    {
      "cell_type": "markdown",
      "metadata": {},
      "source": [
        "Подготовим модель для отслеживания через Lightning"
      ]
    },
    {
      "cell_type": "code",
      "execution_count": 8,
      "metadata": {
        "id": "RNBWgf7QNSKy"
      },
      "outputs": [],
      "source": [
        "class CNN(L.LightningModule):\n",
        "    def __init__(self, n_mels=80):\n",
        "        super().__init__()\n",
        "        self.conv1 = nn.Conv1d(n_mels, 64, kernel_size=5, stride=1, padding=2)\n",
        "        self.bn1 = nn.BatchNorm1d(64)\n",
        "        self.pool1 = nn.MaxPool1d(kernel_size=2, stride=2)\n",
        "\n",
        "        self.conv2 = nn.Conv1d(64, 128, kernel_size=5, stride=1, padding=2)\n",
        "        self.bn2 = nn.BatchNorm1d(128)\n",
        "        self.pool2 = nn.MaxPool1d(kernel_size=2, stride=2)\n",
        "\n",
        "        self.conv3 = nn.Conv1d(128, 64, kernel_size=3, stride=1, padding=1)\n",
        "        self.bn3 = nn.BatchNorm1d(64)\n",
        "\n",
        "        self.fc1 = nn.Linear(64 * 25, 256)\n",
        "        self.fc2 = nn.Linear(256, 2)\n",
        "\n",
        "        self.criterion = nn.CrossEntropyLoss()\n",
        "        self.dropout = nn.Dropout(0.3)\n",
        "\n",
        "    def forward(self, x):\n",
        "        x = self.pool1(F.relu(self.bn1(self.conv1(x))))\n",
        "        x = self.pool2(F.relu(self.bn2(self.conv2(x))))\n",
        "        x = F.relu(self.bn3(self.conv3(x)))\n",
        "        x = torch.flatten(x, start_dim=1)\n",
        "\n",
        "        x = F.relu(self.fc1(x))\n",
        "        x = self.dropout(x)\n",
        "        return self.fc2(x)\n",
        "\n",
        "    def training_step(self, batch, batch_idx):\n",
        "        x, y = batch\n",
        "        x = x.squeeze(1)\n",
        "        preds = self(x)\n",
        "        loss = self.criterion(preds, y)\n",
        "        self.log(\"train_loss\", loss, on_epoch=True)\n",
        "        return loss\n",
        "\n",
        "    def validation_step(self, batch, batch_idx):\n",
        "        x, y = batch\n",
        "        x = x.squeeze(1)\n",
        "        preds = self(x)\n",
        "        loss = self.criterion(preds, y)\n",
        "        acc = (preds.argmax(dim=1) == y).float().mean()\n",
        "        self.log(\"val_loss\", loss, on_epoch=True, prog_bar=True)\n",
        "        self.log(\"val_acc\", acc, on_epoch=True, prog_bar=True)\n",
        "\n",
        "    def test_step(self, batch, batch_idx):\n",
        "        x, y = batch\n",
        "        x = x.squeeze(1)\n",
        "        preds = self(x)\n",
        "        acc = (preds.argmax(dim=1) == y).float().mean()\n",
        "        self.log(\"test_acc\", acc, on_epoch=True)\n",
        "\n",
        "    def configure_optimizers(self):\n",
        "        return optim.Adam(self.parameters(), lr=1e-3)"
      ]
    },
    {
      "cell_type": "markdown",
      "metadata": {},
      "source": [
        "Подготовим функции дял расчета параметров модели, подготовки даталоадера и функцию для паддинга нулями"
      ]
    },
    {
      "cell_type": "code",
      "execution_count": 9,
      "metadata": {
        "id": "CR2An5N6NSKz"
      },
      "outputs": [],
      "source": [
        "def model_stats(model, input_shape=(1, 80, 101)):\n",
        "    params = sum(p.numel() for p in model.parameters() if p.requires_grad)\n",
        "    flops, _ = thop.profile(model, inputs=(torch.randn(*input_shape),), verbose=False)\n",
        "    return params, flops\n",
        "\n",
        "\n",
        "def get_dataloader(subset, batch_size=32, n_mels=80):\n",
        "    dataset = SubsetSC(subset, n_mels=n_mels)\n",
        "    return DataLoader(\n",
        "        dataset,\n",
        "        batch_size=batch_size,\n",
        "        shuffle=(subset == \"training\"),\n",
        "        collate_fn=collate_fn,\n",
        "    )\n",
        "\n",
        "\n",
        "def collate_fn(batch):\n",
        "    # Разбиваем batch на спектрограммы и метки\n",
        "    log_mels, labels = zip(*batch)\n",
        "\n",
        "    # Преобразуем в список тензоров и находим максимальную длину по оси `T`\n",
        "    max_len = max(x.shape[2] for x in log_mels)\n",
        "\n",
        "    # Создаём нулевой тензор для хранения дополненных спектрограмм\n",
        "    padded_log_mels = torch.zeros(len(log_mels), log_mels[0].shape[1], max_len)\n",
        "\n",
        "    # Заполняем нулями спектрограммы\n",
        "    for i, x in enumerate(log_mels):\n",
        "        padded_log_mels[i, :, : x.shape[2]] = x.squeeze(0)  # (1, 80, T) -> (80, T)\n",
        "\n",
        "    # Собираем метки в тензор\n",
        "    labels = torch.tensor(labels, dtype=torch.long)\n",
        "\n",
        "    return padded_log_mels, labels"
      ]
    },
    {
      "cell_type": "code",
      "execution_count": 65,
      "metadata": {
        "id": "XJZMQP5ONSK0"
      },
      "outputs": [],
      "source": [
        "train_loader = get_dataloader(\"training\")\n",
        "val_loader = get_dataloader(\"validation\")\n",
        "test_loader = get_dataloader(\"testing\")"
      ]
    },
    {
      "cell_type": "markdown",
      "metadata": {},
      "source": [
        "Посмотрим, корректно ли разметились данные"
      ]
    },
    {
      "cell_type": "code",
      "execution_count": 66,
      "metadata": {
        "colab": {
          "base_uri": "https://localhost:8080/"
        },
        "id": "3-ouo9oMreks",
        "outputId": "b4eb1aa3-061f-40a2-84a9-bc1bbba3c8ce"
      },
      "outputs": [
        {
          "name": "stdout",
          "output_type": "stream",
          "text": [
            "Shape of x: torch.Size([32, 80, 101])\n",
            "Shape of y: torch.Size([32]), Unique labels: tensor([0, 1])\n",
            "First batch labels: tensor([0, 0, 0, 0, 0, 0, 0, 0, 0, 0, 0, 0, 0, 0, 0, 0, 0, 0, 0, 0, 0, 1, 0, 0,\n",
            "        0, 0, 0, 0, 1, 0, 0, 0])\n",
            "Shape of x: torch.Size([32, 80, 101])\n",
            "Shape of y: torch.Size([32]), Unique labels: tensor([0])\n",
            "First batch labels: tensor([0, 0, 0, 0, 0, 0, 0, 0, 0, 0, 0, 0, 0, 0, 0, 0, 0, 0, 0, 0, 0, 0, 0, 0,\n",
            "        0, 0, 0, 0, 0, 0, 0, 0])\n",
            "Shape of x: torch.Size([32, 80, 101])\n",
            "Shape of y: torch.Size([32]), Unique labels: tensor([0])\n",
            "First batch labels: tensor([0, 0, 0, 0, 0, 0, 0, 0, 0, 0, 0, 0, 0, 0, 0, 0, 0, 0, 0, 0, 0, 0, 0, 0,\n",
            "        0, 0, 0, 0, 0, 0, 0, 0])\n",
            "Shape of x: torch.Size([32, 80, 101])\n",
            "Shape of y: torch.Size([32]), Unique labels: tensor([0, 1])\n",
            "First batch labels: tensor([0, 0, 0, 0, 0, 0, 0, 0, 1, 0, 0, 0, 0, 0, 0, 0, 0, 0, 0, 0, 0, 0, 0, 0,\n",
            "        0, 0, 0, 0, 0, 0, 0, 0])\n",
            "Shape of x: torch.Size([32, 80, 101])\n",
            "Shape of y: torch.Size([32]), Unique labels: tensor([0])\n",
            "First batch labels: tensor([0, 0, 0, 0, 0, 0, 0, 0, 0, 0, 0, 0, 0, 0, 0, 0, 0, 0, 0, 0, 0, 0, 0, 0,\n",
            "        0, 0, 0, 0, 0, 0, 0, 0])\n"
          ]
        }
      ],
      "source": [
        "i=0\n",
        "for batch in train_loader:\n",
        "    x, y = batch  \n",
        "    print(f\"Shape of x: {x.shape}\") \n",
        "    print(f\"Shape of y: {y.shape}, Unique labels: {y.unique()}\")  \n",
        "    print(f\"First batch labels: {y[:100]}\")  \n",
        "    i+=1\n",
        "    if i == 5:\n",
        "        break"
      ]
    },
    {
      "cell_type": "markdown",
      "metadata": {},
      "source": [
        "Все правильно, можно тренировать"
      ]
    },
    {
      "cell_type": "code",
      "execution_count": 67,
      "metadata": {
        "colab": {
          "base_uri": "https://localhost:8080/"
        },
        "id": "GbY64danNSK1",
        "outputId": "f6c242f0-0ba0-490b-8e48-a77ced52a48b"
      },
      "outputs": [
        {
          "name": "stderr",
          "output_type": "stream",
          "text": [
            "Trainer will use only 1 of 2 GPUs because it is running inside an interactive / notebook environment. You may try to set `Trainer(devices=2)` but please note that multi-GPU inside interactive / notebook environments is considered experimental and unstable. Your mileage may vary.\n",
            "You are using the plain ModelCheckpoint callback. Consider using LitModelCheckpoint which with seamless uploading to Model registry.\n",
            "GPU available: True (cuda), used: True\n",
            "TPU available: False, using: 0 TPU cores\n",
            "HPU available: False, using: 0 HPUs\n"
          ]
        }
      ],
      "source": [
        "model = CNN()\n",
        "trainer = L.Trainer(max_epochs=10)"
      ]
    },
    {
      "cell_type": "code",
      "execution_count": 68,
      "metadata": {
        "colab": {
          "base_uri": "https://localhost:8080/",
          "height": 989,
          "referenced_widgets": [
            "ffcf5566f4614cdb927de4d4ae37d183",
            "592d0e2a8eb7459398e6921c73490d63",
            "2dd877d7504d41e2be77b347667f0679",
            "e8497ed697ef4fc4a9c4d33b4b5c814d",
            "ac6e0b37500148ae8314cdb55a1e9150",
            "f27a518a75274e4aa5a249c2462c9880",
            "79892c6ab78c4a508fb8a99fc647b117",
            "d8da9e3802be4b7cb32f836442e37886",
            "ce168fc8b5694891876e12866441fb71",
            "e5f16e98abbc48fdaf7f5d53c62cb04c",
            "dd92cb7fdd054541add5a391278597a3",
            "b7ae9b0d8cea4b4aa0ab839f7650197d",
            "c8e6922704a94718bccb02954df51039",
            "9257267f869c415a89b82085fdc42124",
            "73ea79138823457690e049711b48cb65",
            "d19ef7f9e00c4fb8a80378ffd0b6374b",
            "2e9632f7ac8e4d77a7ae2870807e9b6d",
            "313f3ea965354449a74bd2cc2bd45306",
            "92385b57d100444b878082331c9b5148",
            "0398bf4d5c4d48c9910334aaa64d7035",
            "ea86126ccee647c89f3b305b7d4ac611",
            "4d5fe02696394c95a774df3decb81e86",
            "699a6779592e4f0594d31cbf67e27ad6",
            "d9018f0bbb694c2493a734c22e8f2ce2",
            "546ae3c3fa924f579cf0bf21c6b74874",
            "a3f87cd108204d399866dd6af0abbfce",
            "e5df3b8977194397b971200617eee150",
            "366fd25b16f744a88e2c9fd95e676b38",
            "a9730b6b44234fa794583235fd70abb9",
            "5469a080f56d40ac95e43fcf4a823d15",
            "4f6dc0e45bea4453bbefbf5c5faa6fac",
            "49bc0f81fc5147769716790dfb40858a",
            "36b821829a484d24a32f340ebe17b066",
            "70d0a9d29b254e849f5cc93d610b1800",
            "dc481f88aac0464582126e824b609581",
            "be4e0f5442264f0dba34e57708c9c96f",
            "aca5aa9fd326475b80e7aea0f7f28b77",
            "5eadab5c87b44a1485135356aee57fdd",
            "f30d749678d94fb8b6c991da2634c1f1",
            "a3f298889495434fa933fa05699aaa50",
            "c9bacdab2835489dac360f09319e465c",
            "8df4fccc5e994ec89e31e07352f609e2",
            "e98f906c9bc6429da2c89a0647481a13",
            "7dae0f75fc954cfdaf177bcc629f188f",
            "18dad78f09ed43eb89dde93e5b07881c",
            "f9e0b099d0ef4a8e82b112e234753fcc",
            "85d8b8d1deb246819f4dbffa0589b4dd",
            "40810204e53542e19e702f6d55515769",
            "4e736d3f92eb45929874c8a724b9ab4c",
            "969948dbb36244ccb62e0f89ec02684a",
            "cfd68146305e4429951ea34b4719daec",
            "10abb5e2ad5c490086281568ad65f2b6",
            "166ce8f3f38640ac9519a557bded2dfc",
            "1d510b9bd4c048f9ac4125e3e8f0af6d",
            "e9a789e0272c4a3188745d1dd969480a"
          ]
        },
        "id": "bsxlpsfiNSK1",
        "outputId": "d24226e7-5c01-4191-fc76-9feae2b897e1"
      },
      "outputs": [
        {
          "name": "stderr",
          "output_type": "stream",
          "text": [
            "LOCAL_RANK: 0 - CUDA_VISIBLE_DEVICES: [0,1]\n",
            "\n",
            "   | Name      | Type             | Params | Mode \n",
            "--------------------------------------------------------\n",
            "0  | conv1     | Conv1d           | 25.7 K | train\n",
            "1  | bn1       | BatchNorm1d      | 128    | train\n",
            "2  | pool1     | MaxPool1d        | 0      | train\n",
            "3  | conv2     | Conv1d           | 41.1 K | train\n",
            "4  | bn2       | BatchNorm1d      | 256    | train\n",
            "5  | pool2     | MaxPool1d        | 0      | train\n",
            "6  | conv3     | Conv1d           | 24.6 K | train\n",
            "7  | bn3       | BatchNorm1d      | 128    | train\n",
            "8  | fc1       | Linear           | 409 K  | train\n",
            "9  | fc2       | Linear           | 514    | train\n",
            "10 | criterion | CrossEntropyLoss | 0      | train\n",
            "11 | dropout   | Dropout          | 0      | train\n",
            "--------------------------------------------------------\n",
            "502 K     Trainable params\n",
            "0         Non-trainable params\n",
            "502 K     Total params\n",
            "2.009     Total estimated model params size (MB)\n",
            "12        Modules in train mode\n",
            "0         Modules in eval mode\n"
          ]
        },
        {
          "name": "stdout",
          "output_type": "stream",
          "text": [
            "                                                                            "
          ]
        },
        {
          "name": "stderr",
          "output_type": "stream",
          "text": [
            "d:\\7.LLM_microverse_v5\\venv\\Lib\\site-packages\\lightning\\pytorch\\trainer\\connectors\\data_connector.py:425: The 'val_dataloader' does not have many workers which may be a bottleneck. Consider increasing the value of the `num_workers` argument` to `num_workers=15` in the `DataLoader` to improve performance.\n",
            "d:\\7.LLM_microverse_v5\\venv\\Lib\\site-packages\\lightning\\pytorch\\trainer\\connectors\\data_connector.py:425: The 'train_dataloader' does not have many workers which may be a bottleneck. Consider increasing the value of the `num_workers` argument` to `num_workers=15` in the `DataLoader` to improve performance.\n"
          ]
        },
        {
          "name": "stdout",
          "output_type": "stream",
          "text": [
            "Epoch 9: 100%|██████████| 2652/2652 [01:27<00:00, 30.36it/s, v_num=1, val_loss=0.00677, val_acc=0.998]"
          ]
        },
        {
          "name": "stderr",
          "output_type": "stream",
          "text": [
            "`Trainer.fit` stopped: `max_epochs=10` reached.\n"
          ]
        },
        {
          "name": "stdout",
          "output_type": "stream",
          "text": [
            "Epoch 9: 100%|██████████| 2652/2652 [01:27<00:00, 30.35it/s, v_num=1, val_loss=0.00677, val_acc=0.998]\n"
          ]
        }
      ],
      "source": [
        "trainer.fit(model, train_loader, val_loader)"
      ]
    },
    {
      "cell_type": "code",
      "execution_count": 69,
      "metadata": {
        "colab": {
          "base_uri": "https://localhost:8080/",
          "height": 444,
          "referenced_widgets": [
            "5219f1d9b8e24abfac416e7ca99d4b46",
            "c63ee96233044cc6884300b7e844c4d1",
            "63adf405642b49b38484bf80e4e475bc",
            "87319240d116491da7085b8ae42a4b60",
            "4a5d40dc564c4fca9f419458dfddcccc",
            "e34973fb4bf241ccafd6e367959e6df2",
            "4fcfea3e5b914095a6fe225a1e767f57",
            "8afca8d487c3438880aa8ae514e2029b",
            "d0967935a96b49cf8ed09034eccd4623",
            "b02f8b20875548ef852fc381ab6b4708",
            "5bd21e59502041ef8136249d65446459"
          ]
        },
        "id": "sEKtADitNSK2",
        "outputId": "e5e5fc5e-00b8-4812-fb3b-112e0422775e"
      },
      "outputs": [
        {
          "name": "stderr",
          "output_type": "stream",
          "text": [
            "LOCAL_RANK: 0 - CUDA_VISIBLE_DEVICES: [0,1]\n",
            "d:\\7.LLM_microverse_v5\\venv\\Lib\\site-packages\\lightning\\pytorch\\trainer\\connectors\\data_connector.py:425: The 'test_dataloader' does not have many workers which may be a bottleneck. Consider increasing the value of the `num_workers` argument` to `num_workers=15` in the `DataLoader` to improve performance.\n"
          ]
        },
        {
          "name": "stdout",
          "output_type": "stream",
          "text": [
            "Testing DataLoader 0: 100%|██████████| 344/344 [00:09<00:00, 37.93it/s]\n",
            "────────────────────────────────────────────────────────────────────────────────────────────────────────────────────────\n",
            "       Test metric             DataLoader 0\n",
            "────────────────────────────────────────────────────────────────────────────────────────────────────────────────────────\n",
            "        test_acc            0.9964561462402344\n",
            "────────────────────────────────────────────────────────────────────────────────────────────────────────────────────────\n"
          ]
        },
        {
          "data": {
            "text/plain": [
              "[{'test_acc': 0.9964561462402344}]"
            ]
          },
          "execution_count": 69,
          "metadata": {},
          "output_type": "execute_result"
        }
      ],
      "source": [
        "trainer.test(model, test_loader)"
      ]
    },
    {
      "cell_type": "markdown",
      "metadata": {},
      "source": [
        "Пайплайн работает. Результаты с 80 фильтрами достаточно хорошие. \n",
        "\n",
        "Посмотрим на количество параметров и вычислительную сложность"
      ]
    },
    {
      "cell_type": "code",
      "execution_count": 70,
      "metadata": {
        "colab": {
          "base_uri": "https://localhost:8080/"
        },
        "id": "tuOIHbM_NSK2",
        "outputId": "d1ab29b6-7a23-4700-f7d9-2c9f1170e1dd"
      },
      "outputs": [
        {
          "name": "stdout",
          "output_type": "stream",
          "text": [
            "Model Parameters: 502274, FLOPs: 5715968.0\n"
          ]
        }
      ],
      "source": [
        "params, flops = model_stats(model)\n",
        "print(f\"Model Parameters: {params}, FLOPs: {flops}\")"
      ]
    },
    {
      "cell_type": "code",
      "execution_count": null,
      "metadata": {},
      "outputs": [
        {
          "data": {
            "image/png": "[encoded data removed]",
            "text/plain": [
              "<Figure size 1000x500 with 2 Axes>"
            ]
          },
          "metadata": {},
          "output_type": "display_data"
        }
      ],
      "source": [
        "log_path = \"lightning_logs/version_1/metrics.csv\"\n",
        "df = pd.read_csv(log_path)\n",
        "\n",
        "\n",
        "train_loss_df = df[[\"epoch\", \"train_loss_epoch\"]].dropna()\n",
        "val_loss_df = df[[\"epoch\", \"val_loss\"]].dropna()\n",
        "val_acc_df = df[[\"epoch\", \"val_acc\"]].dropna()\n",
        "\n",
        "plt.figure(figsize=(10, 5))\n",
        "\n",
        "# train_loss_epoch\n",
        "plt.plot(\n",
        "    train_loss_df[\"epoch\"],\n",
        "    train_loss_df[\"train_loss_epoch\"],\n",
        "    label=\"Train Loss\",\n",
        "    marker=\"o\",\n",
        "    linestyle=\"-\",\n",
        "    color=\"blue\",\n",
        ")\n",
        "\n",
        "# val_loss\n",
        "plt.plot(\n",
        "    val_loss_df[\"epoch\"],\n",
        "    val_loss_df[\"val_loss\"],\n",
        "    label=\"Validation Loss\",\n",
        "    marker=\"o\",\n",
        "    linestyle=\"-\",\n",
        "    color=\"red\",\n",
        ")\n",
        "\n",
        "# val_acc\n",
        "ax = plt.gca()\n",
        "ax2 = ax.twinx()\n",
        "ax2.plot(\n",
        "    val_acc_df[\"epoch\"],\n",
        "    val_acc_df[\"val_acc\"],\n",
        "    label=\"Validation Accuracy\",\n",
        "    marker=\"s\",\n",
        "    linestyle=\"-\",\n",
        "    color=\"green\",\n",
        ")\n",
        "\n",
        "plt.xlabel(\"Epoch\")\n",
        "ax.set_ylabel(\"Loss\")\n",
        "ax2.set_ylabel(\"Accuracy\")\n",
        "plt.title(\"Training and Validation Metrics\")\n",
        "ax.legend(loc=\"upper left\")\n",
        "ax2.legend(loc=\"upper right\")\n",
        "plt.grid()\n",
        "plt.show()"
      ]
    },
    {
      "cell_type": "markdown",
      "metadata": {},
      "source": [
        "Попробуем поэкспериментировать с количеством фильтров"
      ]
    },
    {
      "cell_type": "code",
      "execution_count": null,
      "metadata": {},
      "outputs": [
        {
          "name": "stdout",
          "output_type": "stream",
          "text": [
            "\n",
            "=== Training with n_mels=20 ===\n"
          ]
        },
        {
          "name": "stderr",
          "output_type": "stream",
          "text": [
            "100%|██████████| 2.26G/2.26G [03:32<00:00, 11.4MB/s]\n",
            "GPU available: True (cuda), used: True\n",
            "TPU available: False, using: 0 TPU cores\n",
            "HPU available: False, using: 0 HPUs\n",
            "d:\\code\\venv\\Lib\\site-packages\\lightning\\pytorch\\trainer\\connectors\\logger_connector\\logger_connector.py:76: Starting from v1.9.0, `tensorboardX` has been removed as a dependency of the `lightning.pytorch` package, due to potential conflicts with other packages in the ML ecosystem. For this reason, `logger=True` will use `CSVLogger` as the default logger, unless the `tensorboard` or `tensorboardX` packages are found. Please `pip install lightning[extra]` or one of them to enable TensorBoard support by default\n",
            "You are using a CUDA device ('NVIDIA GeForce RTX 4070 Ti SUPER') that has Tensor Cores. To properly utilize them, you should set `torch.set_float32_matmul_precision('medium' | 'high')` which will trade-off precision for performance. For more details, read https://pytorch.org/docs/stable/generated/torch.set_float32_matmul_precision.html#torch.set_float32_matmul_precision\n",
            "LOCAL_RANK: 0 - CUDA_VISIBLE_DEVICES: [0]\n",
            "\n",
            "   | Name      | Type             | Params | Mode \n",
            "--------------------------------------------------------\n",
            "0  | conv1     | Conv1d           | 6.5 K  | train\n",
            "1  | bn1       | BatchNorm1d      | 128    | train\n",
            "2  | pool1     | MaxPool1d        | 0      | train\n",
            "3  | conv2     | Conv1d           | 41.1 K | train\n",
            "4  | bn2       | BatchNorm1d      | 256    | train\n",
            "5  | pool2     | MaxPool1d        | 0      | train\n",
            "6  | conv3     | Conv1d           | 24.6 K | train\n",
            "7  | bn3       | BatchNorm1d      | 128    | train\n",
            "8  | fc1       | Linear           | 409 K  | train\n",
            "9  | fc2       | Linear           | 514    | train\n",
            "10 | criterion | CrossEntropyLoss | 0      | train\n",
            "11 | dropout   | Dropout          | 0      | train\n",
            "--------------------------------------------------------\n",
            "483 K     Trainable params\n",
            "0         Non-trainable params\n",
            "483 K     Total params\n",
            "1.932     Total estimated model params size (MB)\n",
            "12        Modules in train mode\n",
            "0         Modules in eval mode\n"
          ]
        },
        {
          "name": "stdout",
          "output_type": "stream",
          "text": [
            "Sanity Checking: |          | 0/? [00:00<?, ?it/s]"
          ]
        },
        {
          "name": "stderr",
          "output_type": "stream",
          "text": [
            "d:\\code\\venv\\Lib\\site-packages\\lightning\\pytorch\\trainer\\connectors\\data_connector.py:425: The 'val_dataloader' does not have many workers which may be a bottleneck. Consider increasing the value of the `num_workers` argument` to `num_workers=19` in the `DataLoader` to improve performance.\n"
          ]
        },
        {
          "name": "stdout",
          "output_type": "stream",
          "text": [
            "                                                                           "
          ]
        },
        {
          "name": "stderr",
          "output_type": "stream",
          "text": [
            "d:\\code\\venv\\Lib\\site-packages\\lightning\\pytorch\\trainer\\connectors\\data_connector.py:425: The 'train_dataloader' does not have many workers which may be a bottleneck. Consider increasing the value of the `num_workers` argument` to `num_workers=19` in the `DataLoader` to improve performance.\n"
          ]
        },
        {
          "name": "stdout",
          "output_type": "stream",
          "text": [
            "Epoch 9: 100%|██████████| 2652/2652 [01:04<00:00, 40.85it/s, v_num=3, val_loss=0.00743, val_acc=0.998]"
          ]
        },
        {
          "name": "stderr",
          "output_type": "stream",
          "text": [
            "`Trainer.fit` stopped: `max_epochs=10` reached.\n"
          ]
        },
        {
          "name": "stdout",
          "output_type": "stream",
          "text": [
            "Epoch 9: 100%|██████████| 2652/2652 [01:04<00:00, 40.83it/s, v_num=3, val_loss=0.00743, val_acc=0.998]"
          ]
        },
        {
          "name": "stderr",
          "output_type": "stream",
          "text": [
            "LOCAL_RANK: 0 - CUDA_VISIBLE_DEVICES: [0]\n",
            "d:\\code\\venv\\Lib\\site-packages\\lightning\\pytorch\\trainer\\connectors\\data_connector.py:425: The 'test_dataloader' does not have many workers which may be a bottleneck. Consider increasing the value of the `num_workers` argument` to `num_workers=19` in the `DataLoader` to improve performance.\n"
          ]
        },
        {
          "name": "stdout",
          "output_type": "stream",
          "text": [
            "\n",
            "Testing DataLoader 0: 100%|██████████| 344/344 [00:35<00:00,  9.56it/s]\n",
            "────────────────────────────────────────────────────────────────────────────────────────────────────────────────────────\n",
            "       Test metric             DataLoader 0\n",
            "────────────────────────────────────────────────────────────────────────────────────────────────────────────────────────\n",
            "        test_acc             0.997183084487915\n",
            "────────────────────────────────────────────────────────────────────────────────────────────────────────────────────────\n",
            "\n",
            "=== Training with n_mels=40 ===\n"
          ]
        },
        {
          "name": "stderr",
          "output_type": "stream",
          "text": [
            "GPU available: True (cuda), used: True\n",
            "TPU available: False, using: 0 TPU cores\n",
            "HPU available: False, using: 0 HPUs\n",
            "LOCAL_RANK: 0 - CUDA_VISIBLE_DEVICES: [0]\n",
            "\n",
            "   | Name      | Type             | Params | Mode \n",
            "--------------------------------------------------------\n",
            "0  | conv1     | Conv1d           | 12.9 K | train\n",
            "1  | bn1       | BatchNorm1d      | 128    | train\n",
            "2  | pool1     | MaxPool1d        | 0      | train\n",
            "3  | conv2     | Conv1d           | 41.1 K | train\n",
            "4  | bn2       | BatchNorm1d      | 256    | train\n",
            "5  | pool2     | MaxPool1d        | 0      | train\n",
            "6  | conv3     | Conv1d           | 24.6 K | train\n",
            "7  | bn3       | BatchNorm1d      | 128    | train\n",
            "8  | fc1       | Linear           | 409 K  | train\n",
            "9  | fc2       | Linear           | 514    | train\n",
            "10 | criterion | CrossEntropyLoss | 0      | train\n",
            "11 | dropout   | Dropout          | 0      | train\n",
            "--------------------------------------------------------\n",
            "489 K     Trainable params\n",
            "0         Non-trainable params\n",
            "489 K     Total params\n",
            "1.958     Total estimated model params size (MB)\n",
            "12        Modules in train mode\n",
            "0         Modules in eval mode\n"
          ]
        },
        {
          "name": "stdout",
          "output_type": "stream",
          "text": [
            "Sanity Checking DataLoader 0:  50%|█████     | 1/2 [00:00<00:00, 49.99it/s]"
          ]
        },
        {
          "name": "stderr",
          "output_type": "stream",
          "text": [
            "d:\\code\\venv\\Lib\\site-packages\\lightning\\pytorch\\trainer\\connectors\\data_connector.py:425: The 'val_dataloader' does not have many workers which may be a bottleneck. Consider increasing the value of the `num_workers` argument` to `num_workers=19` in the `DataLoader` to improve performance.\n"
          ]
        },
        {
          "name": "stdout",
          "output_type": "stream",
          "text": [
            "                                                                           "
          ]
        },
        {
          "name": "stderr",
          "output_type": "stream",
          "text": [
            "d:\\code\\venv\\Lib\\site-packages\\lightning\\pytorch\\trainer\\connectors\\data_connector.py:425: The 'train_dataloader' does not have many workers which may be a bottleneck. Consider increasing the value of the `num_workers` argument` to `num_workers=19` in the `DataLoader` to improve performance.\n"
          ]
        },
        {
          "name": "stdout",
          "output_type": "stream",
          "text": [
            "Epoch 9: 100%|██████████| 2652/2652 [00:53<00:00, 49.34it/s, v_num=3, val_loss=0.00828, val_acc=0.997]"
          ]
        },
        {
          "name": "stderr",
          "output_type": "stream",
          "text": [
            "`Trainer.fit` stopped: `max_epochs=10` reached.\n"
          ]
        },
        {
          "name": "stdout",
          "output_type": "stream",
          "text": [
            "Epoch 9: 100%|██████████| 2652/2652 [00:53<00:00, 49.31it/s, v_num=3, val_loss=0.00828, val_acc=0.997]"
          ]
        },
        {
          "name": "stderr",
          "output_type": "stream",
          "text": [
            "LOCAL_RANK: 0 - CUDA_VISIBLE_DEVICES: [0]\n"
          ]
        },
        {
          "name": "stdout",
          "output_type": "stream",
          "text": [
            "\n"
          ]
        },
        {
          "name": "stderr",
          "output_type": "stream",
          "text": [
            "d:\\code\\venv\\Lib\\site-packages\\lightning\\pytorch\\trainer\\connectors\\data_connector.py:425: The 'test_dataloader' does not have many workers which may be a bottleneck. Consider increasing the value of the `num_workers` argument` to `num_workers=19` in the `DataLoader` to improve performance.\n"
          ]
        },
        {
          "name": "stdout",
          "output_type": "stream",
          "text": [
            "Testing DataLoader 0: 100%|██████████| 344/344 [00:05<00:00, 65.99it/s]\n",
            "────────────────────────────────────────────────────────────────────────────────────────────────────────────────────────\n",
            "       Test metric             DataLoader 0\n",
            "────────────────────────────────────────────────────────────────────────────────────────────────────────────────────────\n",
            "        test_acc            0.9972739815711975\n",
            "────────────────────────────────────────────────────────────────────────────────────────────────────────────────────────\n",
            "\n",
            "=== Training with n_mels=60 ===\n"
          ]
        },
        {
          "name": "stderr",
          "output_type": "stream",
          "text": [
            "GPU available: True (cuda), used: True\n",
            "TPU available: False, using: 0 TPU cores\n",
            "HPU available: False, using: 0 HPUs\n",
            "LOCAL_RANK: 0 - CUDA_VISIBLE_DEVICES: [0]\n",
            "\n",
            "   | Name      | Type             | Params | Mode \n",
            "--------------------------------------------------------\n",
            "0  | conv1     | Conv1d           | 19.3 K | train\n",
            "1  | bn1       | BatchNorm1d      | 128    | train\n",
            "2  | pool1     | MaxPool1d        | 0      | train\n",
            "3  | conv2     | Conv1d           | 41.1 K | train\n",
            "4  | bn2       | BatchNorm1d      | 256    | train\n",
            "5  | pool2     | MaxPool1d        | 0      | train\n",
            "6  | conv3     | Conv1d           | 24.6 K | train\n",
            "7  | bn3       | BatchNorm1d      | 128    | train\n",
            "8  | fc1       | Linear           | 409 K  | train\n",
            "9  | fc2       | Linear           | 514    | train\n",
            "10 | criterion | CrossEntropyLoss | 0      | train\n",
            "11 | dropout   | Dropout          | 0      | train\n",
            "--------------------------------------------------------\n",
            "495 K     Trainable params\n",
            "0         Non-trainable params\n",
            "495 K     Total params\n",
            "1.983     Total estimated model params size (MB)\n",
            "12        Modules in train mode\n",
            "0         Modules in eval mode\n"
          ]
        },
        {
          "name": "stdout",
          "output_type": "stream",
          "text": [
            "                                                                            "
          ]
        },
        {
          "name": "stderr",
          "output_type": "stream",
          "text": [
            "d:\\code\\venv\\Lib\\site-packages\\lightning\\pytorch\\trainer\\connectors\\data_connector.py:425: The 'val_dataloader' does not have many workers which may be a bottleneck. Consider increasing the value of the `num_workers` argument` to `num_workers=19` in the `DataLoader` to improve performance.\n",
            "d:\\code\\venv\\Lib\\site-packages\\lightning\\pytorch\\trainer\\connectors\\data_connector.py:425: The 'train_dataloader' does not have many workers which may be a bottleneck. Consider increasing the value of the `num_workers` argument` to `num_workers=19` in the `DataLoader` to improve performance.\n"
          ]
        },
        {
          "name": "stdout",
          "output_type": "stream",
          "text": [
            "Epoch 9: 100%|██████████| 2652/2652 [00:57<00:00, 45.89it/s, v_num=3, val_loss=0.00924, val_acc=0.998]"
          ]
        },
        {
          "name": "stderr",
          "output_type": "stream",
          "text": [
            "`Trainer.fit` stopped: `max_epochs=10` reached.\n"
          ]
        },
        {
          "name": "stdout",
          "output_type": "stream",
          "text": [
            "Epoch 9: 100%|██████████| 2652/2652 [00:57<00:00, 45.86it/s, v_num=3, val_loss=0.00924, val_acc=0.998]"
          ]
        },
        {
          "name": "stderr",
          "output_type": "stream",
          "text": [
            "LOCAL_RANK: 0 - CUDA_VISIBLE_DEVICES: [0]\n"
          ]
        },
        {
          "name": "stdout",
          "output_type": "stream",
          "text": [
            "\n"
          ]
        },
        {
          "name": "stderr",
          "output_type": "stream",
          "text": [
            "d:\\code\\venv\\Lib\\site-packages\\lightning\\pytorch\\trainer\\connectors\\data_connector.py:425: The 'test_dataloader' does not have many workers which may be a bottleneck. Consider increasing the value of the `num_workers` argument` to `num_workers=19` in the `DataLoader` to improve performance.\n"
          ]
        },
        {
          "name": "stdout",
          "output_type": "stream",
          "text": [
            "Testing DataLoader 0: 100%|██████████| 344/344 [00:05<00:00, 61.54it/s]\n",
            "────────────────────────────────────────────────────────────────────────────────────────────────────────────────────────\n",
            "       Test metric             DataLoader 0\n",
            "────────────────────────────────────────────────────────────────────────────────────────────────────────────────────────\n",
            "        test_acc            0.9966378808021545\n",
            "────────────────────────────────────────────────────────────────────────────────────────────────────────────────────────\n"
          ]
        }
      ],
      "source": [
        "n_mels_list = [20, 40, 60]\n",
        "\n",
        "results = {}\n",
        "\n",
        "for n_mels in n_mels_list:\n",
        "    print(f\"\\n=== Training with n_mels={n_mels} ===\")\n",
        "\n",
        "    train_loader = get_dataloader(\"training\", n_mels=n_mels)\n",
        "    val_loader = get_dataloader(\"validation\", n_mels=n_mels)\n",
        "    test_loader = get_dataloader(\"testing\", n_mels=n_mels)\n",
        "\n",
        "    model = CNN(n_mels=n_mels)\n",
        "\n",
        "    trainer = L.Trainer(max_epochs=10)\n",
        "\n",
        "    csv_logger = CSVLogger(\"logs\", name=f\"mel_{n_mels}\")\n",
        "    trainer.loggers = [csv_logger]\n",
        "\n",
        "    trainer.fit(model, train_loader, val_loader)\n",
        "\n",
        "    test_result = trainer.test(model, test_loader)\n",
        "    test_acc = test_result[0][\"test_acc\"]\n",
        "\n",
        "    history = pd.read_csv(f\"{csv_logger.log_dir}/metrics.csv\")\n",
        "    params, flops = model_stats(model, input_shape=(1, n_mels, 101))\n",
        "\n",
        "    results[n_mels] = {\n",
        "        \"model\": model,\n",
        "        \"test_acc\": test_acc,\n",
        "        \"history\": history,\n",
        "        \"params\": params,\n",
        "        \"flops\": flops,\n",
        "    }"
      ]
    },
    {
      "cell_type": "code",
      "execution_count": null,
      "metadata": {},
      "outputs": [
        {
          "data": {
            "image/png": "[encoded data removed]",
            "text/plain": [
              "<Figure size 2000x2000 with 2 Axes>"
            ]
          },
          "metadata": {},
          "output_type": "display_data"
        }
      ],
      "source": [
        "plt.figure(figsize=(20, 20))\n",
        "\n",
        "colors = plt.cm.viridis(np.linspace(0, 1, len(results)))\n",
        "\n",
        "# val_acc\n",
        "plt.subplot(2, 1, 1)\n",
        "for (n_mels, res), color in zip(results.items(), colors):\n",
        "    val_acc = res[\"history\"][\"val_acc\"].dropna()\n",
        "    plt.plot(\n",
        "        val_acc.index,\n",
        "        val_acc,\n",
        "        label=f\"n_mels={n_mels}\",\n",
        "        marker=\"o\",\n",
        "        linestyle=\"-\",\n",
        "        color=color,\n",
        "    )\n",
        "plt.title(\"Validation Accuracy\")\n",
        "plt.legend()\n",
        "\n",
        "# train_loss_epoch\n",
        "plt.subplot(2, 1, 2)\n",
        "for (n_mels, res), color in zip(results.items(), colors):\n",
        "    train_loss = res[\"history\"][\"train_loss_epoch\"].dropna()\n",
        "    plt.plot(\n",
        "        train_loss.index,\n",
        "        train_loss,\n",
        "        label=f\"n_mels={n_mels}\",\n",
        "        marker=\"o\",\n",
        "        linestyle=\"-\",\n",
        "        color=color,\n",
        "    )\n",
        "plt.legend()\n",
        "\n",
        "plt.tight_layout()\n",
        "plt.show()"
      ]
    },
    {
      "cell_type": "markdown",
      "metadata": {},
      "source": [
        "Для дальнейших экспериментов выбираем значение по умолчанию, т.к. разница не то чтобы заметна. Предположительно данные слишком простые или модель чересчур сложная и можно было бы обойтись меньшими ресурсами.\n",
        "\n",
        "Теперь поэкспериментируем с группами. Для начала скорректируем модель."
      ]
    },
    {
      "cell_type": "code",
      "execution_count": 39,
      "metadata": {},
      "outputs": [],
      "source": [
        "class CNNwthGroup(L.LightningModule):\n",
        "    def __init__(self, n_mels=80, groups=1):\n",
        "        super().__init__()\n",
        "        self.conv1 = nn.Conv1d(\n",
        "            n_mels, 64, kernel_size=5, stride=1, padding=2, groups=groups\n",
        "        )\n",
        "        self.bn1 = nn.BatchNorm1d(64)\n",
        "        self.pool1 = nn.MaxPool1d(kernel_size=2, stride=2)\n",
        "\n",
        "        self.conv2 = nn.Conv1d(\n",
        "            64, 128, kernel_size=5, stride=1, padding=2, groups=groups\n",
        "        )\n",
        "        self.bn2 = nn.BatchNorm1d(128)\n",
        "        self.pool2 = nn.MaxPool1d(kernel_size=2, stride=2)\n",
        "\n",
        "        self.conv3 = nn.Conv1d(\n",
        "            128, 64, kernel_size=3, stride=1, padding=1, groups=groups\n",
        "        )\n",
        "        self.bn3 = nn.BatchNorm1d(64)\n",
        "\n",
        "        self.fc1 = nn.Linear(64 * 25, 256)\n",
        "        self.fc2 = nn.Linear(256, 2)\n",
        "\n",
        "        self.criterion = nn.CrossEntropyLoss()\n",
        "        self.dropout = nn.Dropout(0.3)\n",
        "\n",
        "    def forward(self, x):\n",
        "        x = self.pool1(F.relu(self.bn1(self.conv1(x))))\n",
        "        x = self.pool2(F.relu(self.bn2(self.conv2(x))))\n",
        "        x = F.relu(self.bn3(self.conv3(x)))\n",
        "        x = torch.flatten(x, start_dim=1)\n",
        "\n",
        "        x = F.relu(self.fc1(x))\n",
        "        x = self.dropout(x)\n",
        "        return self.fc2(x)\n",
        "\n",
        "    def training_step(self, batch, batch_idx):\n",
        "        x, y = batch\n",
        "        x = x.squeeze(1)\n",
        "        preds = self(x)\n",
        "        loss = self.criterion(preds, y)\n",
        "        self.log(\"train_loss\", loss, on_epoch=True)\n",
        "        return loss\n",
        "\n",
        "    def validation_step(self, batch, batch_idx):\n",
        "        x, y = batch\n",
        "        x = x.squeeze(1)\n",
        "        preds = self(x)\n",
        "        loss = self.criterion(preds, y)\n",
        "        acc = (preds.argmax(dim=1) == y).float().mean()\n",
        "        self.log(\"val_loss\", loss, on_epoch=True, prog_bar=True)\n",
        "        self.log(\"val_acc\", acc, on_epoch=True, prog_bar=True)\n",
        "\n",
        "    def test_step(self, batch, batch_idx):\n",
        "        x, y = batch\n",
        "        x = x.squeeze(1)\n",
        "        preds = self(x)\n",
        "        acc = (preds.argmax(dim=1) == y).float().mean()\n",
        "        self.log(\"test_acc\", acc)\n",
        "\n",
        "    def configure_optimizers(self):\n",
        "        return optim.Adam(self.parameters(), lr=1e-3)"
      ]
    },
    {
      "cell_type": "code",
      "execution_count": 41,
      "metadata": {},
      "outputs": [
        {
          "name": "stderr",
          "output_type": "stream",
          "text": [
            "GPU available: True (cuda), used: True\n",
            "TPU available: False, using: 0 TPU cores\n",
            "HPU available: False, using: 0 HPUs\n",
            "LOCAL_RANK: 0 - CUDA_VISIBLE_DEVICES: [0]\n",
            "\n",
            "   | Name      | Type             | Params | Mode \n",
            "--------------------------------------------------------\n",
            "0  | conv1     | Conv1d           | 25.7 K | train\n",
            "1  | bn1       | BatchNorm1d      | 128    | train\n",
            "2  | pool1     | MaxPool1d        | 0      | train\n",
            "3  | conv2     | Conv1d           | 41.1 K | train\n",
            "4  | bn2       | BatchNorm1d      | 256    | train\n",
            "5  | pool2     | MaxPool1d        | 0      | train\n",
            "6  | conv3     | Conv1d           | 24.6 K | train\n",
            "7  | bn3       | BatchNorm1d      | 128    | train\n",
            "8  | fc1       | Linear           | 409 K  | train\n",
            "9  | fc2       | Linear           | 514    | train\n",
            "10 | criterion | CrossEntropyLoss | 0      | train\n",
            "11 | dropout   | Dropout          | 0      | train\n",
            "--------------------------------------------------------\n",
            "502 K     Trainable params\n",
            "0         Non-trainable params\n",
            "502 K     Total params\n",
            "2.009     Total estimated model params size (MB)\n",
            "12        Modules in train mode\n",
            "0         Modules in eval mode\n"
          ]
        },
        {
          "name": "stdout",
          "output_type": "stream",
          "text": [
            "\n",
            "=== Training with groups=1 ===\n",
            "Epoch 2: 100%|██████████| 2652/2652 [00:55<00:00, 47.62it/s, v_num=3, val_loss=0.0113, val_acc=0.997]"
          ]
        },
        {
          "name": "stderr",
          "output_type": "stream",
          "text": [
            "`Trainer.fit` stopped: `max_epochs=3` reached.\n"
          ]
        },
        {
          "name": "stdout",
          "output_type": "stream",
          "text": [
            "Epoch 2: 100%|██████████| 2652/2652 [00:55<00:00, 47.60it/s, v_num=3, val_loss=0.0113, val_acc=0.997]\n"
          ]
        },
        {
          "name": "stderr",
          "output_type": "stream",
          "text": [
            "LOCAL_RANK: 0 - CUDA_VISIBLE_DEVICES: [0]\n"
          ]
        },
        {
          "name": "stdout",
          "output_type": "stream",
          "text": [
            "Testing DataLoader 0: 100%|██████████| 344/344 [00:05<00:00, 62.92it/s]\n",
            "────────────────────────────────────────────────────────────────────────────────────────────────────────────────────────\n",
            "       Test metric             DataLoader 0\n",
            "────────────────────────────────────────────────────────────────────────────────────────────────────────────────────────\n",
            "        test_acc            0.9959109425544739\n",
            "────────────────────────────────────────────────────────────────────────────────────────────────────────────────────────\n",
            "\n",
            "=== Training with groups=2 ===\n"
          ]
        },
        {
          "name": "stderr",
          "output_type": "stream",
          "text": [
            "GPU available: True (cuda), used: True\n",
            "TPU available: False, using: 0 TPU cores\n",
            "HPU available: False, using: 0 HPUs\n",
            "LOCAL_RANK: 0 - CUDA_VISIBLE_DEVICES: [0]\n",
            "\n",
            "   | Name      | Type             | Params | Mode \n",
            "--------------------------------------------------------\n",
            "0  | conv1     | Conv1d           | 12.9 K | train\n",
            "1  | bn1       | BatchNorm1d      | 128    | train\n",
            "2  | pool1     | MaxPool1d        | 0      | train\n",
            "3  | conv2     | Conv1d           | 20.6 K | train\n",
            "4  | bn2       | BatchNorm1d      | 256    | train\n",
            "5  | pool2     | MaxPool1d        | 0      | train\n",
            "6  | conv3     | Conv1d           | 12.4 K | train\n",
            "7  | bn3       | BatchNorm1d      | 128    | train\n",
            "8  | fc1       | Linear           | 409 K  | train\n",
            "9  | fc2       | Linear           | 514    | train\n",
            "10 | criterion | CrossEntropyLoss | 0      | train\n",
            "11 | dropout   | Dropout          | 0      | train\n",
            "--------------------------------------------------------\n",
            "456 K     Trainable params\n",
            "0         Non-trainable params\n",
            "456 K     Total params\n",
            "1.827     Total estimated model params size (MB)\n",
            "12        Modules in train mode\n",
            "0         Modules in eval mode\n"
          ]
        },
        {
          "name": "stdout",
          "output_type": "stream",
          "text": [
            "                                                                            "
          ]
        },
        {
          "name": "stderr",
          "output_type": "stream",
          "text": [
            "d:\\code\\venv\\Lib\\site-packages\\lightning\\pytorch\\trainer\\connectors\\data_connector.py:425: The 'val_dataloader' does not have many workers which may be a bottleneck. Consider increasing the value of the `num_workers` argument` to `num_workers=19` in the `DataLoader` to improve performance.\n",
            "d:\\code\\venv\\Lib\\site-packages\\lightning\\pytorch\\trainer\\connectors\\data_connector.py:425: The 'train_dataloader' does not have many workers which may be a bottleneck. Consider increasing the value of the `num_workers` argument` to `num_workers=19` in the `DataLoader` to improve performance.\n"
          ]
        },
        {
          "name": "stdout",
          "output_type": "stream",
          "text": [
            "Epoch 2: 100%|██████████| 2652/2652 [00:55<00:00, 47.78it/s, v_num=0, val_loss=0.0126, val_acc=0.996]"
          ]
        },
        {
          "name": "stderr",
          "output_type": "stream",
          "text": [
            "`Trainer.fit` stopped: `max_epochs=3` reached.\n"
          ]
        },
        {
          "name": "stdout",
          "output_type": "stream",
          "text": [
            "Epoch 2: 100%|██████████| 2652/2652 [00:55<00:00, 47.76it/s, v_num=0, val_loss=0.0126, val_acc=0.996]\n"
          ]
        },
        {
          "name": "stderr",
          "output_type": "stream",
          "text": [
            "LOCAL_RANK: 0 - CUDA_VISIBLE_DEVICES: [0]\n",
            "d:\\code\\venv\\Lib\\site-packages\\lightning\\pytorch\\trainer\\connectors\\data_connector.py:425: The 'test_dataloader' does not have many workers which may be a bottleneck. Consider increasing the value of the `num_workers` argument` to `num_workers=19` in the `DataLoader` to improve performance.\n"
          ]
        },
        {
          "name": "stdout",
          "output_type": "stream",
          "text": [
            "Testing DataLoader 0: 100%|██████████| 344/344 [00:05<00:00, 63.41it/s]"
          ]
        },
        {
          "name": "stderr",
          "output_type": "stream",
          "text": [
            "GPU available: True (cuda), used: True\n",
            "TPU available: False, using: 0 TPU cores\n",
            "HPU available: False, using: 0 HPUs\n"
          ]
        },
        {
          "name": "stdout",
          "output_type": "stream",
          "text": [
            "\n",
            "────────────────────────────────────────────────────────────────────────────────────────────────────────────────────────\n",
            "       Test metric             DataLoader 0\n",
            "────────────────────────────────────────────────────────────────────────────────────────────────────────────────────────\n",
            "        test_acc            0.9962744116783142\n",
            "────────────────────────────────────────────────────────────────────────────────────────────────────────────────────────\n",
            "\n",
            "=== Training with groups=4 ===\n"
          ]
        },
        {
          "name": "stderr",
          "output_type": "stream",
          "text": [
            "LOCAL_RANK: 0 - CUDA_VISIBLE_DEVICES: [0]\n",
            "\n",
            "   | Name      | Type             | Params | Mode \n",
            "--------------------------------------------------------\n",
            "0  | conv1     | Conv1d           | 6.5 K  | train\n",
            "1  | bn1       | BatchNorm1d      | 128    | train\n",
            "2  | pool1     | MaxPool1d        | 0      | train\n",
            "3  | conv2     | Conv1d           | 10.4 K | train\n",
            "4  | bn2       | BatchNorm1d      | 256    | train\n",
            "5  | pool2     | MaxPool1d        | 0      | train\n",
            "6  | conv3     | Conv1d           | 6.2 K  | train\n",
            "7  | bn3       | BatchNorm1d      | 128    | train\n",
            "8  | fc1       | Linear           | 409 K  | train\n",
            "9  | fc2       | Linear           | 514    | train\n",
            "10 | criterion | CrossEntropyLoss | 0      | train\n",
            "11 | dropout   | Dropout          | 0      | train\n",
            "--------------------------------------------------------\n",
            "433 K     Trainable params\n",
            "0         Non-trainable params\n",
            "433 K     Total params\n",
            "1.736     Total estimated model params size (MB)\n",
            "12        Modules in train mode\n",
            "0         Modules in eval mode\n"
          ]
        },
        {
          "name": "stdout",
          "output_type": "stream",
          "text": [
            "                                                                           "
          ]
        },
        {
          "name": "stderr",
          "output_type": "stream",
          "text": [
            "d:\\code\\venv\\Lib\\site-packages\\lightning\\pytorch\\trainer\\connectors\\data_connector.py:425: The 'val_dataloader' does not have many workers which may be a bottleneck. Consider increasing the value of the `num_workers` argument` to `num_workers=19` in the `DataLoader` to improve performance.\n",
            "d:\\code\\venv\\Lib\\site-packages\\lightning\\pytorch\\trainer\\connectors\\data_connector.py:425: The 'train_dataloader' does not have many workers which may be a bottleneck. Consider increasing the value of the `num_workers` argument` to `num_workers=19` in the `DataLoader` to improve performance.\n"
          ]
        },
        {
          "name": "stdout",
          "output_type": "stream",
          "text": [
            "Epoch 2: 100%|██████████| 2652/2652 [00:55<00:00, 47.58it/s, v_num=0, val_loss=0.0134, val_acc=0.996]"
          ]
        },
        {
          "name": "stderr",
          "output_type": "stream",
          "text": [
            "`Trainer.fit` stopped: `max_epochs=3` reached.\n"
          ]
        },
        {
          "name": "stdout",
          "output_type": "stream",
          "text": [
            "Epoch 2: 100%|██████████| 2652/2652 [00:55<00:00, 47.56it/s, v_num=0, val_loss=0.0134, val_acc=0.996]"
          ]
        },
        {
          "name": "stderr",
          "output_type": "stream",
          "text": [
            "LOCAL_RANK: 0 - CUDA_VISIBLE_DEVICES: [0]\n"
          ]
        },
        {
          "name": "stdout",
          "output_type": "stream",
          "text": [
            "\n"
          ]
        },
        {
          "name": "stderr",
          "output_type": "stream",
          "text": [
            "d:\\code\\venv\\Lib\\site-packages\\lightning\\pytorch\\trainer\\connectors\\data_connector.py:425: The 'test_dataloader' does not have many workers which may be a bottleneck. Consider increasing the value of the `num_workers` argument` to `num_workers=19` in the `DataLoader` to improve performance.\n"
          ]
        },
        {
          "name": "stdout",
          "output_type": "stream",
          "text": [
            "Testing DataLoader 0: 100%|██████████| 344/344 [00:05<00:00, 63.75it/s]\n",
            "────────────────────────────────────────────────────────────────────────────────────────────────────────────────────────\n",
            "       Test metric             DataLoader 0\n",
            "────────────────────────────────────────────────────────────────────────────────────────────────────────────────────────\n",
            "        test_acc            0.9953657388687134\n",
            "────────────────────────────────────────────────────────────────────────────────────────────────────────────────────────\n",
            "\n",
            "=== Training with groups=8 ===\n"
          ]
        },
        {
          "name": "stderr",
          "output_type": "stream",
          "text": [
            "GPU available: True (cuda), used: True\n",
            "TPU available: False, using: 0 TPU cores\n",
            "HPU available: False, using: 0 HPUs\n",
            "LOCAL_RANK: 0 - CUDA_VISIBLE_DEVICES: [0]\n",
            "\n",
            "   | Name      | Type             | Params | Mode \n",
            "--------------------------------------------------------\n",
            "0  | conv1     | Conv1d           | 3.3 K  | train\n",
            "1  | bn1       | BatchNorm1d      | 128    | train\n",
            "2  | pool1     | MaxPool1d        | 0      | train\n",
            "3  | conv2     | Conv1d           | 5.2 K  | train\n",
            "4  | bn2       | BatchNorm1d      | 256    | train\n",
            "5  | pool2     | MaxPool1d        | 0      | train\n",
            "6  | conv3     | Conv1d           | 3.1 K  | train\n",
            "7  | bn3       | BatchNorm1d      | 128    | train\n",
            "8  | fc1       | Linear           | 409 K  | train\n",
            "9  | fc2       | Linear           | 514    | train\n",
            "10 | criterion | CrossEntropyLoss | 0      | train\n",
            "11 | dropout   | Dropout          | 0      | train\n",
            "--------------------------------------------------------\n",
            "422 K     Trainable params\n",
            "0         Non-trainable params\n",
            "422 K     Total params\n",
            "1.690     Total estimated model params size (MB)\n",
            "12        Modules in train mode\n",
            "0         Modules in eval mode\n"
          ]
        },
        {
          "name": "stdout",
          "output_type": "stream",
          "text": [
            "                                                                            "
          ]
        },
        {
          "name": "stderr",
          "output_type": "stream",
          "text": [
            "d:\\code\\venv\\Lib\\site-packages\\lightning\\pytorch\\trainer\\connectors\\data_connector.py:425: The 'val_dataloader' does not have many workers which may be a bottleneck. Consider increasing the value of the `num_workers` argument` to `num_workers=19` in the `DataLoader` to improve performance.\n",
            "d:\\code\\venv\\Lib\\site-packages\\lightning\\pytorch\\trainer\\connectors\\data_connector.py:425: The 'train_dataloader' does not have many workers which may be a bottleneck. Consider increasing the value of the `num_workers` argument` to `num_workers=19` in the `DataLoader` to improve performance.\n"
          ]
        },
        {
          "name": "stdout",
          "output_type": "stream",
          "text": [
            "Epoch 2: 100%|██████████| 2652/2652 [00:56<00:00, 47.26it/s, v_num=0, val_loss=0.0126, val_acc=0.996]"
          ]
        },
        {
          "name": "stderr",
          "output_type": "stream",
          "text": [
            "`Trainer.fit` stopped: `max_epochs=3` reached.\n"
          ]
        },
        {
          "name": "stdout",
          "output_type": "stream",
          "text": [
            "Epoch 2: 100%|██████████| 2652/2652 [00:56<00:00, 47.24it/s, v_num=0, val_loss=0.0126, val_acc=0.996]"
          ]
        },
        {
          "name": "stderr",
          "output_type": "stream",
          "text": [
            "LOCAL_RANK: 0 - CUDA_VISIBLE_DEVICES: [0]\n"
          ]
        },
        {
          "name": "stdout",
          "output_type": "stream",
          "text": [
            "\n"
          ]
        },
        {
          "name": "stderr",
          "output_type": "stream",
          "text": [
            "d:\\code\\venv\\Lib\\site-packages\\lightning\\pytorch\\trainer\\connectors\\data_connector.py:425: The 'test_dataloader' does not have many workers which may be a bottleneck. Consider increasing the value of the `num_workers` argument` to `num_workers=19` in the `DataLoader` to improve performance.\n"
          ]
        },
        {
          "name": "stdout",
          "output_type": "stream",
          "text": [
            "Testing DataLoader 0: 100%|██████████| 344/344 [00:05<00:00, 64.14it/s]\n",
            "────────────────────────────────────────────────────────────────────────────────────────────────────────────────────────\n",
            "       Test metric             DataLoader 0\n",
            "────────────────────────────────────────────────────────────────────────────────────────────────────────────────────────\n",
            "        test_acc             0.995002269744873\n",
            "────────────────────────────────────────────────────────────────────────────────────────────────────────────────────────\n"
          ]
        }
      ],
      "source": [
        "groups_list = [1, 2, 4, 8]\n",
        "\n",
        "n_mels = 80\n",
        "results = {}\n",
        "\n",
        "train_loader = get_dataloader(\"training\")\n",
        "val_loader = get_dataloader(\"validation\")\n",
        "test_loader = get_dataloader(\"testing\")\n",
        "\n",
        "for groups in groups_list:\n",
        "    print(f\"\\n=== Training with groups={groups} ===\")\n",
        "\n",
        "    model = CNNwthGroup(n_mels=n_mels, groups=groups)\n",
        "\n",
        "    # Колбек для измерения времени эпохи\n",
        "    epoch_times = []\n",
        "\n",
        "    class TimingCallback(L.Callback):\n",
        "        def on_train_epoch_start(self, trainer, l_module):\n",
        "            self.epoch_start = time.time()\n",
        "\n",
        "        def on_train_epoch_end(self, trainer, l_module):\n",
        "            epoch_time = time.time() - self.epoch_start\n",
        "            epoch_times.append(epoch_time)\n",
        "            l_module.log(\"epoch_time\", epoch_time)\n",
        "\n",
        "    trainer = L.Trainer(\n",
        "        max_epochs=3,\n",
        "        callbacks=[TimingCallback()],\n",
        "        logger=CSVLogger(\"logs\", name=f\"groups_{groups}\"),\n",
        "        enable_progress_bar=True,\n",
        "    )\n",
        "\n",
        "    params, flops = model_stats(model, input_shape=(1, n_mels, 101))\n",
        "\n",
        "    trainer.fit(model, train_loader, val_loader)\n",
        "\n",
        "    test_result = trainer.test(model, test_loader)\n",
        "\n",
        "    history = pd.read_csv(f\"{csv_logger.log_dir}/metrics.csv\")\n",
        "    avg_epoch_time = np.mean(epoch_times)\n",
        "\n",
        "    results[groups] = {\n",
        "        \"params\": params,\n",
        "        \"flops\": flops,\n",
        "        \"test_acc\": test_result[0][\"test_acc\"],\n",
        "        \"avg_epoch_time\": avg_epoch_time,\n",
        "        \"history\": history,\n",
        "    }"
      ]
    },
    {
      "cell_type": "markdown",
      "metadata": {},
      "source": [
        "Построим графики экспериментов"
      ]
    },
    {
      "cell_type": "code",
      "execution_count": 45,
      "metadata": {},
      "outputs": [
        {
          "data": {
            "image/png": "[encoded data removed]",
            "text/plain": [
              "<Figure size 1200x800 with 4 Axes>"
            ]
          },
          "metadata": {},
          "output_type": "display_data"
        }
      ],
      "source": [
        "plt.figure(figsize=(12, 8))\n",
        "\n",
        "colors = [\"blue\", \"red\", \"green\", \"purple\"]\n",
        "\n",
        "for i, (groups, data) in enumerate(results.items()):\n",
        "    history = data[\"history\"]\n",
        "\n",
        "    # Фильтруем NaN\n",
        "    train_loss_df = history[[\"epoch\", \"train_loss_epoch\"]].dropna()\n",
        "    val_loss_df = history[[\"epoch\", \"val_loss\"]].dropna()\n",
        "    val_acc_df = history[[\"epoch\", \"val_acc\"]].dropna()\n",
        "\n",
        "    plt.subplot(2, 2, i + 1)\n",
        "\n",
        "    # Потери\n",
        "    plt.plot(\n",
        "        train_loss_df[\"epoch\"],\n",
        "        train_loss_df[\"train_loss_epoch\"],\n",
        "        label=\"Train Loss\",\n",
        "        linestyle=\"-\",\n",
        "        marker=\"o\",\n",
        "        color=colors[0],\n",
        "    )\n",
        "    plt.plot(\n",
        "        val_loss_df[\"epoch\"],\n",
        "        val_loss_df[\"val_loss\"],\n",
        "        label=\"Val Loss\",\n",
        "        linestyle=\"--\",\n",
        "        marker=\"s\",\n",
        "        color=colors[1],\n",
        "    )\n",
        "\n",
        "    # Точность\n",
        "    plt.plot(\n",
        "        val_acc_df[\"epoch\"],\n",
        "        val_acc_df[\"val_acc\"],\n",
        "        label=\"Val Accuracy\",\n",
        "        linestyle=\"-\",\n",
        "        marker=\"^\",\n",
        "        color=colors[2],\n",
        "    )\n",
        "\n",
        "    plt.xlabel(\"Epoch\")\n",
        "    plt.ylabel(\"Metrics\")\n",
        "    plt.title(f\"Groups={groups}\")\n",
        "    plt.legend()\n",
        "    plt.grid()\n",
        "\n",
        "plt.tight_layout()\n",
        "plt.show()"
      ]
    },
    {
      "cell_type": "markdown",
      "metadata": {},
      "source": [
        "Как видно, количество групп не повляло на метрики качества\n",
        "\n",
        "Теперь посмотрим на данные по сокрости и вычислениям в зависимости от количества групп"
      ]
    },
    {
      "cell_type": "code",
      "execution_count": 44,
      "metadata": {},
      "outputs": [
        {
          "data": {
            "image/png": "[encoded data removed]",
            "text/plain": [
              "<Figure size 1800x500 with 3 Axes>"
            ]
          },
          "metadata": {},
          "output_type": "display_data"
        }
      ],
      "source": [
        "groups_list = list(results.keys())\n",
        "avg_epoch_times = [results[g][\"avg_epoch_time\"] for g in groups_list]\n",
        "params_list = [results[g][\"params\"] for g in groups_list]\n",
        "flops_list = [results[g][\"flops\"] for g in groups_list]\n",
        "\n",
        "fig, axes = plt.subplots(1, 3, figsize=(18, 5))\n",
        "\n",
        "# Время обучения / количество групп\n",
        "axes[0].plot(groups_list, avg_epoch_times, marker=\"o\", linestyle=\"-\", color=\"blue\")\n",
        "axes[0].set_xlabel(\"Groups\")\n",
        "axes[0].set_ylabel(\"Avg Epoch Time (s)\")\n",
        "axes[0].set_title(\"Training Time vs. Groups\")\n",
        "axes[0].grid()\n",
        "\n",
        "# Количество параметров / количество групп\n",
        "axes[1].plot(groups_list, params_list, marker=\"s\", linestyle=\"-\", color=\"red\")\n",
        "axes[1].set_xlabel(\"Groups\")\n",
        "axes[1].set_ylabel(\"Number of Parameters\")\n",
        "axes[1].set_title(\"Model Parameters vs. Groups\")\n",
        "axes[1].grid()\n",
        "\n",
        "# FLOPs / количество групп\n",
        "axes[2].plot(groups_list, flops_list, marker=\"d\", linestyle=\"-\", color=\"green\")\n",
        "axes[2].set_xlabel(\"Groups\")\n",
        "axes[2].set_ylabel(\"FLOPs\")\n",
        "axes[2].set_title(\"Computational Cost (FLOPs) vs. Groups\")\n",
        "axes[2].grid()\n",
        "\n",
        "plt.show()"
      ]
    },
    {
      "cell_type": "markdown",
      "metadata": {},
      "source": [
        "Время тренировки как будто не сильно зависит от количества групп. Разница в значениях больше похожа на погрешность\n",
        "\n",
        "С количеством параметров интереснее. При увекличении групп уменьшилось количество обучаемых параметров сверток, что и видно на графике. \n",
        "\n",
        "Зато стоимость вычислений упала в 6 раз с увеличением количества групп. Если бы более эффективно загрузить видеокарту, то наверняка можно было бы и время сэкономить"
      ]
    }
  ],
  "metadata": {
    "accelerator": "TPU",
    "colab": {
      "gpuType": "V28",
      "provenance": []
    },
    "kernelspec": {
      "display_name": "venv",
      "language": "python",
      "name": "python3"
    },
    "language_info": {
      "codemirror_mode": {
        "name": "ipython",
        "version": 3
      },
      "file_extension": ".py",
      "mimetype": "text/x-python",
      "name": "python",
      "nbconvert_exporter": "python",
      "pygments_lexer": "ipython3",
      "version": "3.12.9"
    },
    "widgets": {
      "application/vnd.jupyter.widget-state+json": {
        "0398bf4d5c4d48c9910334aaa64d7035": {
          "model_module": "@jupyter-widgets/controls",
          "model_module_version": "1.5.0",
          "model_name": "ProgressStyleModel",
          "state": {
            "_model_module": "@jupyter-widgets/controls",
            "_model_module_version": "1.5.0",
            "_model_name": "ProgressStyleModel",
            "_view_count": null,
            "_view_module": "@jupyter-widgets/base",
            "_view_module_version": "1.2.0",
            "_view_name": "StyleView",
            "bar_color": null,
            "description_width": ""
          }
        },
        "10abb5e2ad5c490086281568ad65f2b6": {
          "model_module": "@jupyter-widgets/base",
          "model_module_version": "1.2.0",
          "model_name": "LayoutModel",
          "state": {
            "_model_module": "@jupyter-widgets/base",
            "_model_module_version": "1.2.0",
            "_model_name": "LayoutModel",
            "_view_count": null,
            "_view_module": "@jupyter-widgets/base",
            "_view_module_version": "1.2.0",
            "_view_name": "LayoutView",
            "align_content": null,
            "align_items": null,
            "align_self": null,
            "border": null,
            "bottom": null,
            "display": null,
            "flex": "2",
            "flex_flow": null,
            "grid_area": null,
            "grid_auto_columns": null,
            "grid_auto_flow": null,
            "grid_auto_rows": null,
            "grid_column": null,
            "grid_gap": null,
            "grid_row": null,
            "grid_template_areas": null,
            "grid_template_columns": null,
            "grid_template_rows": null,
            "height": null,
            "justify_content": null,
            "justify_items": null,
            "left": null,
            "margin": null,
            "max_height": null,
            "max_width": null,
            "min_height": null,
            "min_width": null,
            "object_fit": null,
            "object_position": null,
            "order": null,
            "overflow": null,
            "overflow_x": null,
            "overflow_y": null,
            "padding": null,
            "right": null,
            "top": null,
            "visibility": null,
            "width": null
          }
        },
        "166ce8f3f38640ac9519a557bded2dfc": {
          "model_module": "@jupyter-widgets/controls",
          "model_module_version": "1.5.0",
          "model_name": "ProgressStyleModel",
          "state": {
            "_model_module": "@jupyter-widgets/controls",
            "_model_module_version": "1.5.0",
            "_model_name": "ProgressStyleModel",
            "_view_count": null,
            "_view_module": "@jupyter-widgets/base",
            "_view_module_version": "1.2.0",
            "_view_name": "StyleView",
            "bar_color": null,
            "description_width": ""
          }
        },
        "18dad78f09ed43eb89dde93e5b07881c": {
          "model_module": "@jupyter-widgets/controls",
          "model_module_version": "1.5.0",
          "model_name": "HBoxModel",
          "state": {
            "_dom_classes": [],
            "_model_module": "@jupyter-widgets/controls",
            "_model_module_version": "1.5.0",
            "_model_name": "HBoxModel",
            "_view_count": null,
            "_view_module": "@jupyter-widgets/controls",
            "_view_module_version": "1.5.0",
            "_view_name": "HBoxView",
            "box_style": "",
            "children": [
              "IPY_MODEL_f9e0b099d0ef4a8e82b112e234753fcc",
              "IPY_MODEL_85d8b8d1deb246819f4dbffa0589b4dd",
              "IPY_MODEL_40810204e53542e19e702f6d55515769"
            ],
            "layout": "IPY_MODEL_4e736d3f92eb45929874c8a724b9ab4c"
          }
        },
        "1d510b9bd4c048f9ac4125e3e8f0af6d": {
          "model_module": "@jupyter-widgets/base",
          "model_module_version": "1.2.0",
          "model_name": "LayoutModel",
          "state": {
            "_model_module": "@jupyter-widgets/base",
            "_model_module_version": "1.2.0",
            "_model_name": "LayoutModel",
            "_view_count": null,
            "_view_module": "@jupyter-widgets/base",
            "_view_module_version": "1.2.0",
            "_view_name": "LayoutView",
            "align_content": null,
            "align_items": null,
            "align_self": null,
            "border": null,
            "bottom": null,
            "display": null,
            "flex": null,
            "flex_flow": null,
            "grid_area": null,
            "grid_auto_columns": null,
            "grid_auto_flow": null,
            "grid_auto_rows": null,
            "grid_column": null,
            "grid_gap": null,
            "grid_row": null,
            "grid_template_areas": null,
            "grid_template_columns": null,
            "grid_template_rows": null,
            "height": null,
            "justify_content": null,
            "justify_items": null,
            "left": null,
            "margin": null,
            "max_height": null,
            "max_width": null,
            "min_height": null,
            "min_width": null,
            "object_fit": null,
            "object_position": null,
            "order": null,
            "overflow": null,
            "overflow_x": null,
            "overflow_y": null,
            "padding": null,
            "right": null,
            "top": null,
            "visibility": null,
            "width": null
          }
        },
        "2dd877d7504d41e2be77b347667f0679": {
          "model_module": "@jupyter-widgets/controls",
          "model_module_version": "1.5.0",
          "model_name": "FloatProgressModel",
          "state": {
            "_dom_classes": [],
            "_model_module": "@jupyter-widgets/controls",
            "_model_module_version": "1.5.0",
            "_model_name": "FloatProgressModel",
            "_view_count": null,
            "_view_module": "@jupyter-widgets/controls",
            "_view_module_version": "1.5.0",
            "_view_name": "ProgressView",
            "bar_style": "",
            "description": "",
            "description_tooltip": null,
            "layout": "IPY_MODEL_d8da9e3802be4b7cb32f836442e37886",
            "max": 2,
            "min": 0,
            "orientation": "horizontal",
            "style": "IPY_MODEL_ce168fc8b5694891876e12866441fb71",
            "value": 2
          }
        },
        "2e9632f7ac8e4d77a7ae2870807e9b6d": {
          "model_module": "@jupyter-widgets/base",
          "model_module_version": "1.2.0",
          "model_name": "LayoutModel",
          "state": {
            "_model_module": "@jupyter-widgets/base",
            "_model_module_version": "1.2.0",
            "_model_name": "LayoutModel",
            "_view_count": null,
            "_view_module": "@jupyter-widgets/base",
            "_view_module_version": "1.2.0",
            "_view_name": "LayoutView",
            "align_content": null,
            "align_items": null,
            "align_self": null,
            "border": null,
            "bottom": null,
            "display": null,
            "flex": null,
            "flex_flow": null,
            "grid_area": null,
            "grid_auto_columns": null,
            "grid_auto_flow": null,
            "grid_auto_rows": null,
            "grid_column": null,
            "grid_gap": null,
            "grid_row": null,
            "grid_template_areas": null,
            "grid_template_columns": null,
            "grid_template_rows": null,
            "height": null,
            "justify_content": null,
            "justify_items": null,
            "left": null,
            "margin": null,
            "max_height": null,
            "max_width": null,
            "min_height": null,
            "min_width": null,
            "object_fit": null,
            "object_position": null,
            "order": null,
            "overflow": null,
            "overflow_x": null,
            "overflow_y": null,
            "padding": null,
            "right": null,
            "top": null,
            "visibility": null,
            "width": null
          }
        },
        "313f3ea965354449a74bd2cc2bd45306": {
          "model_module": "@jupyter-widgets/controls",
          "model_module_version": "1.5.0",
          "model_name": "DescriptionStyleModel",
          "state": {
            "_model_module": "@jupyter-widgets/controls",
            "_model_module_version": "1.5.0",
            "_model_name": "DescriptionStyleModel",
            "_view_count": null,
            "_view_module": "@jupyter-widgets/base",
            "_view_module_version": "1.2.0",
            "_view_name": "StyleView",
            "description_width": ""
          }
        },
        "366fd25b16f744a88e2c9fd95e676b38": {
          "model_module": "@jupyter-widgets/base",
          "model_module_version": "1.2.0",
          "model_name": "LayoutModel",
          "state": {
            "_model_module": "@jupyter-widgets/base",
            "_model_module_version": "1.2.0",
            "_model_name": "LayoutModel",
            "_view_count": null,
            "_view_module": "@jupyter-widgets/base",
            "_view_module_version": "1.2.0",
            "_view_name": "LayoutView",
            "align_content": null,
            "align_items": null,
            "align_self": null,
            "border": null,
            "bottom": null,
            "display": null,
            "flex": null,
            "flex_flow": null,
            "grid_area": null,
            "grid_auto_columns": null,
            "grid_auto_flow": null,
            "grid_auto_rows": null,
            "grid_column": null,
            "grid_gap": null,
            "grid_row": null,
            "grid_template_areas": null,
            "grid_template_columns": null,
            "grid_template_rows": null,
            "height": null,
            "justify_content": null,
            "justify_items": null,
            "left": null,
            "margin": null,
            "max_height": null,
            "max_width": null,
            "min_height": null,
            "min_width": null,
            "object_fit": null,
            "object_position": null,
            "order": null,
            "overflow": null,
            "overflow_x": null,
            "overflow_y": null,
            "padding": null,
            "right": null,
            "top": null,
            "visibility": null,
            "width": null
          }
        },
        "36b821829a484d24a32f340ebe17b066": {
          "model_module": "@jupyter-widgets/controls",
          "model_module_version": "1.5.0",
          "model_name": "DescriptionStyleModel",
          "state": {
            "_model_module": "@jupyter-widgets/controls",
            "_model_module_version": "1.5.0",
            "_model_name": "DescriptionStyleModel",
            "_view_count": null,
            "_view_module": "@jupyter-widgets/base",
            "_view_module_version": "1.2.0",
            "_view_name": "StyleView",
            "description_width": ""
          }
        },
        "40810204e53542e19e702f6d55515769": {
          "model_module": "@jupyter-widgets/controls",
          "model_module_version": "1.5.0",
          "model_name": "HTMLModel",
          "state": {
            "_dom_classes": [],
            "_model_module": "@jupyter-widgets/controls",
            "_model_module_version": "1.5.0",
            "_model_name": "HTMLModel",
            "_view_count": null,
            "_view_module": "@jupyter-widgets/controls",
            "_view_module_version": "1.5.0",
            "_view_name": "HTMLView",
            "description": "",
            "description_tooltip": null,
            "layout": "IPY_MODEL_1d510b9bd4c048f9ac4125e3e8f0af6d",
            "placeholder": "​",
            "style": "IPY_MODEL_e9a789e0272c4a3188745d1dd969480a",
            "value": " 39/39 [00:34&lt;00:00,  1.13it/s]"
          }
        },
        "49bc0f81fc5147769716790dfb40858a": {
          "model_module": "@jupyter-widgets/base",
          "model_module_version": "1.2.0",
          "model_name": "LayoutModel",
          "state": {
            "_model_module": "@jupyter-widgets/base",
            "_model_module_version": "1.2.0",
            "_model_name": "LayoutModel",
            "_view_count": null,
            "_view_module": "@jupyter-widgets/base",
            "_view_module_version": "1.2.0",
            "_view_name": "LayoutView",
            "align_content": null,
            "align_items": null,
            "align_self": null,
            "border": null,
            "bottom": null,
            "display": null,
            "flex": null,
            "flex_flow": null,
            "grid_area": null,
            "grid_auto_columns": null,
            "grid_auto_flow": null,
            "grid_auto_rows": null,
            "grid_column": null,
            "grid_gap": null,
            "grid_row": null,
            "grid_template_areas": null,
            "grid_template_columns": null,
            "grid_template_rows": null,
            "height": null,
            "justify_content": null,
            "justify_items": null,
            "left": null,
            "margin": null,
            "max_height": null,
            "max_width": null,
            "min_height": null,
            "min_width": null,
            "object_fit": null,
            "object_position": null,
            "order": null,
            "overflow": null,
            "overflow_x": null,
            "overflow_y": null,
            "padding": null,
            "right": null,
            "top": null,
            "visibility": null,
            "width": null
          }
        },
        "4a5d40dc564c4fca9f419458dfddcccc": {
          "model_module": "@jupyter-widgets/base",
          "model_module_version": "1.2.0",
          "model_name": "LayoutModel",
          "state": {
            "_model_module": "@jupyter-widgets/base",
            "_model_module_version": "1.2.0",
            "_model_name": "LayoutModel",
            "_view_count": null,
            "_view_module": "@jupyter-widgets/base",
            "_view_module_version": "1.2.0",
            "_view_name": "LayoutView",
            "align_content": null,
            "align_items": null,
            "align_self": null,
            "border": null,
            "bottom": null,
            "display": "inline-flex",
            "flex": null,
            "flex_flow": "row wrap",
            "grid_area": null,
            "grid_auto_columns": null,
            "grid_auto_flow": null,
            "grid_auto_rows": null,
            "grid_column": null,
            "grid_gap": null,
            "grid_row": null,
            "grid_template_areas": null,
            "grid_template_columns": null,
            "grid_template_rows": null,
            "height": null,
            "justify_content": null,
            "justify_items": null,
            "left": null,
            "margin": null,
            "max_height": null,
            "max_width": null,
            "min_height": null,
            "min_width": null,
            "object_fit": null,
            "object_position": null,
            "order": null,
            "overflow": null,
            "overflow_x": null,
            "overflow_y": null,
            "padding": null,
            "right": null,
            "top": null,
            "visibility": null,
            "width": "100%"
          }
        },
        "4d5fe02696394c95a774df3decb81e86": {
          "model_module": "@jupyter-widgets/controls",
          "model_module_version": "1.5.0",
          "model_name": "DescriptionStyleModel",
          "state": {
            "_model_module": "@jupyter-widgets/controls",
            "_model_module_version": "1.5.0",
            "_model_name": "DescriptionStyleModel",
            "_view_count": null,
            "_view_module": "@jupyter-widgets/base",
            "_view_module_version": "1.2.0",
            "_view_name": "StyleView",
            "description_width": ""
          }
        },
        "4e736d3f92eb45929874c8a724b9ab4c": {
          "model_module": "@jupyter-widgets/base",
          "model_module_version": "1.2.0",
          "model_name": "LayoutModel",
          "state": {
            "_model_module": "@jupyter-widgets/base",
            "_model_module_version": "1.2.0",
            "_model_name": "LayoutModel",
            "_view_count": null,
            "_view_module": "@jupyter-widgets/base",
            "_view_module_version": "1.2.0",
            "_view_name": "LayoutView",
            "align_content": null,
            "align_items": null,
            "align_self": null,
            "border": null,
            "bottom": null,
            "display": "inline-flex",
            "flex": null,
            "flex_flow": "row wrap",
            "grid_area": null,
            "grid_auto_columns": null,
            "grid_auto_flow": null,
            "grid_auto_rows": null,
            "grid_column": null,
            "grid_gap": null,
            "grid_row": null,
            "grid_template_areas": null,
            "grid_template_columns": null,
            "grid_template_rows": null,
            "height": null,
            "justify_content": null,
            "justify_items": null,
            "left": null,
            "margin": null,
            "max_height": null,
            "max_width": null,
            "min_height": null,
            "min_width": null,
            "object_fit": null,
            "object_position": null,
            "order": null,
            "overflow": null,
            "overflow_x": null,
            "overflow_y": null,
            "padding": null,
            "right": null,
            "top": null,
            "visibility": "hidden",
            "width": "100%"
          }
        },
        "4f6dc0e45bea4453bbefbf5c5faa6fac": {
          "model_module": "@jupyter-widgets/controls",
          "model_module_version": "1.5.0",
          "model_name": "ProgressStyleModel",
          "state": {
            "_model_module": "@jupyter-widgets/controls",
            "_model_module_version": "1.5.0",
            "_model_name": "ProgressStyleModel",
            "_view_count": null,
            "_view_module": "@jupyter-widgets/base",
            "_view_module_version": "1.2.0",
            "_view_name": "StyleView",
            "bar_color": null,
            "description_width": ""
          }
        },
        "4fcfea3e5b914095a6fe225a1e767f57": {
          "model_module": "@jupyter-widgets/controls",
          "model_module_version": "1.5.0",
          "model_name": "DescriptionStyleModel",
          "state": {
            "_model_module": "@jupyter-widgets/controls",
            "_model_module_version": "1.5.0",
            "_model_name": "DescriptionStyleModel",
            "_view_count": null,
            "_view_module": "@jupyter-widgets/base",
            "_view_module_version": "1.2.0",
            "_view_name": "StyleView",
            "description_width": ""
          }
        },
        "5219f1d9b8e24abfac416e7ca99d4b46": {
          "model_module": "@jupyter-widgets/controls",
          "model_module_version": "1.5.0",
          "model_name": "HBoxModel",
          "state": {
            "_dom_classes": [],
            "_model_module": "@jupyter-widgets/controls",
            "_model_module_version": "1.5.0",
            "_model_name": "HBoxModel",
            "_view_count": null,
            "_view_module": "@jupyter-widgets/controls",
            "_view_module_version": "1.5.0",
            "_view_name": "HBoxView",
            "box_style": "",
            "children": [
              "IPY_MODEL_c63ee96233044cc6884300b7e844c4d1",
              "IPY_MODEL_63adf405642b49b38484bf80e4e475bc",
              "IPY_MODEL_87319240d116491da7085b8ae42a4b60"
            ],
            "layout": "IPY_MODEL_4a5d40dc564c4fca9f419458dfddcccc"
          }
        },
        "5469a080f56d40ac95e43fcf4a823d15": {
          "model_module": "@jupyter-widgets/base",
          "model_module_version": "1.2.0",
          "model_name": "LayoutModel",
          "state": {
            "_model_module": "@jupyter-widgets/base",
            "_model_module_version": "1.2.0",
            "_model_name": "LayoutModel",
            "_view_count": null,
            "_view_module": "@jupyter-widgets/base",
            "_view_module_version": "1.2.0",
            "_view_name": "LayoutView",
            "align_content": null,
            "align_items": null,
            "align_self": null,
            "border": null,
            "bottom": null,
            "display": null,
            "flex": "2",
            "flex_flow": null,
            "grid_area": null,
            "grid_auto_columns": null,
            "grid_auto_flow": null,
            "grid_auto_rows": null,
            "grid_column": null,
            "grid_gap": null,
            "grid_row": null,
            "grid_template_areas": null,
            "grid_template_columns": null,
            "grid_template_rows": null,
            "height": null,
            "justify_content": null,
            "justify_items": null,
            "left": null,
            "margin": null,
            "max_height": null,
            "max_width": null,
            "min_height": null,
            "min_width": null,
            "object_fit": null,
            "object_position": null,
            "order": null,
            "overflow": null,
            "overflow_x": null,
            "overflow_y": null,
            "padding": null,
            "right": null,
            "top": null,
            "visibility": null,
            "width": null
          }
        },
        "546ae3c3fa924f579cf0bf21c6b74874": {
          "model_module": "@jupyter-widgets/controls",
          "model_module_version": "1.5.0",
          "model_name": "FloatProgressModel",
          "state": {
            "_dom_classes": [],
            "_model_module": "@jupyter-widgets/controls",
            "_model_module_version": "1.5.0",
            "_model_name": "FloatProgressModel",
            "_view_count": null,
            "_view_module": "@jupyter-widgets/controls",
            "_view_module_version": "1.5.0",
            "_view_name": "ProgressView",
            "bar_style": "",
            "description": "",
            "description_tooltip": null,
            "layout": "IPY_MODEL_5469a080f56d40ac95e43fcf4a823d15",
            "max": 39,
            "min": 0,
            "orientation": "horizontal",
            "style": "IPY_MODEL_4f6dc0e45bea4453bbefbf5c5faa6fac",
            "value": 39
          }
        },
        "592d0e2a8eb7459398e6921c73490d63": {
          "model_module": "@jupyter-widgets/controls",
          "model_module_version": "1.5.0",
          "model_name": "HTMLModel",
          "state": {
            "_dom_classes": [],
            "_model_module": "@jupyter-widgets/controls",
            "_model_module_version": "1.5.0",
            "_model_name": "HTMLModel",
            "_view_count": null,
            "_view_module": "@jupyter-widgets/controls",
            "_view_module_version": "1.5.0",
            "_view_name": "HTMLView",
            "description": "",
            "description_tooltip": null,
            "layout": "IPY_MODEL_f27a518a75274e4aa5a249c2462c9880",
            "placeholder": "​",
            "style": "IPY_MODEL_79892c6ab78c4a508fb8a99fc647b117",
            "value": "Sanity Checking DataLoader 0: 100%"
          }
        },
        "5bd21e59502041ef8136249d65446459": {
          "model_module": "@jupyter-widgets/controls",
          "model_module_version": "1.5.0",
          "model_name": "DescriptionStyleModel",
          "state": {
            "_model_module": "@jupyter-widgets/controls",
            "_model_module_version": "1.5.0",
            "_model_name": "DescriptionStyleModel",
            "_view_count": null,
            "_view_module": "@jupyter-widgets/base",
            "_view_module_version": "1.2.0",
            "_view_name": "StyleView",
            "description_width": ""
          }
        },
        "5eadab5c87b44a1485135356aee57fdd": {
          "model_module": "@jupyter-widgets/base",
          "model_module_version": "1.2.0",
          "model_name": "LayoutModel",
          "state": {
            "_model_module": "@jupyter-widgets/base",
            "_model_module_version": "1.2.0",
            "_model_name": "LayoutModel",
            "_view_count": null,
            "_view_module": "@jupyter-widgets/base",
            "_view_module_version": "1.2.0",
            "_view_name": "LayoutView",
            "align_content": null,
            "align_items": null,
            "align_self": null,
            "border": null,
            "bottom": null,
            "display": "inline-flex",
            "flex": null,
            "flex_flow": "row wrap",
            "grid_area": null,
            "grid_auto_columns": null,
            "grid_auto_flow": null,
            "grid_auto_rows": null,
            "grid_column": null,
            "grid_gap": null,
            "grid_row": null,
            "grid_template_areas": null,
            "grid_template_columns": null,
            "grid_template_rows": null,
            "height": null,
            "justify_content": null,
            "justify_items": null,
            "left": null,
            "margin": null,
            "max_height": null,
            "max_width": null,
            "min_height": null,
            "min_width": null,
            "object_fit": null,
            "object_position": null,
            "order": null,
            "overflow": null,
            "overflow_x": null,
            "overflow_y": null,
            "padding": null,
            "right": null,
            "top": null,
            "visibility": "hidden",
            "width": "100%"
          }
        },
        "63adf405642b49b38484bf80e4e475bc": {
          "model_module": "@jupyter-widgets/controls",
          "model_module_version": "1.5.0",
          "model_name": "FloatProgressModel",
          "state": {
            "_dom_classes": [],
            "_model_module": "@jupyter-widgets/controls",
            "_model_module_version": "1.5.0",
            "_model_name": "FloatProgressModel",
            "_view_count": null,
            "_view_module": "@jupyter-widgets/controls",
            "_view_module_version": "1.5.0",
            "_view_name": "ProgressView",
            "bar_style": "success",
            "description": "",
            "description_tooltip": null,
            "layout": "IPY_MODEL_8afca8d487c3438880aa8ae514e2029b",
            "max": 43,
            "min": 0,
            "orientation": "horizontal",
            "style": "IPY_MODEL_d0967935a96b49cf8ed09034eccd4623",
            "value": 43
          }
        },
        "699a6779592e4f0594d31cbf67e27ad6": {
          "model_module": "@jupyter-widgets/controls",
          "model_module_version": "1.5.0",
          "model_name": "HBoxModel",
          "state": {
            "_dom_classes": [],
            "_model_module": "@jupyter-widgets/controls",
            "_model_module_version": "1.5.0",
            "_model_name": "HBoxModel",
            "_view_count": null,
            "_view_module": "@jupyter-widgets/controls",
            "_view_module_version": "1.5.0",
            "_view_name": "HBoxView",
            "box_style": "",
            "children": [
              "IPY_MODEL_d9018f0bbb694c2493a734c22e8f2ce2",
              "IPY_MODEL_546ae3c3fa924f579cf0bf21c6b74874",
              "IPY_MODEL_a3f87cd108204d399866dd6af0abbfce"
            ],
            "layout": "IPY_MODEL_e5df3b8977194397b971200617eee150"
          }
        },
        "70d0a9d29b254e849f5cc93d610b1800": {
          "model_module": "@jupyter-widgets/controls",
          "model_module_version": "1.5.0",
          "model_name": "HBoxModel",
          "state": {
            "_dom_classes": [],
            "_model_module": "@jupyter-widgets/controls",
            "_model_module_version": "1.5.0",
            "_model_name": "HBoxModel",
            "_view_count": null,
            "_view_module": "@jupyter-widgets/controls",
            "_view_module_version": "1.5.0",
            "_view_name": "HBoxView",
            "box_style": "",
            "children": [
              "IPY_MODEL_dc481f88aac0464582126e824b609581",
              "IPY_MODEL_be4e0f5442264f0dba34e57708c9c96f",
              "IPY_MODEL_aca5aa9fd326475b80e7aea0f7f28b77"
            ],
            "layout": "IPY_MODEL_5eadab5c87b44a1485135356aee57fdd"
          }
        },
        "73ea79138823457690e049711b48cb65": {
          "model_module": "@jupyter-widgets/controls",
          "model_module_version": "1.5.0",
          "model_name": "HTMLModel",
          "state": {
            "_dom_classes": [],
            "_model_module": "@jupyter-widgets/controls",
            "_model_module_version": "1.5.0",
            "_model_name": "HTMLModel",
            "_view_count": null,
            "_view_module": "@jupyter-widgets/controls",
            "_view_module_version": "1.5.0",
            "_view_name": "HTMLView",
            "description": "",
            "description_tooltip": null,
            "layout": "IPY_MODEL_ea86126ccee647c89f3b305b7d4ac611",
            "placeholder": "​",
            "style": "IPY_MODEL_4d5fe02696394c95a774df3decb81e86",
            "value": " 332/332 [07:16&lt;00:00,  0.76it/s, v_num=0, val_loss=0.0175, val_acc=0.995]"
          }
        },
        "79892c6ab78c4a508fb8a99fc647b117": {
          "model_module": "@jupyter-widgets/controls",
          "model_module_version": "1.5.0",
          "model_name": "DescriptionStyleModel",
          "state": {
            "_model_module": "@jupyter-widgets/controls",
            "_model_module_version": "1.5.0",
            "_model_name": "DescriptionStyleModel",
            "_view_count": null,
            "_view_module": "@jupyter-widgets/base",
            "_view_module_version": "1.2.0",
            "_view_name": "StyleView",
            "description_width": ""
          }
        },
        "7dae0f75fc954cfdaf177bcc629f188f": {
          "model_module": "@jupyter-widgets/controls",
          "model_module_version": "1.5.0",
          "model_name": "DescriptionStyleModel",
          "state": {
            "_model_module": "@jupyter-widgets/controls",
            "_model_module_version": "1.5.0",
            "_model_name": "DescriptionStyleModel",
            "_view_count": null,
            "_view_module": "@jupyter-widgets/base",
            "_view_module_version": "1.2.0",
            "_view_name": "StyleView",
            "description_width": ""
          }
        },
        "85d8b8d1deb246819f4dbffa0589b4dd": {
          "model_module": "@jupyter-widgets/controls",
          "model_module_version": "1.5.0",
          "model_name": "FloatProgressModel",
          "state": {
            "_dom_classes": [],
            "_model_module": "@jupyter-widgets/controls",
            "_model_module_version": "1.5.0",
            "_model_name": "FloatProgressModel",
            "_view_count": null,
            "_view_module": "@jupyter-widgets/controls",
            "_view_module_version": "1.5.0",
            "_view_name": "ProgressView",
            "bar_style": "",
            "description": "",
            "description_tooltip": null,
            "layout": "IPY_MODEL_10abb5e2ad5c490086281568ad65f2b6",
            "max": 39,
            "min": 0,
            "orientation": "horizontal",
            "style": "IPY_MODEL_166ce8f3f38640ac9519a557bded2dfc",
            "value": 39
          }
        },
        "87319240d116491da7085b8ae42a4b60": {
          "model_module": "@jupyter-widgets/controls",
          "model_module_version": "1.5.0",
          "model_name": "HTMLModel",
          "state": {
            "_dom_classes": [],
            "_model_module": "@jupyter-widgets/controls",
            "_model_module_version": "1.5.0",
            "_model_name": "HTMLModel",
            "_view_count": null,
            "_view_module": "@jupyter-widgets/controls",
            "_view_module_version": "1.5.0",
            "_view_name": "HTMLView",
            "description": "",
            "description_tooltip": null,
            "layout": "IPY_MODEL_b02f8b20875548ef852fc381ab6b4708",
            "placeholder": "​",
            "style": "IPY_MODEL_5bd21e59502041ef8136249d65446459",
            "value": " 43/43 [00:49&lt;00:00,  0.87it/s]"
          }
        },
        "8afca8d487c3438880aa8ae514e2029b": {
          "model_module": "@jupyter-widgets/base",
          "model_module_version": "1.2.0",
          "model_name": "LayoutModel",
          "state": {
            "_model_module": "@jupyter-widgets/base",
            "_model_module_version": "1.2.0",
            "_model_name": "LayoutModel",
            "_view_count": null,
            "_view_module": "@jupyter-widgets/base",
            "_view_module_version": "1.2.0",
            "_view_name": "LayoutView",
            "align_content": null,
            "align_items": null,
            "align_self": null,
            "border": null,
            "bottom": null,
            "display": null,
            "flex": "2",
            "flex_flow": null,
            "grid_area": null,
            "grid_auto_columns": null,
            "grid_auto_flow": null,
            "grid_auto_rows": null,
            "grid_column": null,
            "grid_gap": null,
            "grid_row": null,
            "grid_template_areas": null,
            "grid_template_columns": null,
            "grid_template_rows": null,
            "height": null,
            "justify_content": null,
            "justify_items": null,
            "left": null,
            "margin": null,
            "max_height": null,
            "max_width": null,
            "min_height": null,
            "min_width": null,
            "object_fit": null,
            "object_position": null,
            "order": null,
            "overflow": null,
            "overflow_x": null,
            "overflow_y": null,
            "padding": null,
            "right": null,
            "top": null,
            "visibility": null,
            "width": null
          }
        },
        "8df4fccc5e994ec89e31e07352f609e2": {
          "model_module": "@jupyter-widgets/controls",
          "model_module_version": "1.5.0",
          "model_name": "ProgressStyleModel",
          "state": {
            "_model_module": "@jupyter-widgets/controls",
            "_model_module_version": "1.5.0",
            "_model_name": "ProgressStyleModel",
            "_view_count": null,
            "_view_module": "@jupyter-widgets/base",
            "_view_module_version": "1.2.0",
            "_view_name": "StyleView",
            "bar_color": null,
            "description_width": ""
          }
        },
        "92385b57d100444b878082331c9b5148": {
          "model_module": "@jupyter-widgets/base",
          "model_module_version": "1.2.0",
          "model_name": "LayoutModel",
          "state": {
            "_model_module": "@jupyter-widgets/base",
            "_model_module_version": "1.2.0",
            "_model_name": "LayoutModel",
            "_view_count": null,
            "_view_module": "@jupyter-widgets/base",
            "_view_module_version": "1.2.0",
            "_view_name": "LayoutView",
            "align_content": null,
            "align_items": null,
            "align_self": null,
            "border": null,
            "bottom": null,
            "display": null,
            "flex": "2",
            "flex_flow": null,
            "grid_area": null,
            "grid_auto_columns": null,
            "grid_auto_flow": null,
            "grid_auto_rows": null,
            "grid_column": null,
            "grid_gap": null,
            "grid_row": null,
            "grid_template_areas": null,
            "grid_template_columns": null,
            "grid_template_rows": null,
            "height": null,
            "justify_content": null,
            "justify_items": null,
            "left": null,
            "margin": null,
            "max_height": null,
            "max_width": null,
            "min_height": null,
            "min_width": null,
            "object_fit": null,
            "object_position": null,
            "order": null,
            "overflow": null,
            "overflow_x": null,
            "overflow_y": null,
            "padding": null,
            "right": null,
            "top": null,
            "visibility": null,
            "width": null
          }
        },
        "9257267f869c415a89b82085fdc42124": {
          "model_module": "@jupyter-widgets/controls",
          "model_module_version": "1.5.0",
          "model_name": "FloatProgressModel",
          "state": {
            "_dom_classes": [],
            "_model_module": "@jupyter-widgets/controls",
            "_model_module_version": "1.5.0",
            "_model_name": "FloatProgressModel",
            "_view_count": null,
            "_view_module": "@jupyter-widgets/controls",
            "_view_module_version": "1.5.0",
            "_view_name": "ProgressView",
            "bar_style": "success",
            "description": "",
            "description_tooltip": null,
            "layout": "IPY_MODEL_92385b57d100444b878082331c9b5148",
            "max": 332,
            "min": 0,
            "orientation": "horizontal",
            "style": "IPY_MODEL_0398bf4d5c4d48c9910334aaa64d7035",
            "value": 332
          }
        },
        "969948dbb36244ccb62e0f89ec02684a": {
          "model_module": "@jupyter-widgets/base",
          "model_module_version": "1.2.0",
          "model_name": "LayoutModel",
          "state": {
            "_model_module": "@jupyter-widgets/base",
            "_model_module_version": "1.2.0",
            "_model_name": "LayoutModel",
            "_view_count": null,
            "_view_module": "@jupyter-widgets/base",
            "_view_module_version": "1.2.0",
            "_view_name": "LayoutView",
            "align_content": null,
            "align_items": null,
            "align_self": null,
            "border": null,
            "bottom": null,
            "display": null,
            "flex": null,
            "flex_flow": null,
            "grid_area": null,
            "grid_auto_columns": null,
            "grid_auto_flow": null,
            "grid_auto_rows": null,
            "grid_column": null,
            "grid_gap": null,
            "grid_row": null,
            "grid_template_areas": null,
            "grid_template_columns": null,
            "grid_template_rows": null,
            "height": null,
            "justify_content": null,
            "justify_items": null,
            "left": null,
            "margin": null,
            "max_height": null,
            "max_width": null,
            "min_height": null,
            "min_width": null,
            "object_fit": null,
            "object_position": null,
            "order": null,
            "overflow": null,
            "overflow_x": null,
            "overflow_y": null,
            "padding": null,
            "right": null,
            "top": null,
            "visibility": null,
            "width": null
          }
        },
        "a3f298889495434fa933fa05699aaa50": {
          "model_module": "@jupyter-widgets/controls",
          "model_module_version": "1.5.0",
          "model_name": "DescriptionStyleModel",
          "state": {
            "_model_module": "@jupyter-widgets/controls",
            "_model_module_version": "1.5.0",
            "_model_name": "DescriptionStyleModel",
            "_view_count": null,
            "_view_module": "@jupyter-widgets/base",
            "_view_module_version": "1.2.0",
            "_view_name": "StyleView",
            "description_width": ""
          }
        },
        "a3f87cd108204d399866dd6af0abbfce": {
          "model_module": "@jupyter-widgets/controls",
          "model_module_version": "1.5.0",
          "model_name": "HTMLModel",
          "state": {
            "_dom_classes": [],
            "_model_module": "@jupyter-widgets/controls",
            "_model_module_version": "1.5.0",
            "_model_name": "HTMLModel",
            "_view_count": null,
            "_view_module": "@jupyter-widgets/controls",
            "_view_module_version": "1.5.0",
            "_view_name": "HTMLView",
            "description": "",
            "description_tooltip": null,
            "layout": "IPY_MODEL_49bc0f81fc5147769716790dfb40858a",
            "placeholder": "​",
            "style": "IPY_MODEL_36b821829a484d24a32f340ebe17b066",
            "value": " 39/39 [00:38&lt;00:00,  1.01it/s]"
          }
        },
        "a9730b6b44234fa794583235fd70abb9": {
          "model_module": "@jupyter-widgets/controls",
          "model_module_version": "1.5.0",
          "model_name": "DescriptionStyleModel",
          "state": {
            "_model_module": "@jupyter-widgets/controls",
            "_model_module_version": "1.5.0",
            "_model_name": "DescriptionStyleModel",
            "_view_count": null,
            "_view_module": "@jupyter-widgets/base",
            "_view_module_version": "1.2.0",
            "_view_name": "StyleView",
            "description_width": ""
          }
        },
        "ac6e0b37500148ae8314cdb55a1e9150": {
          "model_module": "@jupyter-widgets/base",
          "model_module_version": "1.2.0",
          "model_name": "LayoutModel",
          "state": {
            "_model_module": "@jupyter-widgets/base",
            "_model_module_version": "1.2.0",
            "_model_name": "LayoutModel",
            "_view_count": null,
            "_view_module": "@jupyter-widgets/base",
            "_view_module_version": "1.2.0",
            "_view_name": "LayoutView",
            "align_content": null,
            "align_items": null,
            "align_self": null,
            "border": null,
            "bottom": null,
            "display": "inline-flex",
            "flex": null,
            "flex_flow": "row wrap",
            "grid_area": null,
            "grid_auto_columns": null,
            "grid_auto_flow": null,
            "grid_auto_rows": null,
            "grid_column": null,
            "grid_gap": null,
            "grid_row": null,
            "grid_template_areas": null,
            "grid_template_columns": null,
            "grid_template_rows": null,
            "height": null,
            "justify_content": null,
            "justify_items": null,
            "left": null,
            "margin": null,
            "max_height": null,
            "max_width": null,
            "min_height": null,
            "min_width": null,
            "object_fit": null,
            "object_position": null,
            "order": null,
            "overflow": null,
            "overflow_x": null,
            "overflow_y": null,
            "padding": null,
            "right": null,
            "top": null,
            "visibility": "hidden",
            "width": "100%"
          }
        },
        "aca5aa9fd326475b80e7aea0f7f28b77": {
          "model_module": "@jupyter-widgets/controls",
          "model_module_version": "1.5.0",
          "model_name": "HTMLModel",
          "state": {
            "_dom_classes": [],
            "_model_module": "@jupyter-widgets/controls",
            "_model_module_version": "1.5.0",
            "_model_name": "HTMLModel",
            "_view_count": null,
            "_view_module": "@jupyter-widgets/controls",
            "_view_module_version": "1.5.0",
            "_view_name": "HTMLView",
            "description": "",
            "description_tooltip": null,
            "layout": "IPY_MODEL_e98f906c9bc6429da2c89a0647481a13",
            "placeholder": "​",
            "style": "IPY_MODEL_7dae0f75fc954cfdaf177bcc629f188f",
            "value": " 39/39 [00:34&lt;00:00,  1.12it/s]"
          }
        },
        "b02f8b20875548ef852fc381ab6b4708": {
          "model_module": "@jupyter-widgets/base",
          "model_module_version": "1.2.0",
          "model_name": "LayoutModel",
          "state": {
            "_model_module": "@jupyter-widgets/base",
            "_model_module_version": "1.2.0",
            "_model_name": "LayoutModel",
            "_view_count": null,
            "_view_module": "@jupyter-widgets/base",
            "_view_module_version": "1.2.0",
            "_view_name": "LayoutView",
            "align_content": null,
            "align_items": null,
            "align_self": null,
            "border": null,
            "bottom": null,
            "display": null,
            "flex": null,
            "flex_flow": null,
            "grid_area": null,
            "grid_auto_columns": null,
            "grid_auto_flow": null,
            "grid_auto_rows": null,
            "grid_column": null,
            "grid_gap": null,
            "grid_row": null,
            "grid_template_areas": null,
            "grid_template_columns": null,
            "grid_template_rows": null,
            "height": null,
            "justify_content": null,
            "justify_items": null,
            "left": null,
            "margin": null,
            "max_height": null,
            "max_width": null,
            "min_height": null,
            "min_width": null,
            "object_fit": null,
            "object_position": null,
            "order": null,
            "overflow": null,
            "overflow_x": null,
            "overflow_y": null,
            "padding": null,
            "right": null,
            "top": null,
            "visibility": null,
            "width": null
          }
        },
        "b7ae9b0d8cea4b4aa0ab839f7650197d": {
          "model_module": "@jupyter-widgets/controls",
          "model_module_version": "1.5.0",
          "model_name": "HBoxModel",
          "state": {
            "_dom_classes": [],
            "_model_module": "@jupyter-widgets/controls",
            "_model_module_version": "1.5.0",
            "_model_name": "HBoxModel",
            "_view_count": null,
            "_view_module": "@jupyter-widgets/controls",
            "_view_module_version": "1.5.0",
            "_view_name": "HBoxView",
            "box_style": "",
            "children": [
              "IPY_MODEL_c8e6922704a94718bccb02954df51039",
              "IPY_MODEL_9257267f869c415a89b82085fdc42124",
              "IPY_MODEL_73ea79138823457690e049711b48cb65"
            ],
            "layout": "IPY_MODEL_d19ef7f9e00c4fb8a80378ffd0b6374b"
          }
        },
        "be4e0f5442264f0dba34e57708c9c96f": {
          "model_module": "@jupyter-widgets/controls",
          "model_module_version": "1.5.0",
          "model_name": "FloatProgressModel",
          "state": {
            "_dom_classes": [],
            "_model_module": "@jupyter-widgets/controls",
            "_model_module_version": "1.5.0",
            "_model_name": "FloatProgressModel",
            "_view_count": null,
            "_view_module": "@jupyter-widgets/controls",
            "_view_module_version": "1.5.0",
            "_view_name": "ProgressView",
            "bar_style": "",
            "description": "",
            "description_tooltip": null,
            "layout": "IPY_MODEL_c9bacdab2835489dac360f09319e465c",
            "max": 39,
            "min": 0,
            "orientation": "horizontal",
            "style": "IPY_MODEL_8df4fccc5e994ec89e31e07352f609e2",
            "value": 39
          }
        },
        "c63ee96233044cc6884300b7e844c4d1": {
          "model_module": "@jupyter-widgets/controls",
          "model_module_version": "1.5.0",
          "model_name": "HTMLModel",
          "state": {
            "_dom_classes": [],
            "_model_module": "@jupyter-widgets/controls",
            "_model_module_version": "1.5.0",
            "_model_name": "HTMLModel",
            "_view_count": null,
            "_view_module": "@jupyter-widgets/controls",
            "_view_module_version": "1.5.0",
            "_view_name": "HTMLView",
            "description": "",
            "description_tooltip": null,
            "layout": "IPY_MODEL_e34973fb4bf241ccafd6e367959e6df2",
            "placeholder": "​",
            "style": "IPY_MODEL_4fcfea3e5b914095a6fe225a1e767f57",
            "value": "Testing DataLoader 0: 100%"
          }
        },
        "c8e6922704a94718bccb02954df51039": {
          "model_module": "@jupyter-widgets/controls",
          "model_module_version": "1.5.0",
          "model_name": "HTMLModel",
          "state": {
            "_dom_classes": [],
            "_model_module": "@jupyter-widgets/controls",
            "_model_module_version": "1.5.0",
            "_model_name": "HTMLModel",
            "_view_count": null,
            "_view_module": "@jupyter-widgets/controls",
            "_view_module_version": "1.5.0",
            "_view_name": "HTMLView",
            "description": "",
            "description_tooltip": null,
            "layout": "IPY_MODEL_2e9632f7ac8e4d77a7ae2870807e9b6d",
            "placeholder": "​",
            "style": "IPY_MODEL_313f3ea965354449a74bd2cc2bd45306",
            "value": "Epoch 2: 100%"
          }
        },
        "c9bacdab2835489dac360f09319e465c": {
          "model_module": "@jupyter-widgets/base",
          "model_module_version": "1.2.0",
          "model_name": "LayoutModel",
          "state": {
            "_model_module": "@jupyter-widgets/base",
            "_model_module_version": "1.2.0",
            "_model_name": "LayoutModel",
            "_view_count": null,
            "_view_module": "@jupyter-widgets/base",
            "_view_module_version": "1.2.0",
            "_view_name": "LayoutView",
            "align_content": null,
            "align_items": null,
            "align_self": null,
            "border": null,
            "bottom": null,
            "display": null,
            "flex": "2",
            "flex_flow": null,
            "grid_area": null,
            "grid_auto_columns": null,
            "grid_auto_flow": null,
            "grid_auto_rows": null,
            "grid_column": null,
            "grid_gap": null,
            "grid_row": null,
            "grid_template_areas": null,
            "grid_template_columns": null,
            "grid_template_rows": null,
            "height": null,
            "justify_content": null,
            "justify_items": null,
            "left": null,
            "margin": null,
            "max_height": null,
            "max_width": null,
            "min_height": null,
            "min_width": null,
            "object_fit": null,
            "object_position": null,
            "order": null,
            "overflow": null,
            "overflow_x": null,
            "overflow_y": null,
            "padding": null,
            "right": null,
            "top": null,
            "visibility": null,
            "width": null
          }
        },
        "ce168fc8b5694891876e12866441fb71": {
          "model_module": "@jupyter-widgets/controls",
          "model_module_version": "1.5.0",
          "model_name": "ProgressStyleModel",
          "state": {
            "_model_module": "@jupyter-widgets/controls",
            "_model_module_version": "1.5.0",
            "_model_name": "ProgressStyleModel",
            "_view_count": null,
            "_view_module": "@jupyter-widgets/base",
            "_view_module_version": "1.2.0",
            "_view_name": "StyleView",
            "bar_color": null,
            "description_width": ""
          }
        },
        "cfd68146305e4429951ea34b4719daec": {
          "model_module": "@jupyter-widgets/controls",
          "model_module_version": "1.5.0",
          "model_name": "DescriptionStyleModel",
          "state": {
            "_model_module": "@jupyter-widgets/controls",
            "_model_module_version": "1.5.0",
            "_model_name": "DescriptionStyleModel",
            "_view_count": null,
            "_view_module": "@jupyter-widgets/base",
            "_view_module_version": "1.2.0",
            "_view_name": "StyleView",
            "description_width": ""
          }
        },
        "d0967935a96b49cf8ed09034eccd4623": {
          "model_module": "@jupyter-widgets/controls",
          "model_module_version": "1.5.0",
          "model_name": "ProgressStyleModel",
          "state": {
            "_model_module": "@jupyter-widgets/controls",
            "_model_module_version": "1.5.0",
            "_model_name": "ProgressStyleModel",
            "_view_count": null,
            "_view_module": "@jupyter-widgets/base",
            "_view_module_version": "1.2.0",
            "_view_name": "StyleView",
            "bar_color": null,
            "description_width": ""
          }
        },
        "d19ef7f9e00c4fb8a80378ffd0b6374b": {
          "model_module": "@jupyter-widgets/base",
          "model_module_version": "1.2.0",
          "model_name": "LayoutModel",
          "state": {
            "_model_module": "@jupyter-widgets/base",
            "_model_module_version": "1.2.0",
            "_model_name": "LayoutModel",
            "_view_count": null,
            "_view_module": "@jupyter-widgets/base",
            "_view_module_version": "1.2.0",
            "_view_name": "LayoutView",
            "align_content": null,
            "align_items": null,
            "align_self": null,
            "border": null,
            "bottom": null,
            "display": "inline-flex",
            "flex": null,
            "flex_flow": "row wrap",
            "grid_area": null,
            "grid_auto_columns": null,
            "grid_auto_flow": null,
            "grid_auto_rows": null,
            "grid_column": null,
            "grid_gap": null,
            "grid_row": null,
            "grid_template_areas": null,
            "grid_template_columns": null,
            "grid_template_rows": null,
            "height": null,
            "justify_content": null,
            "justify_items": null,
            "left": null,
            "margin": null,
            "max_height": null,
            "max_width": null,
            "min_height": null,
            "min_width": null,
            "object_fit": null,
            "object_position": null,
            "order": null,
            "overflow": null,
            "overflow_x": null,
            "overflow_y": null,
            "padding": null,
            "right": null,
            "top": null,
            "visibility": null,
            "width": "100%"
          }
        },
        "d8da9e3802be4b7cb32f836442e37886": {
          "model_module": "@jupyter-widgets/base",
          "model_module_version": "1.2.0",
          "model_name": "LayoutModel",
          "state": {
            "_model_module": "@jupyter-widgets/base",
            "_model_module_version": "1.2.0",
            "_model_name": "LayoutModel",
            "_view_count": null,
            "_view_module": "@jupyter-widgets/base",
            "_view_module_version": "1.2.0",
            "_view_name": "LayoutView",
            "align_content": null,
            "align_items": null,
            "align_self": null,
            "border": null,
            "bottom": null,
            "display": null,
            "flex": "2",
            "flex_flow": null,
            "grid_area": null,
            "grid_auto_columns": null,
            "grid_auto_flow": null,
            "grid_auto_rows": null,
            "grid_column": null,
            "grid_gap": null,
            "grid_row": null,
            "grid_template_areas": null,
            "grid_template_columns": null,
            "grid_template_rows": null,
            "height": null,
            "justify_content": null,
            "justify_items": null,
            "left": null,
            "margin": null,
            "max_height": null,
            "max_width": null,
            "min_height": null,
            "min_width": null,
            "object_fit": null,
            "object_position": null,
            "order": null,
            "overflow": null,
            "overflow_x": null,
            "overflow_y": null,
            "padding": null,
            "right": null,
            "top": null,
            "visibility": null,
            "width": null
          }
        },
        "d9018f0bbb694c2493a734c22e8f2ce2": {
          "model_module": "@jupyter-widgets/controls",
          "model_module_version": "1.5.0",
          "model_name": "HTMLModel",
          "state": {
            "_dom_classes": [],
            "_model_module": "@jupyter-widgets/controls",
            "_model_module_version": "1.5.0",
            "_model_name": "HTMLModel",
            "_view_count": null,
            "_view_module": "@jupyter-widgets/controls",
            "_view_module_version": "1.5.0",
            "_view_name": "HTMLView",
            "description": "",
            "description_tooltip": null,
            "layout": "IPY_MODEL_366fd25b16f744a88e2c9fd95e676b38",
            "placeholder": "​",
            "style": "IPY_MODEL_a9730b6b44234fa794583235fd70abb9",
            "value": "Validation DataLoader 0: 100%"
          }
        },
        "dc481f88aac0464582126e824b609581": {
          "model_module": "@jupyter-widgets/controls",
          "model_module_version": "1.5.0",
          "model_name": "HTMLModel",
          "state": {
            "_dom_classes": [],
            "_model_module": "@jupyter-widgets/controls",
            "_model_module_version": "1.5.0",
            "_model_name": "HTMLModel",
            "_view_count": null,
            "_view_module": "@jupyter-widgets/controls",
            "_view_module_version": "1.5.0",
            "_view_name": "HTMLView",
            "description": "",
            "description_tooltip": null,
            "layout": "IPY_MODEL_f30d749678d94fb8b6c991da2634c1f1",
            "placeholder": "​",
            "style": "IPY_MODEL_a3f298889495434fa933fa05699aaa50",
            "value": "Validation DataLoader 0: 100%"
          }
        },
        "dd92cb7fdd054541add5a391278597a3": {
          "model_module": "@jupyter-widgets/controls",
          "model_module_version": "1.5.0",
          "model_name": "DescriptionStyleModel",
          "state": {
            "_model_module": "@jupyter-widgets/controls",
            "_model_module_version": "1.5.0",
            "_model_name": "DescriptionStyleModel",
            "_view_count": null,
            "_view_module": "@jupyter-widgets/base",
            "_view_module_version": "1.2.0",
            "_view_name": "StyleView",
            "description_width": ""
          }
        },
        "e34973fb4bf241ccafd6e367959e6df2": {
          "model_module": "@jupyter-widgets/base",
          "model_module_version": "1.2.0",
          "model_name": "LayoutModel",
          "state": {
            "_model_module": "@jupyter-widgets/base",
            "_model_module_version": "1.2.0",
            "_model_name": "LayoutModel",
            "_view_count": null,
            "_view_module": "@jupyter-widgets/base",
            "_view_module_version": "1.2.0",
            "_view_name": "LayoutView",
            "align_content": null,
            "align_items": null,
            "align_self": null,
            "border": null,
            "bottom": null,
            "display": null,
            "flex": null,
            "flex_flow": null,
            "grid_area": null,
            "grid_auto_columns": null,
            "grid_auto_flow": null,
            "grid_auto_rows": null,
            "grid_column": null,
            "grid_gap": null,
            "grid_row": null,
            "grid_template_areas": null,
            "grid_template_columns": null,
            "grid_template_rows": null,
            "height": null,
            "justify_content": null,
            "justify_items": null,
            "left": null,
            "margin": null,
            "max_height": null,
            "max_width": null,
            "min_height": null,
            "min_width": null,
            "object_fit": null,
            "object_position": null,
            "order": null,
            "overflow": null,
            "overflow_x": null,
            "overflow_y": null,
            "padding": null,
            "right": null,
            "top": null,
            "visibility": null,
            "width": null
          }
        },
        "e5df3b8977194397b971200617eee150": {
          "model_module": "@jupyter-widgets/base",
          "model_module_version": "1.2.0",
          "model_name": "LayoutModel",
          "state": {
            "_model_module": "@jupyter-widgets/base",
            "_model_module_version": "1.2.0",
            "_model_name": "LayoutModel",
            "_view_count": null,
            "_view_module": "@jupyter-widgets/base",
            "_view_module_version": "1.2.0",
            "_view_name": "LayoutView",
            "align_content": null,
            "align_items": null,
            "align_self": null,
            "border": null,
            "bottom": null,
            "display": "inline-flex",
            "flex": null,
            "flex_flow": "row wrap",
            "grid_area": null,
            "grid_auto_columns": null,
            "grid_auto_flow": null,
            "grid_auto_rows": null,
            "grid_column": null,
            "grid_gap": null,
            "grid_row": null,
            "grid_template_areas": null,
            "grid_template_columns": null,
            "grid_template_rows": null,
            "height": null,
            "justify_content": null,
            "justify_items": null,
            "left": null,
            "margin": null,
            "max_height": null,
            "max_width": null,
            "min_height": null,
            "min_width": null,
            "object_fit": null,
            "object_position": null,
            "order": null,
            "overflow": null,
            "overflow_x": null,
            "overflow_y": null,
            "padding": null,
            "right": null,
            "top": null,
            "visibility": "hidden",
            "width": "100%"
          }
        },
        "e5f16e98abbc48fdaf7f5d53c62cb04c": {
          "model_module": "@jupyter-widgets/base",
          "model_module_version": "1.2.0",
          "model_name": "LayoutModel",
          "state": {
            "_model_module": "@jupyter-widgets/base",
            "_model_module_version": "1.2.0",
            "_model_name": "LayoutModel",
            "_view_count": null,
            "_view_module": "@jupyter-widgets/base",
            "_view_module_version": "1.2.0",
            "_view_name": "LayoutView",
            "align_content": null,
            "align_items": null,
            "align_self": null,
            "border": null,
            "bottom": null,
            "display": null,
            "flex": null,
            "flex_flow": null,
            "grid_area": null,
            "grid_auto_columns": null,
            "grid_auto_flow": null,
            "grid_auto_rows": null,
            "grid_column": null,
            "grid_gap": null,
            "grid_row": null,
            "grid_template_areas": null,
            "grid_template_columns": null,
            "grid_template_rows": null,
            "height": null,
            "justify_content": null,
            "justify_items": null,
            "left": null,
            "margin": null,
            "max_height": null,
            "max_width": null,
            "min_height": null,
            "min_width": null,
            "object_fit": null,
            "object_position": null,
            "order": null,
            "overflow": null,
            "overflow_x": null,
            "overflow_y": null,
            "padding": null,
            "right": null,
            "top": null,
            "visibility": null,
            "width": null
          }
        },
        "e8497ed697ef4fc4a9c4d33b4b5c814d": {
          "model_module": "@jupyter-widgets/controls",
          "model_module_version": "1.5.0",
          "model_name": "HTMLModel",
          "state": {
            "_dom_classes": [],
            "_model_module": "@jupyter-widgets/controls",
            "_model_module_version": "1.5.0",
            "_model_name": "HTMLModel",
            "_view_count": null,
            "_view_module": "@jupyter-widgets/controls",
            "_view_module_version": "1.5.0",
            "_view_name": "HTMLView",
            "description": "",
            "description_tooltip": null,
            "layout": "IPY_MODEL_e5f16e98abbc48fdaf7f5d53c62cb04c",
            "placeholder": "​",
            "style": "IPY_MODEL_dd92cb7fdd054541add5a391278597a3",
            "value": " 2/2 [00:05&lt;00:00,  0.36it/s]"
          }
        },
        "e98f906c9bc6429da2c89a0647481a13": {
          "model_module": "@jupyter-widgets/base",
          "model_module_version": "1.2.0",
          "model_name": "LayoutModel",
          "state": {
            "_model_module": "@jupyter-widgets/base",
            "_model_module_version": "1.2.0",
            "_model_name": "LayoutModel",
            "_view_count": null,
            "_view_module": "@jupyter-widgets/base",
            "_view_module_version": "1.2.0",
            "_view_name": "LayoutView",
            "align_content": null,
            "align_items": null,
            "align_self": null,
            "border": null,
            "bottom": null,
            "display": null,
            "flex": null,
            "flex_flow": null,
            "grid_area": null,
            "grid_auto_columns": null,
            "grid_auto_flow": null,
            "grid_auto_rows": null,
            "grid_column": null,
            "grid_gap": null,
            "grid_row": null,
            "grid_template_areas": null,
            "grid_template_columns": null,
            "grid_template_rows": null,
            "height": null,
            "justify_content": null,
            "justify_items": null,
            "left": null,
            "margin": null,
            "max_height": null,
            "max_width": null,
            "min_height": null,
            "min_width": null,
            "object_fit": null,
            "object_position": null,
            "order": null,
            "overflow": null,
            "overflow_x": null,
            "overflow_y": null,
            "padding": null,
            "right": null,
            "top": null,
            "visibility": null,
            "width": null
          }
        },
        "e9a789e0272c4a3188745d1dd969480a": {
          "model_module": "@jupyter-widgets/controls",
          "model_module_version": "1.5.0",
          "model_name": "DescriptionStyleModel",
          "state": {
            "_model_module": "@jupyter-widgets/controls",
            "_model_module_version": "1.5.0",
            "_model_name": "DescriptionStyleModel",
            "_view_count": null,
            "_view_module": "@jupyter-widgets/base",
            "_view_module_version": "1.2.0",
            "_view_name": "StyleView",
            "description_width": ""
          }
        },
        "ea86126ccee647c89f3b305b7d4ac611": {
          "model_module": "@jupyter-widgets/base",
          "model_module_version": "1.2.0",
          "model_name": "LayoutModel",
          "state": {
            "_model_module": "@jupyter-widgets/base",
            "_model_module_version": "1.2.0",
            "_model_name": "LayoutModel",
            "_view_count": null,
            "_view_module": "@jupyter-widgets/base",
            "_view_module_version": "1.2.0",
            "_view_name": "LayoutView",
            "align_content": null,
            "align_items": null,
            "align_self": null,
            "border": null,
            "bottom": null,
            "display": null,
            "flex": null,
            "flex_flow": null,
            "grid_area": null,
            "grid_auto_columns": null,
            "grid_auto_flow": null,
            "grid_auto_rows": null,
            "grid_column": null,
            "grid_gap": null,
            "grid_row": null,
            "grid_template_areas": null,
            "grid_template_columns": null,
            "grid_template_rows": null,
            "height": null,
            "justify_content": null,
            "justify_items": null,
            "left": null,
            "margin": null,
            "max_height": null,
            "max_width": null,
            "min_height": null,
            "min_width": null,
            "object_fit": null,
            "object_position": null,
            "order": null,
            "overflow": null,
            "overflow_x": null,
            "overflow_y": null,
            "padding": null,
            "right": null,
            "top": null,
            "visibility": null,
            "width": null
          }
        },
        "f27a518a75274e4aa5a249c2462c9880": {
          "model_module": "@jupyter-widgets/base",
          "model_module_version": "1.2.0",
          "model_name": "LayoutModel",
          "state": {
            "_model_module": "@jupyter-widgets/base",
            "_model_module_version": "1.2.0",
            "_model_name": "LayoutModel",
            "_view_count": null,
            "_view_module": "@jupyter-widgets/base",
            "_view_module_version": "1.2.0",
            "_view_name": "LayoutView",
            "align_content": null,
            "align_items": null,
            "align_self": null,
            "border": null,
            "bottom": null,
            "display": null,
            "flex": null,
            "flex_flow": null,
            "grid_area": null,
            "grid_auto_columns": null,
            "grid_auto_flow": null,
            "grid_auto_rows": null,
            "grid_column": null,
            "grid_gap": null,
            "grid_row": null,
            "grid_template_areas": null,
            "grid_template_columns": null,
            "grid_template_rows": null,
            "height": null,
            "justify_content": null,
            "justify_items": null,
            "left": null,
            "margin": null,
            "max_height": null,
            "max_width": null,
            "min_height": null,
            "min_width": null,
            "object_fit": null,
            "object_position": null,
            "order": null,
            "overflow": null,
            "overflow_x": null,
            "overflow_y": null,
            "padding": null,
            "right": null,
            "top": null,
            "visibility": null,
            "width": null
          }
        },
        "f30d749678d94fb8b6c991da2634c1f1": {
          "model_module": "@jupyter-widgets/base",
          "model_module_version": "1.2.0",
          "model_name": "LayoutModel",
          "state": {
            "_model_module": "@jupyter-widgets/base",
            "_model_module_version": "1.2.0",
            "_model_name": "LayoutModel",
            "_view_count": null,
            "_view_module": "@jupyter-widgets/base",
            "_view_module_version": "1.2.0",
            "_view_name": "LayoutView",
            "align_content": null,
            "align_items": null,
            "align_self": null,
            "border": null,
            "bottom": null,
            "display": null,
            "flex": null,
            "flex_flow": null,
            "grid_area": null,
            "grid_auto_columns": null,
            "grid_auto_flow": null,
            "grid_auto_rows": null,
            "grid_column": null,
            "grid_gap": null,
            "grid_row": null,
            "grid_template_areas": null,
            "grid_template_columns": null,
            "grid_template_rows": null,
            "height": null,
            "justify_content": null,
            "justify_items": null,
            "left": null,
            "margin": null,
            "max_height": null,
            "max_width": null,
            "min_height": null,
            "min_width": null,
            "object_fit": null,
            "object_position": null,
            "order": null,
            "overflow": null,
            "overflow_x": null,
            "overflow_y": null,
            "padding": null,
            "right": null,
            "top": null,
            "visibility": null,
            "width": null
          }
        },
        "f9e0b099d0ef4a8e82b112e234753fcc": {
          "model_module": "@jupyter-widgets/controls",
          "model_module_version": "1.5.0",
          "model_name": "HTMLModel",
          "state": {
            "_dom_classes": [],
            "_model_module": "@jupyter-widgets/controls",
            "_model_module_version": "1.5.0",
            "_model_name": "HTMLModel",
            "_view_count": null,
            "_view_module": "@jupyter-widgets/controls",
            "_view_module_version": "1.5.0",
            "_view_name": "HTMLView",
            "description": "",
            "description_tooltip": null,
            "layout": "IPY_MODEL_969948dbb36244ccb62e0f89ec02684a",
            "placeholder": "​",
            "style": "IPY_MODEL_cfd68146305e4429951ea34b4719daec",
            "value": "Validation DataLoader 0: 100%"
          }
        },
        "ffcf5566f4614cdb927de4d4ae37d183": {
          "model_module": "@jupyter-widgets/controls",
          "model_module_version": "1.5.0",
          "model_name": "HBoxModel",
          "state": {
            "_dom_classes": [],
            "_model_module": "@jupyter-widgets/controls",
            "_model_module_version": "1.5.0",
            "_model_name": "HBoxModel",
            "_view_count": null,
            "_view_module": "@jupyter-widgets/controls",
            "_view_module_version": "1.5.0",
            "_view_name": "HBoxView",
            "box_style": "",
            "children": [
              "IPY_MODEL_592d0e2a8eb7459398e6921c73490d63",
              "IPY_MODEL_2dd877d7504d41e2be77b347667f0679",
              "IPY_MODEL_e8497ed697ef4fc4a9c4d33b4b5c814d"
            ],
            "layout": "IPY_MODEL_ac6e0b37500148ae8314cdb55a1e9150"
          }
        }
      }
    }
  },
  "nbformat": 4,
  "nbformat_minor": 0
}
